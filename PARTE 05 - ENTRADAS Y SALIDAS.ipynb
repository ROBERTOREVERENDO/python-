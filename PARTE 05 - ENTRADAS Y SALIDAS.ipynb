{
 "cells": [
  {
   "cell_type": "markdown",
   "metadata": {},
   "source": [
    "# PARTE 5: ENTRADAS Y SALIDAS"
   ]
  },
  {
   "cell_type": "markdown",
   "metadata": {},
   "source": [
    "## PARTE 5.1: ENTRADAS\n",
    "\n",
    "* El input es siempre de tipo dato \"CADENA\""
   ]
  },
  {
   "cell_type": "code",
   "execution_count": 1,
   "metadata": {},
   "outputs": [
    {
     "name": "stdout",
     "output_type": "stream",
     "text": [
      "Ingresa tu nombre: BENJAMIN\n"
     ]
    }
   ],
   "source": [
    "#INGRESAR CADENA\n",
    "ENTRADA_CAD = input(\"Ingresa tu nombre: \")"
   ]
  },
  {
   "cell_type": "code",
   "execution_count": 5,
   "metadata": {},
   "outputs": [
    {
     "name": "stdout",
     "output_type": "stream",
     "text": [
      "Ingresa tu edad: 27\n"
     ]
    }
   ],
   "source": [
    "#INGRESAR ENTERO\n",
    "ENTRADA_NUM = int(input(\"Ingresa tu edad: \"))"
   ]
  },
  {
   "cell_type": "code",
   "execution_count": 8,
   "metadata": {},
   "outputs": [
    {
     "name": "stdout",
     "output_type": "stream",
     "text": [
      "Ingresa tu nota: 18.3\n"
     ]
    }
   ],
   "source": [
    "#INGRESAR DECIMAL\n",
    "ENTRADA_DEC = float(input(\"Ingresa tu nota: \"))"
   ]
  },
  {
   "cell_type": "markdown",
   "metadata": {},
   "source": [
    "## PARTE 5.2: SALIDAS"
   ]
  },
  {
   "cell_type": "code",
   "execution_count": 13,
   "metadata": {},
   "outputs": [
    {
     "name": "stdout",
     "output_type": "stream",
     "text": [
      "El número es 27 y el decimal es 3.14 además el texto es MUNDO\n",
      "El número es 27 y el decimal es 3.14 además el texto es MUNDO\n"
     ]
    }
   ],
   "source": [
    "ENTERO = 27\n",
    "DECIMAL = 3.14\n",
    "CADENA = \"MUNDO\"\n",
    "\n",
    "print(\"El número es\",ENTERO,\"y el decimal es\",DECIMAL,\"además el texto es\",CADENA)\n",
    "print(\"El número es {} y el decimal es {} además el texto es {}\".format(ENTERO,DECIMAL,CADENA))"
   ]
  },
  {
   "cell_type": "markdown",
   "metadata": {},
   "source": [
    "#### FORMATEO MEDIANTE ÍNDICES"
   ]
  },
  {
   "cell_type": "code",
   "execution_count": 19,
   "metadata": {},
   "outputs": [
    {
     "name": "stdout",
     "output_type": "stream",
     "text": [
      "Hola soy BENJAMÍN y te quiero decir ¿QUÉ TAL?\n",
      "Hola soy BENJAMÍN y te quiero decir ¿QUÉ TAL?\n",
      "Hola soy ¿QUÉ TAL? y te quiero decir BENJAMÍN\n",
      "Hola soy BENJAMÍN y te quiero decir ¿QUÉ TAL?\n",
      "Hola soy BENJAMÍN y te quiero decir BENJAMÍN\n"
     ]
    }
   ],
   "source": [
    "C1 = \"BENJAMÍN\"\n",
    "C2 = \"¿QUÉ TAL?\"\n",
    "\n",
    "print(\"Hola soy\",C1,\"y te quiero decir\",C2)\n",
    "print(\"Hola soy {} y te quiero decir {}\".format(C1,C2))\n",
    "print(\"Hola soy {1} y te quiero decir {0}\".format(C1,C2))\n",
    "print(\"Hola soy {0} y te quiero decir {1}\".format(C1,C2))\n",
    "print(\"Hola soy {0} y te quiero decir {0}\".format(C1,C2))"
   ]
  },
  {
   "cell_type": "markdown",
   "metadata": {},
   "source": [
    "#### FORMATEO MEDIANTE CLAVES"
   ]
  },
  {
   "cell_type": "code",
   "execution_count": 23,
   "metadata": {},
   "outputs": [
    {
     "name": "stdout",
     "output_type": "stream",
     "text": [
      "Hola soy BENJAMÍN y te quiero decir ¿QUÉ TAL?\n",
      "Hola soy BENJAMÍN y te quiero decir ¿QUÉ TAL?\n",
      "Hola soy ¿QUÉ TAL? y te quiero decir BENJAMÍN\n",
      "Hola soy BENJAMÍN y te quiero decir BENJAMÍN\n",
      "Hola soy ¿QUÉ TAL? y te quiero decir ¿QUÉ TAL?\n"
     ]
    }
   ],
   "source": [
    "C1 = \"BENJAMÍN\"\n",
    "C2 = \"¿QUÉ TAL?\"\n",
    "\n",
    "print(\"Hola soy\",C1,\"y te quiero decir\",C2)\n",
    "#print(\"Hola soy {} y te quiero decir {}\".format(NOM = C1, SAL = C2)) ERROR\n",
    "print(\"Hola soy {NOM} y te quiero decir {SAL}\".format(NOM = C1, SAL = C2))\n",
    "print(\"Hola soy {SAL} y te quiero decir {NOM}\".format(NOM = C1, SAL = C2))\n",
    "print(\"Hola soy {NOM} y te quiero decir {NOM}\".format(NOM = C1, SAL = C2))\n",
    "print(\"Hola soy {SAL} y te quiero decir {SAL}\".format(NOM = C1, SAL = C2))"
   ]
  },
  {
   "cell_type": "markdown",
   "metadata": {},
   "source": [
    "#### ALINEACIÓN"
   ]
  },
  {
   "cell_type": "code",
   "execution_count": 26,
   "metadata": {},
   "outputs": [
    {
     "name": "stdout",
     "output_type": "stream",
     "text": [
      "HOLA MUNDO\n",
      "                                                            HOLA MUNDO\n"
     ]
    }
   ],
   "source": [
    "#ALINEAR A LA DERECHA EN \"N\" CARACTERES\n",
    "print(\"HOLA MUNDO\")\n",
    "print(\"{:>70}\".format(\"HOLA MUNDO\"))"
   ]
  },
  {
   "cell_type": "code",
   "execution_count": 27,
   "metadata": {},
   "outputs": [
    {
     "name": "stdout",
     "output_type": "stream",
     "text": [
      "HOLA MUNDO\n",
      "HOLA MUNDO                                                            \n"
     ]
    }
   ],
   "source": [
    "#ALINEAR A LA IZQUIERDA EN \"N\" CARACTERES\n",
    "print(\"HOLA MUNDO\")\n",
    "print(\"{:<70}\".format(\"HOLA MUNDO\"))"
   ]
  },
  {
   "cell_type": "code",
   "execution_count": 28,
   "metadata": {},
   "outputs": [
    {
     "name": "stdout",
     "output_type": "stream",
     "text": [
      "HOLA MUNDO\n",
      "                              HOLA MUNDO                              \n"
     ]
    }
   ],
   "source": [
    "#ALINEAR AL CENTRO EN \"N\" CARACTERES \n",
    "print(\"HOLA MUNDO\")\n",
    "print(\"{:^70}\".format(\"HOLA MUNDO\"))"
   ]
  },
  {
   "cell_type": "markdown",
   "metadata": {},
   "source": [
    "#### TRUNCAMIENTO"
   ]
  },
  {
   "cell_type": "code",
   "execution_count": 33,
   "metadata": {},
   "outputs": [
    {
     "name": "stdout",
     "output_type": "stream",
     "text": [
      "HOLA MUNDO\n",
      "HOLA MU\n"
     ]
    }
   ],
   "source": [
    "#TRUNCAMIENTO EN \"N\" CARACTERES \n",
    "print(\"HOLA MUNDO\")\n",
    "print(\"{:.7}\".format(\"HOLA MUNDO\"))"
   ]
  },
  {
   "cell_type": "markdown",
   "metadata": {},
   "source": [
    "#### ALINEACIÓN Y TRUNCAMIENTO"
   ]
  },
  {
   "cell_type": "code",
   "execution_count": 38,
   "metadata": {},
   "outputs": [
    {
     "name": "stdout",
     "output_type": "stream",
     "text": [
      "HOLA MUNDO\n",
      "                                                                     H\n"
     ]
    }
   ],
   "source": [
    "#TRUNCAMIENTO Y ALINEACIÓN \n",
    "print(\"HOLA MUNDO\")\n",
    "print(\"{:>70.1}\".format(\"HOLA MUNDO\"))"
   ]
  },
  {
   "cell_type": "markdown",
   "metadata": {},
   "source": [
    "#### ALINEACIÓN DE NÚMEROS"
   ]
  },
  {
   "cell_type": "code",
   "execution_count": 42,
   "metadata": {},
   "outputs": [
    {
     "name": "stdout",
     "output_type": "stream",
     "text": [
      "99\n",
      "1234567\n",
      "1000\n",
      "------------------\n",
      "     99\n",
      "1234567\n",
      "   1000\n",
      "------------------\n",
      "        99\n",
      "   1234567\n",
      "      1000\n"
     ]
    }
   ],
   "source": [
    "print(\"99\")\n",
    "print(\"1234567\")\n",
    "print(\"1000\")\n",
    "\n",
    "print(\"------------------\")\n",
    "\n",
    "print(\"     99\")\n",
    "print(\"1234567\")\n",
    "print(\"   1000\")\n",
    "\n",
    "print(\"------------------\")\n",
    "\n",
    "print(\"{:10d}\".format(99))\n",
    "print(\"{:10d}\".format(1234567))\n",
    "print(\"{:10d}\".format(1000))"
   ]
  },
  {
   "cell_type": "code",
   "execution_count": 43,
   "metadata": {},
   "outputs": [
    {
     "name": "stdout",
     "output_type": "stream",
     "text": [
      "99\n",
      "1234567\n",
      "1000\n",
      "------------------\n",
      "     99\n",
      "1234567\n",
      "   1000\n",
      "------------------\n",
      "0000000099\n",
      "0001234567\n",
      "0000001000\n"
     ]
    }
   ],
   "source": [
    "print(\"99\")\n",
    "print(\"1234567\")\n",
    "print(\"1000\")\n",
    "\n",
    "print(\"------------------\")\n",
    "\n",
    "print(\"     99\")\n",
    "print(\"1234567\")\n",
    "print(\"   1000\")\n",
    "\n",
    "print(\"------------------\")\n",
    "\n",
    "print(\"{:010d}\".format(99))\n",
    "print(\"{:010d}\".format(1234567))\n",
    "print(\"{:010d}\".format(1000))"
   ]
  },
  {
   "cell_type": "code",
   "execution_count": 52,
   "metadata": {},
   "outputs": [
    {
     "name": "stdout",
     "output_type": "stream",
     "text": [
      "99.123\n",
      "1234567.1234\n",
      "1000.12345\n",
      "------------------\n",
      "     99.123\n",
      "1234567.1234\n",
      "   1000.12345\n",
      "------------------\n",
      "         99.123\n",
      "    1234567.123\n",
      "       1000.123\n",
      " 1232131000.123\n"
     ]
    }
   ],
   "source": [
    "print(\"99.123\")\n",
    "print(\"1234567.1234\")\n",
    "print(\"1000.12345\")\n",
    "\n",
    "print(\"------------------\")\n",
    "\n",
    "print(\"     99.123\")\n",
    "print(\"1234567.1234\")\n",
    "print(\"   1000.12345\")\n",
    "\n",
    "print(\"------------------\")\n",
    "\n",
    "print(\"{:>15.3f}\".format(99.123))\n",
    "print(\"{:>15.3f}\".format(1234567.1234))\n",
    "print(\"{:>15.3f}\".format(1000.12345))\n",
    "print(\"{:>15.3f}\".format(1232131000.12345))"
   ]
  },
  {
   "cell_type": "code",
   "execution_count": null,
   "metadata": {},
   "outputs": [],
   "source": []
  }
 ],
 "metadata": {
  "kernelspec": {
   "display_name": "Python 3",
   "language": "python",
   "name": "python3"
  },
  "language_info": {
   "codemirror_mode": {
    "name": "ipython",
    "version": 3
   },
   "file_extension": ".py",
   "mimetype": "text/x-python",
   "name": "python",
   "nbconvert_exporter": "python",
   "pygments_lexer": "ipython3",
   "version": "3.8.3"
  }
 },
 "nbformat": 4,
 "nbformat_minor": 4
}
