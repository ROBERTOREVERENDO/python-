{
 "cells": [
  {
   "cell_type": "markdown",
   "metadata": {},
   "source": [
    "# PARTE 21: CONCATENACIÓN DE DATASETS"
   ]
  },
  {
   "cell_type": "markdown",
   "metadata": {},
   "source": [
    "## PARTE 21.1: CONCATENACIÓN DE 2 O MÁS DATASETS"
   ]
  },
  {
   "cell_type": "code",
   "execution_count": 8,
   "metadata": {},
   "outputs": [],
   "source": [
    "#DATASET1\n",
    "import pandas as pd\n",
    "RUTA = \"DATASETS - CERTIFICACIÓN/PARTE 21 CONCATENACIÓN/br-amazon-devices.csv\"\n",
    "DATASET1 = pd.read_csv(RUTA , sep=\"|\")\n",
    "\n",
    "#DATASET2\n",
    "import pandas as pd\n",
    "RUTA = \"DATASETS - CERTIFICACIÓN/PARTE 21 CONCATENACIÓN/br-toys.csv\"\n",
    "DATASET2 = pd.read_csv(RUTA , sep=\"|\")\n",
    "\n",
    "#DATASET3\n",
    "import pandas as pd\n",
    "RUTA = \"DATASETS - CERTIFICACIÓN/PARTE 21 CONCATENACIÓN/br-books.csv\"\n",
    "DATASET3 = pd.read_csv(RUTA , sep=\"|\")"
   ]
  },
  {
   "cell_type": "code",
   "execution_count": 4,
   "metadata": {},
   "outputs": [
    {
     "data": {
      "text/plain": [
       "(35900, 10)"
      ]
     },
     "execution_count": 4,
     "metadata": {},
     "output_type": "execute_result"
    }
   ],
   "source": [
    "DATASET1.shape"
   ]
  },
  {
   "cell_type": "code",
   "execution_count": 5,
   "metadata": {},
   "outputs": [
    {
     "data": {
      "text/plain": [
       "(35650, 10)"
      ]
     },
     "execution_count": 5,
     "metadata": {},
     "output_type": "execute_result"
    }
   ],
   "source": [
    "DATASET2.shape"
   ]
  },
  {
   "cell_type": "code",
   "execution_count": 9,
   "metadata": {},
   "outputs": [
    {
     "data": {
      "text/plain": [
       "(35650, 10)"
      ]
     },
     "execution_count": 9,
     "metadata": {},
     "output_type": "execute_result"
    }
   ],
   "source": [
    "DATASET3.shape"
   ]
  },
  {
   "cell_type": "code",
   "execution_count": null,
   "metadata": {},
   "outputs": [],
   "source": [
    "#CONCATENACIÓN DE DATASET\n",
    "# AXIS = 0 --> CONCATENANDO POR FILAS\n",
    "# AXIS = 1 --> CONCATENANDO POR COLUMNAS"
   ]
  },
  {
   "cell_type": "markdown",
   "metadata": {},
   "source": [
    "#### CONCATENACIÓN DE 2 DATASETS"
   ]
  },
  {
   "cell_type": "code",
   "execution_count": 7,
   "metadata": {},
   "outputs": [
    {
     "data": {
      "text/plain": [
       "(71550, 10)"
      ]
     },
     "execution_count": 7,
     "metadata": {},
     "output_type": "execute_result"
    }
   ],
   "source": [
    "DATASET_CONCATENADO = pd.concat([DATASET1,DATASET2] , axis = 0)\n",
    "DATASET_CONCATENADO.shape"
   ]
  },
  {
   "cell_type": "markdown",
   "metadata": {},
   "source": [
    "#### CONCATENACIÓN DE 3 DATASETS"
   ]
  },
  {
   "cell_type": "code",
   "execution_count": 10,
   "metadata": {},
   "outputs": [
    {
     "data": {
      "text/plain": [
       "(107200, 10)"
      ]
     },
     "execution_count": 10,
     "metadata": {},
     "output_type": "execute_result"
    }
   ],
   "source": [
    "DATASET_CONCATENADO = pd.concat([DATASET1,DATASET2,DATASET3] , axis = 0)\n",
    "DATASET_CONCATENADO.shape"
   ]
  },
  {
   "cell_type": "markdown",
   "metadata": {},
   "source": [
    "## PARTE 21.2: CONCATENACIÓN DE DATASETS EN UNA RUTA"
   ]
  },
  {
   "cell_type": "code",
   "execution_count": 12,
   "metadata": {},
   "outputs": [],
   "source": [
    "import os\n",
    "LISTA_ARCHIVOS = os.listdir(\"C:/Users/BENJAMIN/CERTIFICACION PYTHON/DATASETS - CERTIFICACIÓN/PARTE 21 CONCATENACIÓN\")"
   ]
  },
  {
   "cell_type": "code",
   "execution_count": 13,
   "metadata": {},
   "outputs": [
    {
     "data": {
      "text/plain": [
       "['br-amazon-devices.csv',\n",
       " 'br-appliances.csv',\n",
       " 'br-automotive.csv',\n",
       " 'br-baby-products.csv',\n",
       " 'br-beauty.csv',\n",
       " 'br-books.csv',\n",
       " 'br-computers.csv',\n",
       " 'br-digital-text.csv',\n",
       " 'br-dvd.csv',\n",
       " 'br-electronics.csv',\n",
       " 'br-fashion.csv',\n",
       " 'br-furniture.csv',\n",
       " 'br-grocery.csv',\n",
       " 'br-hi.csv',\n",
       " 'br-home.csv',\n",
       " 'br-hpc.csv',\n",
       " 'br-kitchen.csv',\n",
       " 'br-lawn-and-garden.csv',\n",
       " 'br-mobile-apps.csv',\n",
       " 'br-music.csv',\n",
       " 'br-office.csv',\n",
       " 'br-pet-products.csv',\n",
       " 'br-sports.csv',\n",
       " 'br-toys.csv',\n",
       " 'br-videogames.csv']"
      ]
     },
     "execution_count": 13,
     "metadata": {},
     "output_type": "execute_result"
    }
   ],
   "source": [
    "LISTA_ARCHIVOS"
   ]
  },
  {
   "cell_type": "code",
   "execution_count": 14,
   "metadata": {},
   "outputs": [],
   "source": [
    "#DATASET CONCATENADO (PRIMERO)\n",
    "import pandas as pd\n",
    "RUTA = \"DATASETS - CERTIFICACIÓN/PARTE 21 CONCATENACIÓN/\" + LISTA_ARCHIVOS[0]\n",
    "DATASET_CONCATENADO = pd.read_csv(RUTA , sep=\"|\")"
   ]
  },
  {
   "cell_type": "code",
   "execution_count": 16,
   "metadata": {},
   "outputs": [],
   "source": [
    "#REPETITIVA PARA CONCATENAR TODOS LOS DATASETS\n",
    "for X in range(1,len(LISTA_ARCHIVOS)):\n",
    "    RUTA_CONCAT = \"DATASETS - CERTIFICACIÓN/PARTE 21 CONCATENACIÓN/\" + LISTA_ARCHIVOS[X]\n",
    "    DATASET_TEMP = pd.read_csv(RUTA_CONCAT , sep=\"|\")\n",
    "    \n",
    "    DATASET_CONCATENADO = pd.concat([DATASET_CONCATENADO , DATASET_TEMP] , axis = 0)"
   ]
  },
  {
   "cell_type": "code",
   "execution_count": 17,
   "metadata": {},
   "outputs": [
    {
     "data": {
      "text/plain": [
       "(845100, 10)"
      ]
     },
     "execution_count": 17,
     "metadata": {},
     "output_type": "execute_result"
    }
   ],
   "source": [
    "DATASET_CONCATENADO.shape"
   ]
  },
  {
   "cell_type": "code",
   "execution_count": null,
   "metadata": {},
   "outputs": [],
   "source": []
  }
 ],
 "metadata": {
  "kernelspec": {
   "display_name": "Python 3",
   "language": "python",
   "name": "python3"
  },
  "language_info": {
   "codemirror_mode": {
    "name": "ipython",
    "version": 3
   },
   "file_extension": ".py",
   "mimetype": "text/x-python",
   "name": "python",
   "nbconvert_exporter": "python",
   "pygments_lexer": "ipython3",
   "version": "3.8.3"
  }
 },
 "nbformat": 4,
 "nbformat_minor": 4
}
