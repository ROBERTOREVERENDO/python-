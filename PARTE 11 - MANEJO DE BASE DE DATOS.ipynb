{
 "cells": [
  {
   "cell_type": "markdown",
   "metadata": {},
   "source": [
    "# PARTE 11: MANEJO DE BASE DE DATOS"
   ]
  },
  {
   "cell_type": "markdown",
   "metadata": {},
   "source": [
    "## PARTE 11.1: CONEXIÓN A BASE DE DATOS"
   ]
  },
  {
   "cell_type": "code",
   "execution_count": 1,
   "metadata": {},
   "outputs": [],
   "source": [
    "#PAQUETE NECESARIO\n",
    "import sqlite3\n",
    "\n",
    "#ABRIENDO CONEXIÓN\n",
    "CONEXION = sqlite3.connect(\"PYTHON_DS_TOTAL.db\")\n",
    "\n",
    "#CERRANDO CONEXIÓN\n",
    "CONEXION.close()"
   ]
  },
  {
   "cell_type": "markdown",
   "metadata": {},
   "source": [
    "## PARTE 11.2: CREACIÓN DE TABLA"
   ]
  },
  {
   "cell_type": "code",
   "execution_count": 4,
   "metadata": {},
   "outputs": [],
   "source": [
    "#PAQUETE NECESARIO\n",
    "import sqlite3\n",
    "\n",
    "#ABRIENDO CONEXIÓN\n",
    "CONEXION = sqlite3.connect(\"PYTHON_DS_TOTAL.db\")\n",
    "\n",
    "#INSTALANDO CURSOR\n",
    "CURSOR = CONEXION.cursor()\n",
    "\n",
    "#COMANDO DE CREACIÓN DE TABLA\n",
    "CURSOR.execute(\"\"\"\n",
    "CREATE TABLE PERSONA(\n",
    "    NOMBRE varchar(100),\n",
    "    APELLIDO varchar(100),\n",
    "    EDAD int,\n",
    "    EC char(1)\n",
    ")\"\"\")\n",
    "\n",
    "#COMANDO DE COMMITEO\n",
    "CONEXION.commit()\n",
    "\n",
    "#CERRANDO CONEXIÓN\n",
    "CONEXION.close()"
   ]
  },
  {
   "cell_type": "markdown",
   "metadata": {},
   "source": [
    "## PARTE 11.3: INSERCIÓN DE 1 REGISTRO EN LA TABLA"
   ]
  },
  {
   "cell_type": "code",
   "execution_count": 8,
   "metadata": {},
   "outputs": [],
   "source": [
    "#PAQUETE NECESARIO\n",
    "import sqlite3\n",
    "\n",
    "#ABRIENDO CONEXIÓN\n",
    "CONEXION = sqlite3.connect(\"PYTHON_DS_TOTAL.db\")\n",
    "\n",
    "#INSTALANDO CURSOR\n",
    "CURSOR = CONEXION.cursor()\n",
    "\n",
    "#COMANDO DE CREACIÓN DE TABLA\n",
    "CURSOR.execute(\"\"\"\n",
    "INSERT INTO PERSONA VALUES (\"JUAN\",\"MENDOZA\",21,\"S\")\n",
    "\"\"\")\n",
    "\n",
    "CURSOR.execute(\"\"\"\n",
    "INSERT INTO PERSONA VALUES (\"NORMA\",\"TINCO\",95,\"C\")\n",
    "\"\"\")\n",
    "\n",
    "#COMANDO DE COMMITEO\n",
    "CONEXION.commit()\n",
    "\n",
    "#CERRANDO CONEXIÓN\n",
    "CONEXION.close()"
   ]
  },
  {
   "cell_type": "markdown",
   "metadata": {},
   "source": [
    "## PARTE 11.4: INSERCIÓN DE VARIOS REGISTROS EN LA TABLA"
   ]
  },
  {
   "cell_type": "code",
   "execution_count": 10,
   "metadata": {},
   "outputs": [],
   "source": [
    "#PAQUETE NECESARIO\n",
    "import sqlite3\n",
    "\n",
    "#ABRIENDO CONEXIÓN\n",
    "CONEXION = sqlite3.connect(\"PYTHON_DS_TOTAL.db\")\n",
    "\n",
    "#INSTALANDO CURSOR\n",
    "CURSOR = CONEXION.cursor()\n",
    "\n",
    "REGISTROS = [\n",
    "    (\"ENRIQUE\",\"PALACIOS\",50,\"C\"),\n",
    "    (\"MANUEL\",\"JIMENEZ\",40,\"S\"),\n",
    "    (\"ANTONIO\",\"PALOMINO\",30,\"S\"),\n",
    "    (\"ESTEBAN\",\"SIMÓN\",20,\"C\")\n",
    "]\n",
    "\n",
    "#COMANDO DE CREACIÓN DE TABLA\n",
    "CURSOR.executemany(\"INSERT INTO PERSONA VALUES (?,?,?,?)\",REGISTROS)\n",
    "\n",
    "#COMANDO DE COMMITEO\n",
    "CONEXION.commit()\n",
    "\n",
    "#CERRANDO CONEXIÓN\n",
    "CONEXION.close()"
   ]
  },
  {
   "cell_type": "markdown",
   "metadata": {},
   "source": [
    "## PARTE 11.5: CONSULTA DE 1 REGISTRO DE LA TABLA"
   ]
  },
  {
   "cell_type": "markdown",
   "metadata": {},
   "source": [
    "#### CONSULTA DE TODAS LAS COLUMNAS"
   ]
  },
  {
   "cell_type": "code",
   "execution_count": 41,
   "metadata": {},
   "outputs": [
    {
     "data": {
      "text/plain": [
       "<sqlite3.Cursor at 0x211f1864f10>"
      ]
     },
     "execution_count": 41,
     "metadata": {},
     "output_type": "execute_result"
    }
   ],
   "source": [
    "#PAQUETE NECESARIO\n",
    "import sqlite3\n",
    "\n",
    "#ABRIENDO CONEXIÓN\n",
    "CONEXION = sqlite3.connect(\"PYTHON_DS_TOTAL.db\")\n",
    "\n",
    "#INSTALANDO CURSOR\n",
    "CURSOR = CONEXION.cursor()\n",
    "\n",
    "#COMANDO DE CREACIÓN DE TABLA\n",
    "CURSOR.execute(\"\"\"\n",
    "SELECT * FROM PERSONA\n",
    "\"\"\")"
   ]
  },
  {
   "cell_type": "code",
   "execution_count": 43,
   "metadata": {},
   "outputs": [],
   "source": [
    "REG = CURSOR.fetchone()"
   ]
  },
  {
   "cell_type": "code",
   "execution_count": 44,
   "metadata": {},
   "outputs": [
    {
     "name": "stdout",
     "output_type": "stream",
     "text": [
      "RICARDO\n",
      "MORALES\n",
      "75\n",
      "C\n"
     ]
    }
   ],
   "source": [
    "print(REG[0])\n",
    "print(REG[1])\n",
    "print(REG[2])\n",
    "print(REG[3])"
   ]
  },
  {
   "cell_type": "markdown",
   "metadata": {},
   "source": [
    "#### CONSULTA DE ALGUNAS COLUMNAS"
   ]
  },
  {
   "cell_type": "code",
   "execution_count": 45,
   "metadata": {},
   "outputs": [
    {
     "data": {
      "text/plain": [
       "<sqlite3.Cursor at 0x211f3654960>"
      ]
     },
     "execution_count": 45,
     "metadata": {},
     "output_type": "execute_result"
    }
   ],
   "source": [
    "#PAQUETE NECESARIO\n",
    "import sqlite3\n",
    "\n",
    "#ABRIENDO CONEXIÓN\n",
    "CONEXION = sqlite3.connect(\"PYTHON_DS_TOTAL.db\")\n",
    "\n",
    "#INSTALANDO CURSOR\n",
    "CURSOR = CONEXION.cursor()\n",
    "\n",
    "#COMANDO DE CREACIÓN DE TABLA\n",
    "CURSOR.execute(\"\"\"\n",
    "SELECT NOMBRE,EDAD FROM PERSONA\n",
    "\"\"\")"
   ]
  },
  {
   "cell_type": "code",
   "execution_count": 46,
   "metadata": {},
   "outputs": [],
   "source": [
    "REG = CURSOR.fetchone()"
   ]
  },
  {
   "cell_type": "code",
   "execution_count": 49,
   "metadata": {},
   "outputs": [
    {
     "name": "stdout",
     "output_type": "stream",
     "text": [
      "BENJI\n",
      "27\n"
     ]
    }
   ],
   "source": [
    "print(REG[0])\n",
    "print(REG[1])"
   ]
  },
  {
   "cell_type": "code",
   "execution_count": 36,
   "metadata": {},
   "outputs": [],
   "source": [
    "#COMANDO DE COMMITEO\n",
    "CONEXION.commit()\n",
    "\n",
    "#CERRANDO CONEXIÓN\n",
    "CONEXION.close()"
   ]
  },
  {
   "cell_type": "markdown",
   "metadata": {},
   "source": [
    "## PARTE 11.6: CONSULTA DE VARIOS REGISTROS DE LA TABLA"
   ]
  },
  {
   "cell_type": "markdown",
   "metadata": {},
   "source": [
    "#### CONSULTA DE TODAS LAS COLUMNAS"
   ]
  },
  {
   "cell_type": "code",
   "execution_count": 69,
   "metadata": {},
   "outputs": [
    {
     "data": {
      "text/plain": [
       "<sqlite3.Cursor at 0x211f38d2e30>"
      ]
     },
     "execution_count": 69,
     "metadata": {},
     "output_type": "execute_result"
    }
   ],
   "source": [
    "#PAQUETE NECESARIO\n",
    "import sqlite3\n",
    "\n",
    "#ABRIENDO CONEXIÓN\n",
    "CONEXION = sqlite3.connect(\"PYTHON_DS_TOTAL.db\")\n",
    "\n",
    "#INSTALANDO CURSOR\n",
    "CURSOR = CONEXION.cursor()\n",
    "\n",
    "#COMANDO DE CREACIÓN DE TABLA\n",
    "CURSOR.execute(\"\"\"\n",
    "SELECT * FROM PERSONA\n",
    "\"\"\")"
   ]
  },
  {
   "cell_type": "code",
   "execution_count": 70,
   "metadata": {},
   "outputs": [
    {
     "name": "stdout",
     "output_type": "stream",
     "text": [
      "--------\n",
      "BENJI\n",
      "NEIRA\n",
      "27\n",
      "S\n",
      "--------\n",
      "RICARDO\n",
      "MORALES\n",
      "75\n",
      "C\n",
      "--------\n",
      "JUAN\n",
      "MENDOZA\n",
      "21\n",
      "S\n",
      "--------\n",
      "NORMA\n",
      "TINCO\n",
      "95\n",
      "C\n",
      "--------\n",
      "ENRIQUE\n",
      "PALACIOS\n",
      "50\n",
      "C\n",
      "--------\n",
      "MANUEL\n",
      "JIMENEZ\n",
      "40\n",
      "S\n",
      "--------\n",
      "ANTONIO\n",
      "PALOMINO\n",
      "30\n",
      "S\n",
      "--------\n",
      "ESTEBAN\n",
      "SIMÓN\n",
      "20\n",
      "C\n"
     ]
    }
   ],
   "source": [
    "REGS = CURSOR.fetchall()\n",
    "\n",
    "for X in REGS:\n",
    "    print(\"--------\")\n",
    "    print(X[0])\n",
    "    print(X[1])\n",
    "    print(X[2])\n",
    "    print(X[3])"
   ]
  },
  {
   "cell_type": "markdown",
   "metadata": {},
   "source": [
    "#### CONSULTA DE ALGUNAS COLUMNAS"
   ]
  },
  {
   "cell_type": "code",
   "execution_count": 71,
   "metadata": {},
   "outputs": [
    {
     "data": {
      "text/plain": [
       "<sqlite3.Cursor at 0x211f38d2180>"
      ]
     },
     "execution_count": 71,
     "metadata": {},
     "output_type": "execute_result"
    }
   ],
   "source": [
    "#PAQUETE NECESARIO\n",
    "import sqlite3\n",
    "\n",
    "#ABRIENDO CONEXIÓN\n",
    "CONEXION = sqlite3.connect(\"PYTHON_DS_TOTAL.db\")\n",
    "\n",
    "#INSTALANDO CURSOR\n",
    "CURSOR = CONEXION.cursor()\n",
    "\n",
    "#COMANDO DE CREACIÓN DE TABLA\n",
    "CURSOR.execute(\"\"\"\n",
    "SELECT NOMBRE, EDAD FROM PERSONA\n",
    "\"\"\")"
   ]
  },
  {
   "cell_type": "code",
   "execution_count": 72,
   "metadata": {},
   "outputs": [
    {
     "name": "stdout",
     "output_type": "stream",
     "text": [
      "--------\n",
      "BENJI\n",
      "27\n",
      "--------\n",
      "RICARDO\n",
      "75\n",
      "--------\n",
      "JUAN\n",
      "21\n",
      "--------\n",
      "NORMA\n",
      "95\n",
      "--------\n",
      "ENRIQUE\n",
      "50\n",
      "--------\n",
      "MANUEL\n",
      "40\n",
      "--------\n",
      "ANTONIO\n",
      "30\n",
      "--------\n",
      "ESTEBAN\n",
      "20\n"
     ]
    }
   ],
   "source": [
    "REGS = CURSOR.fetchall()\n",
    "\n",
    "for X in REGS:\n",
    "    print(\"--------\")\n",
    "    print(X[0])\n",
    "    print(X[1])"
   ]
  },
  {
   "cell_type": "markdown",
   "metadata": {},
   "source": [
    "#### CONSULTA DE ALGUNAS FILAS"
   ]
  },
  {
   "cell_type": "code",
   "execution_count": 73,
   "metadata": {},
   "outputs": [
    {
     "data": {
      "text/plain": [
       "<sqlite3.Cursor at 0x211f44e6d50>"
      ]
     },
     "execution_count": 73,
     "metadata": {},
     "output_type": "execute_result"
    }
   ],
   "source": [
    "#PAQUETE NECESARIO\n",
    "import sqlite3\n",
    "\n",
    "#ABRIENDO CONEXIÓN\n",
    "CONEXION = sqlite3.connect(\"PYTHON_DS_TOTAL.db\")\n",
    "\n",
    "#INSTALANDO CURSOR\n",
    "CURSOR = CONEXION.cursor()\n",
    "\n",
    "#COMANDO DE CREACIÓN DE TABLA\n",
    "CURSOR.execute(\"\"\"\n",
    "SELECT * FROM PERSONA LIMIT 5\n",
    "\"\"\")"
   ]
  },
  {
   "cell_type": "code",
   "execution_count": 74,
   "metadata": {},
   "outputs": [
    {
     "name": "stdout",
     "output_type": "stream",
     "text": [
      "--------\n",
      "BENJI\n",
      "NEIRA\n",
      "27\n",
      "S\n",
      "--------\n",
      "RICARDO\n",
      "MORALES\n",
      "75\n",
      "C\n",
      "--------\n",
      "JUAN\n",
      "MENDOZA\n",
      "21\n",
      "S\n",
      "--------\n",
      "NORMA\n",
      "TINCO\n",
      "95\n",
      "C\n",
      "--------\n",
      "ENRIQUE\n",
      "PALACIOS\n",
      "50\n",
      "C\n"
     ]
    }
   ],
   "source": [
    "REGS = CURSOR.fetchall()\n",
    "\n",
    "for X in REGS:\n",
    "    print(\"--------\")\n",
    "    print(X[0])\n",
    "    print(X[1])\n",
    "    print(X[2])\n",
    "    print(X[3])"
   ]
  },
  {
   "cell_type": "markdown",
   "metadata": {},
   "source": [
    "## PARTE 11.7: CREACIÓN DE TABLA CON PRIMARY KEY (PK)"
   ]
  },
  {
   "cell_type": "code",
   "execution_count": 1,
   "metadata": {},
   "outputs": [],
   "source": [
    "#PAQUETE NECESARIO\n",
    "import sqlite3\n",
    "\n",
    "#ABRIENDO CONEXIÓN\n",
    "CONEXION = sqlite3.connect(\"PYTHON_DS_TOTAL.db\")\n",
    "\n",
    "#INSTALANDO CURSOR\n",
    "CURSOR = CONEXION.cursor()\n",
    "\n",
    "#COMANDO DE CREACIÓN DE TABLA\n",
    "CURSOR.execute(\"\"\"\n",
    "CREATE TABLE PERSONA_PK(\n",
    "    DNI varchar(8) PRIMARY KEY,\n",
    "    NOMBRE varchar(100),\n",
    "    APELLIDO varchar(100),\n",
    "    EDAD int,\n",
    "    EC char(1)\n",
    ")\"\"\")\n",
    "\n",
    "#COMANDO DE COMMITEO\n",
    "CONEXION.commit()\n",
    "\n",
    "#CERRANDO CONEXIÓN\n",
    "CONEXION.close()"
   ]
  },
  {
   "cell_type": "code",
   "execution_count": 3,
   "metadata": {},
   "outputs": [],
   "source": [
    "#PAQUETE NECESARIO\n",
    "import sqlite3\n",
    "\n",
    "#ABRIENDO CONEXIÓN\n",
    "CONEXION = sqlite3.connect(\"PYTHON_DS_TOTAL.db\")\n",
    "\n",
    "#INSTALANDO CURSOR\n",
    "CURSOR = CONEXION.cursor()\n",
    "\n",
    "REGISTROS = [\n",
    "    (\"08048171\",\"ENRIQUE\",\"PALACIOS\",50,\"C\"),\n",
    "    (\"08048172\",\"MANUEL\",\"JIMENEZ\",40,\"S\"),\n",
    "    (\"08048173\",\"ANTONIO\",\"PALOMINO\",30,\"S\"),\n",
    "    (\"08048174\",\"ESTEBAN\",\"SIMÓN\",20,\"C\")\n",
    "]\n",
    "\n",
    "#COMANDO DE CREACIÓN DE TABLA\n",
    "CURSOR.executemany(\"INSERT INTO PERSONA_PK VALUES (?,?,?,?,?)\",REGISTROS)\n",
    "\n",
    "#COMANDO DE COMMITEO\n",
    "CONEXION.commit()\n",
    "\n",
    "#CERRANDO CONEXIÓN\n",
    "CONEXION.close()"
   ]
  },
  {
   "cell_type": "markdown",
   "metadata": {},
   "source": [
    "## PARTE 11.8: CREACIÓN DE TABLA CON PRIMARY KEY IDENTITY"
   ]
  },
  {
   "cell_type": "code",
   "execution_count": 5,
   "metadata": {},
   "outputs": [],
   "source": [
    "#PAQUETE NECESARIO\n",
    "import sqlite3\n",
    "\n",
    "#ABRIENDO CONEXIÓN\n",
    "CONEXION = sqlite3.connect(\"PYTHON_DS_TOTAL.db\")\n",
    "\n",
    "#INSTALANDO CURSOR\n",
    "CURSOR = CONEXION.cursor()\n",
    "\n",
    "#COMANDO DE CREACIÓN DE TABLA\n",
    "CURSOR.execute(\"\"\"\n",
    "CREATE TABLE PERSONA_IDENTITY(\n",
    "    ID integer PRIMARY KEY AUTOINCREMENT,\n",
    "    NOMBRE varchar(100),\n",
    "    APELLIDO varchar(100),\n",
    "    EDAD integer,\n",
    "    EC char(1)\n",
    ")\"\"\")\n",
    "\n",
    "#COMANDO DE COMMITEO\n",
    "CONEXION.commit()\n",
    "\n",
    "#CERRANDO CONEXIÓN\n",
    "CONEXION.close()"
   ]
  },
  {
   "cell_type": "code",
   "execution_count": 7,
   "metadata": {},
   "outputs": [],
   "source": [
    "#PAQUETE NECESARIO\n",
    "import sqlite3\n",
    "\n",
    "#ABRIENDO CONEXIÓN\n",
    "CONEXION = sqlite3.connect(\"PYTHON_DS_TOTAL.db\")\n",
    "\n",
    "#INSTALANDO CURSOR\n",
    "CURSOR = CONEXION.cursor()\n",
    "\n",
    "REGISTROS = [\n",
    "    (\"ENRIQUE\",\"PALACIOS\",50,\"C\"),\n",
    "    (\"MANUEL\",\"JIMENEZ\",40,\"S\"),\n",
    "    (\"ANTONIO\",\"PALOMINO\",30,\"S\"),\n",
    "    (\"ESTEBAN\",\"SIMÓN\",20,\"C\")\n",
    "]\n",
    "\n",
    "#COMANDO DE CREACIÓN DE TABLA\n",
    "CURSOR.executemany(\"INSERT INTO PERSONA_IDENTITY VALUES (NULL,?,?,?,?)\",REGISTROS)\n",
    "\n",
    "#COMANDO DE COMMITEO\n",
    "CONEXION.commit()\n",
    "\n",
    "#CERRANDO CONEXIÓN\n",
    "CONEXION.close()"
   ]
  },
  {
   "cell_type": "markdown",
   "metadata": {},
   "source": [
    "## PARTE 11.9: CONSULTA EN BD - SELECT / WHERE"
   ]
  },
  {
   "cell_type": "markdown",
   "metadata": {},
   "source": [
    "#### CONSULTA DE TODAS LAS FILAS Y COLUMNAS "
   ]
  },
  {
   "cell_type": "code",
   "execution_count": 2,
   "metadata": {},
   "outputs": [
    {
     "name": "stdout",
     "output_type": "stream",
     "text": [
      "--------\n",
      "('BENJI', 'NEIRA', 27, 'S')\n",
      "--------\n",
      "('RICARDO', 'MORALES', 75, 'C')\n",
      "--------\n",
      "('JUAN', 'MENDOZA', 21, 'S')\n",
      "--------\n",
      "('NORMA', 'TINCO', 95, 'C')\n",
      "--------\n",
      "('ENRIQUE', 'PALACIOS', 50, 'C')\n",
      "--------\n",
      "('MANUEL', 'JIMENEZ', 40, 'S')\n",
      "--------\n",
      "('ANTONIO', 'PALOMINO', 30, 'S')\n",
      "--------\n",
      "('ESTEBAN', 'SIMÓN', 20, 'C')\n"
     ]
    }
   ],
   "source": [
    "#PAQUETE NECESARIO\n",
    "import sqlite3\n",
    "\n",
    "#ABRIENDO CONEXIÓN\n",
    "CONEXION = sqlite3.connect(\"PYTHON_DS_TOTAL.db\")\n",
    "\n",
    "#INSTALANDO CURSOR\n",
    "CURSOR = CONEXION.cursor()\n",
    "\n",
    "#COMANDO DE CREACIÓN DE TABLA\n",
    "CURSOR.execute(\"\"\"\n",
    "SELECT * FROM PERSONA\n",
    "\"\"\")\n",
    "\n",
    "REGS = CURSOR.fetchall()\n",
    "\n",
    "for X in REGS:\n",
    "    print(\"--------\")\n",
    "    print(X)"
   ]
  },
  {
   "cell_type": "markdown",
   "metadata": {},
   "source": [
    "#### CONSULTA DE TODAS LAS FILAS Y ALGUNAS COLUMNAS "
   ]
  },
  {
   "cell_type": "code",
   "execution_count": 3,
   "metadata": {},
   "outputs": [
    {
     "name": "stdout",
     "output_type": "stream",
     "text": [
      "--------\n",
      "('BENJI', 'NEIRA')\n",
      "--------\n",
      "('RICARDO', 'MORALES')\n",
      "--------\n",
      "('JUAN', 'MENDOZA')\n",
      "--------\n",
      "('NORMA', 'TINCO')\n",
      "--------\n",
      "('ENRIQUE', 'PALACIOS')\n",
      "--------\n",
      "('MANUEL', 'JIMENEZ')\n",
      "--------\n",
      "('ANTONIO', 'PALOMINO')\n",
      "--------\n",
      "('ESTEBAN', 'SIMÓN')\n"
     ]
    }
   ],
   "source": [
    "#PAQUETE NECESARIO\n",
    "import sqlite3\n",
    "\n",
    "#ABRIENDO CONEXIÓN\n",
    "CONEXION = sqlite3.connect(\"PYTHON_DS_TOTAL.db\")\n",
    "\n",
    "#INSTALANDO CURSOR\n",
    "CURSOR = CONEXION.cursor()\n",
    "\n",
    "#COMANDO DE CREACIÓN DE TABLA\n",
    "CURSOR.execute(\"\"\"\n",
    "SELECT NOMBRE, APELLIDO FROM PERSONA\n",
    "\"\"\")\n",
    "\n",
    "REGS = CURSOR.fetchall()\n",
    "\n",
    "for X in REGS:\n",
    "    print(\"--------\")\n",
    "    print(X)"
   ]
  },
  {
   "cell_type": "markdown",
   "metadata": {},
   "source": [
    "#### CONSULTA DE ALGUNAS FILAS SIN CONDICIÓN"
   ]
  },
  {
   "cell_type": "code",
   "execution_count": 4,
   "metadata": {},
   "outputs": [
    {
     "name": "stdout",
     "output_type": "stream",
     "text": [
      "--------\n",
      "('BENJI', 'NEIRA')\n",
      "--------\n",
      "('RICARDO', 'MORALES')\n",
      "--------\n",
      "('JUAN', 'MENDOZA')\n"
     ]
    }
   ],
   "source": [
    "#PAQUETE NECESARIO\n",
    "import sqlite3\n",
    "\n",
    "#ABRIENDO CONEXIÓN\n",
    "CONEXION = sqlite3.connect(\"PYTHON_DS_TOTAL.db\")\n",
    "\n",
    "#INSTALANDO CURSOR\n",
    "CURSOR = CONEXION.cursor()\n",
    "\n",
    "#COMANDO DE CREACIÓN DE TABLA\n",
    "CURSOR.execute(\"\"\"\n",
    "SELECT NOMBRE, APELLIDO FROM PERSONA LIMIT 3\n",
    "\"\"\")\n",
    "\n",
    "REGS = CURSOR.fetchall()\n",
    "\n",
    "for X in REGS:\n",
    "    print(\"--------\")\n",
    "    print(X)"
   ]
  },
  {
   "cell_type": "markdown",
   "metadata": {},
   "source": [
    "#### CONSULTA DE ALGUNAS FILAS CON CONDICIÓN"
   ]
  },
  {
   "cell_type": "code",
   "execution_count": 6,
   "metadata": {},
   "outputs": [
    {
     "name": "stdout",
     "output_type": "stream",
     "text": [
      "--------\n",
      "('RICARDO', 'MORALES', 75, 'C')\n",
      "--------\n",
      "('NORMA', 'TINCO', 95, 'C')\n",
      "--------\n",
      "('ENRIQUE', 'PALACIOS', 50, 'C')\n",
      "--------\n",
      "('ESTEBAN', 'SIMÓN', 20, 'C')\n"
     ]
    }
   ],
   "source": [
    "#PAQUETE NECESARIO\n",
    "import sqlite3\n",
    "\n",
    "#ABRIENDO CONEXIÓN\n",
    "CONEXION = sqlite3.connect(\"PYTHON_DS_TOTAL.db\")\n",
    "\n",
    "#INSTALANDO CURSOR\n",
    "CURSOR = CONEXION.cursor()\n",
    "\n",
    "#COMANDO DE CREACIÓN DE TABLA\n",
    "CURSOR.execute(\"\"\"\n",
    "SELECT * FROM PERSONA\n",
    "WHERE EC = \"C\"\n",
    "\"\"\")\n",
    "\n",
    "REGS = CURSOR.fetchall()\n",
    "\n",
    "for X in REGS:\n",
    "    print(\"--------\")\n",
    "    print(X)"
   ]
  },
  {
   "cell_type": "code",
   "execution_count": 7,
   "metadata": {},
   "outputs": [
    {
     "name": "stdout",
     "output_type": "stream",
     "text": [
      "--------\n",
      "('RICARDO', 'MORALES', 75, 'C')\n",
      "--------\n",
      "('NORMA', 'TINCO', 95, 'C')\n"
     ]
    }
   ],
   "source": [
    "#PAQUETE NECESARIO\n",
    "import sqlite3\n",
    "\n",
    "#ABRIENDO CONEXIÓN\n",
    "CONEXION = sqlite3.connect(\"PYTHON_DS_TOTAL.db\")\n",
    "\n",
    "#INSTALANDO CURSOR\n",
    "CURSOR = CONEXION.cursor()\n",
    "\n",
    "#COMANDO DE CREACIÓN DE TABLA\n",
    "CURSOR.execute(\"\"\"\n",
    "SELECT * FROM PERSONA\n",
    "WHERE EDAD > 50\n",
    "\"\"\")\n",
    "\n",
    "REGS = CURSOR.fetchall()\n",
    "\n",
    "for X in REGS:\n",
    "    print(\"--------\")\n",
    "    print(X)"
   ]
  },
  {
   "cell_type": "code",
   "execution_count": 8,
   "metadata": {},
   "outputs": [
    {
     "name": "stdout",
     "output_type": "stream",
     "text": [
      "--------\n",
      "('ENRIQUE', 'PALACIOS', 50, 'C')\n",
      "--------\n",
      "('MANUEL', 'JIMENEZ', 40, 'S')\n",
      "--------\n",
      "('ANTONIO', 'PALOMINO', 30, 'S')\n",
      "--------\n",
      "('ESTEBAN', 'SIMÓN', 20, 'C')\n"
     ]
    }
   ],
   "source": [
    "#PAQUETE NECESARIO\n",
    "import sqlite3\n",
    "\n",
    "#ABRIENDO CONEXIÓN\n",
    "CONEXION = sqlite3.connect(\"PYTHON_DS_TOTAL.db\")\n",
    "\n",
    "#INSTALANDO CURSOR\n",
    "CURSOR = CONEXION.cursor()\n",
    "\n",
    "#COMANDO DE CREACIÓN DE TABLA\n",
    "CURSOR.execute(\"\"\"\n",
    "SELECT * FROM PERSONA\n",
    "WHERE EDAD % 2 = 0\n",
    "\"\"\")\n",
    "\n",
    "REGS = CURSOR.fetchall()\n",
    "\n",
    "for X in REGS:\n",
    "    print(\"--------\")\n",
    "    print(X)"
   ]
  },
  {
   "cell_type": "code",
   "execution_count": 9,
   "metadata": {},
   "outputs": [
    {
     "name": "stdout",
     "output_type": "stream",
     "text": [
      "--------\n",
      "('ENRIQUE', 'PALACIOS', 50, 'C')\n",
      "--------\n",
      "('ESTEBAN', 'SIMÓN', 20, 'C')\n"
     ]
    }
   ],
   "source": [
    "#PAQUETE NECESARIO\n",
    "import sqlite3\n",
    "\n",
    "#ABRIENDO CONEXIÓN\n",
    "CONEXION = sqlite3.connect(\"PYTHON_DS_TOTAL.db\")\n",
    "\n",
    "#INSTALANDO CURSOR\n",
    "CURSOR = CONEXION.cursor()\n",
    "\n",
    "#COMANDO DE CREACIÓN DE TABLA\n",
    "CURSOR.execute(\"\"\"\n",
    "SELECT * FROM PERSONA\n",
    "WHERE NOMBRE LIKE \"E%\"\n",
    "\"\"\")\n",
    "\n",
    "REGS = CURSOR.fetchall()\n",
    "\n",
    "for X in REGS:\n",
    "    print(\"--------\")\n",
    "    print(X)"
   ]
  },
  {
   "cell_type": "code",
   "execution_count": 10,
   "metadata": {},
   "outputs": [
    {
     "name": "stdout",
     "output_type": "stream",
     "text": [
      "--------\n",
      "('RICARDO', 'MORALES', 75, 'C')\n",
      "--------\n",
      "('ANTONIO', 'PALOMINO', 30, 'S')\n"
     ]
    }
   ],
   "source": [
    "#PAQUETE NECESARIO\n",
    "import sqlite3\n",
    "\n",
    "#ABRIENDO CONEXIÓN\n",
    "CONEXION = sqlite3.connect(\"PYTHON_DS_TOTAL.db\")\n",
    "\n",
    "#INSTALANDO CURSOR\n",
    "CURSOR = CONEXION.cursor()\n",
    "\n",
    "#COMANDO DE CREACIÓN DE TABLA\n",
    "CURSOR.execute(\"\"\"\n",
    "SELECT * FROM PERSONA\n",
    "WHERE NOMBRE LIKE \"%O\"\n",
    "\"\"\")\n",
    "\n",
    "REGS = CURSOR.fetchall()\n",
    "\n",
    "for X in REGS:\n",
    "    print(\"--------\")\n",
    "    print(X)"
   ]
  },
  {
   "cell_type": "code",
   "execution_count": 11,
   "metadata": {},
   "outputs": [
    {
     "name": "stdout",
     "output_type": "stream",
     "text": [
      "--------\n",
      "('BENJI', 'NEIRA', 27, 'S')\n",
      "--------\n",
      "('JUAN', 'MENDOZA', 21, 'S')\n",
      "--------\n",
      "('NORMA', 'TINCO', 95, 'C')\n",
      "--------\n",
      "('ENRIQUE', 'PALACIOS', 50, 'C')\n",
      "--------\n",
      "('MANUEL', 'JIMENEZ', 40, 'S')\n",
      "--------\n",
      "('ANTONIO', 'PALOMINO', 30, 'S')\n",
      "--------\n",
      "('ESTEBAN', 'SIMÓN', 20, 'C')\n"
     ]
    }
   ],
   "source": [
    "#PAQUETE NECESARIO\n",
    "import sqlite3\n",
    "\n",
    "#ABRIENDO CONEXIÓN\n",
    "CONEXION = sqlite3.connect(\"PYTHON_DS_TOTAL.db\")\n",
    "\n",
    "#INSTALANDO CURSOR\n",
    "CURSOR = CONEXION.cursor()\n",
    "\n",
    "#COMANDO DE CREACIÓN DE TABLA\n",
    "CURSOR.execute(\"\"\"\n",
    "SELECT * FROM PERSONA\n",
    "WHERE NOMBRE LIKE \"%N%\"\n",
    "\"\"\")\n",
    "\n",
    "REGS = CURSOR.fetchall()\n",
    "\n",
    "for X in REGS:\n",
    "    print(\"--------\")\n",
    "    print(X)"
   ]
  },
  {
   "cell_type": "markdown",
   "metadata": {},
   "source": [
    "## PARTE 11.10: MODIFICACIÓN EN BD - UPDATE / WHERE"
   ]
  },
  {
   "cell_type": "markdown",
   "metadata": {},
   "source": [
    "#### MODIFICACIÓN DE 1 COLUMNA"
   ]
  },
  {
   "cell_type": "code",
   "execution_count": 1,
   "metadata": {},
   "outputs": [],
   "source": [
    "#PAQUETE NECESARIO\n",
    "import sqlite3\n",
    "\n",
    "#ABRIENDO CONEXIÓN\n",
    "CONEXION = sqlite3.connect(\"PYTHON_DS_TOTAL.db\")\n",
    "\n",
    "#INSTALANDO CURSOR\n",
    "CURSOR = CONEXION.cursor()\n",
    "\n",
    "#COMANDO DE CREACIÓN DE TABLA\n",
    "CURSOR.execute(\"\"\"\n",
    "UPDATE PERSONA\n",
    "SET NOMBRE = \"XYZ\"\n",
    "WHERE NOMBRE LIKE \"%O\"\n",
    "\"\"\")\n",
    "\n",
    "#COMANDO DE COMMITEO\n",
    "CONEXION.commit()\n",
    "\n",
    "#CERRANDO CONEXIÓN\n",
    "CONEXION.close()"
   ]
  },
  {
   "cell_type": "markdown",
   "metadata": {},
   "source": [
    "#### MODIFICACIÓN DE VARIAS COLUMNAS"
   ]
  },
  {
   "cell_type": "code",
   "execution_count": 2,
   "metadata": {},
   "outputs": [],
   "source": [
    "#PAQUETE NECESARIO\n",
    "import sqlite3\n",
    "\n",
    "#ABRIENDO CONEXIÓN\n",
    "CONEXION = sqlite3.connect(\"PYTHON_DS_TOTAL.db\")\n",
    "\n",
    "#INSTALANDO CURSOR\n",
    "CURSOR = CONEXION.cursor()\n",
    "\n",
    "#COMANDO DE CREACIÓN DE TABLA\n",
    "CURSOR.execute(\"\"\"\n",
    "UPDATE PERSONA\n",
    "SET NOMBRE = \"--\" , APELLIDO = \"//\"\n",
    "WHERE EDAD < 50\n",
    "\"\"\")\n",
    "\n",
    "#COMANDO DE COMMITEO\n",
    "CONEXION.commit()\n",
    "\n",
    "#CERRANDO CONEXIÓN\n",
    "CONEXION.close()"
   ]
  },
  {
   "cell_type": "code",
   "execution_count": 3,
   "metadata": {},
   "outputs": [],
   "source": [
    "#PAQUETE NECESARIO\n",
    "import sqlite3\n",
    "\n",
    "#ABRIENDO CONEXIÓN\n",
    "CONEXION = sqlite3.connect(\"PYTHON_DS_TOTAL.db\")\n",
    "\n",
    "#INSTALANDO CURSOR\n",
    "CURSOR = CONEXION.cursor()\n",
    "\n",
    "#COMANDO DE CREACIÓN DE TABLA\n",
    "CURSOR.execute(\"\"\"\n",
    "UPDATE PERSONA\n",
    "SET NOMBRE = \"--\" , APELLIDO = \"//\"\n",
    "\"\"\")\n",
    "\n",
    "#COMANDO DE COMMITEO\n",
    "CONEXION.commit()\n",
    "\n",
    "#CERRANDO CONEXIÓN\n",
    "CONEXION.close()"
   ]
  },
  {
   "cell_type": "markdown",
   "metadata": {},
   "source": [
    "## PARTE 11.11: ELIMINACIÓN EN BD - DELETE / WHERE"
   ]
  },
  {
   "cell_type": "code",
   "execution_count": 2,
   "metadata": {},
   "outputs": [],
   "source": [
    "#PAQUETE NECESARIO\n",
    "import sqlite3\n",
    "\n",
    "#ABRIENDO CONEXIÓN\n",
    "CONEXION = sqlite3.connect(\"PYTHON_DS_TOTAL.db\")\n",
    "\n",
    "#INSTALANDO CURSOR\n",
    "CURSOR = CONEXION.cursor()\n",
    "\n",
    "#COMANDO DE CREACIÓN DE TABLA\n",
    "CURSOR.execute(\"\"\"\n",
    "DELETE FROM PERSONA\n",
    "WHERE EC = \"S\"\n",
    "\"\"\")\n",
    "\n",
    "#COMANDO DE COMMITEO\n",
    "CONEXION.commit()\n",
    "\n",
    "#CERRANDO CONEXIÓN\n",
    "CONEXION.close()"
   ]
  },
  {
   "cell_type": "code",
   "execution_count": 3,
   "metadata": {},
   "outputs": [],
   "source": [
    "#PAQUETE NECESARIO\n",
    "import sqlite3\n",
    "\n",
    "#ABRIENDO CONEXIÓN\n",
    "CONEXION = sqlite3.connect(\"PYTHON_DS_TOTAL.db\")\n",
    "\n",
    "#INSTALANDO CURSOR\n",
    "CURSOR = CONEXION.cursor()\n",
    "\n",
    "#COMANDO DE CREACIÓN DE TABLA\n",
    "CURSOR.execute(\"\"\"\n",
    "DELETE FROM PERSONA\n",
    "WHERE EDAD >50\n",
    "\"\"\") \n",
    "\n",
    "#COMANDO DE COMMITEO\n",
    "CONEXION.commit()\n",
    "\n",
    "#CERRANDO CONEXIÓN\n",
    "CONEXION.close()"
   ]
  },
  {
   "cell_type": "code",
   "execution_count": null,
   "metadata": {},
   "outputs": [],
   "source": []
  },
  {
   "cell_type": "code",
   "execution_count": null,
   "metadata": {},
   "outputs": [],
   "source": []
  },
  {
   "cell_type": "code",
   "execution_count": null,
   "metadata": {},
   "outputs": [],
   "source": []
  },
  {
   "cell_type": "code",
   "execution_count": null,
   "metadata": {},
   "outputs": [],
   "source": []
  },
  {
   "cell_type": "code",
   "execution_count": null,
   "metadata": {},
   "outputs": [],
   "source": []
  },
  {
   "cell_type": "code",
   "execution_count": null,
   "metadata": {},
   "outputs": [],
   "source": []
  },
  {
   "cell_type": "code",
   "execution_count": null,
   "metadata": {},
   "outputs": [],
   "source": []
  },
  {
   "cell_type": "code",
   "execution_count": null,
   "metadata": {},
   "outputs": [],
   "source": []
  },
  {
   "cell_type": "code",
   "execution_count": null,
   "metadata": {},
   "outputs": [],
   "source": []
  },
  {
   "cell_type": "code",
   "execution_count": null,
   "metadata": {},
   "outputs": [],
   "source": []
  },
  {
   "cell_type": "code",
   "execution_count": null,
   "metadata": {},
   "outputs": [],
   "source": []
  }
 ],
 "metadata": {
  "kernelspec": {
   "display_name": "Python 3",
   "language": "python",
   "name": "python3"
  },
  "language_info": {
   "codemirror_mode": {
    "name": "ipython",
    "version": 3
   },
   "file_extension": ".py",
   "mimetype": "text/x-python",
   "name": "python",
   "nbconvert_exporter": "python",
   "pygments_lexer": "ipython3",
   "version": "3.8.3"
  }
 },
 "nbformat": 4,
 "nbformat_minor": 4
}
