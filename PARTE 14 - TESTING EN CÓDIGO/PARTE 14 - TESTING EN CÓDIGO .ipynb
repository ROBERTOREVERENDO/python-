{
 "cells": [
  {
   "cell_type": "markdown",
   "metadata": {},
   "source": [
    "# PARTE 14: TESTING EN CÓDIGO\n",
    "\n",
    "* DOCTEST: Pruebas definidas en la documentación\n",
    "* UNITTEST: Pruebas definidas en el código"
   ]
  },
  {
   "cell_type": "markdown",
   "metadata": {},
   "source": [
    "## PARTE 14.1: DOCTEST EN 1 SOLA LÍNEA"
   ]
  },
  {
   "cell_type": "markdown",
   "metadata": {},
   "source": [
    "#### RECOMENDACIONES:\n",
    "\n",
    "* NO OLVIDARSE EL ESPACIO DESPUES DE \">>>\"\n",
    "* CUIDADO CON LOS ESPACIOS DESPUÉS DE LOS NÚMEROS (NO ES LO MISMO 16 QUE 16_)\n",
    "* SI CUANDO EJECUTAS NO SALE NINGÚN MENSAJE, TODO SALIÓ OK\n",
    "* SI DESEA VER EL DETALLE DE LA EJECUCIÓN COLOCA UN -v DESPUÉS DEL COMANDO DE EJECUCIÓN"
   ]
  },
  {
   "cell_type": "code",
   "execution_count": null,
   "metadata": {},
   "outputs": [],
   "source": [
    "    >>> POTENCIA (3,2)\n",
    "    9"
   ]
  },
  {
   "cell_type": "markdown",
   "metadata": {},
   "source": [
    "## PARTE 14.2: DOCTEST EN VARIAS LÍNEAS"
   ]
  },
  {
   "cell_type": "markdown",
   "metadata": {},
   "source": [
    "#### SIN ANIDAR\n",
    "\n",
    "* CUANDO NO HAY IDENTACIÓN"
   ]
  },
  {
   "cell_type": "code",
   "execution_count": null,
   "metadata": {},
   "outputs": [],
   "source": [
    "    >>> A = 3\n",
    "    >>> B = 2\n",
    "    >>> POTENCIA (A,B)\n",
    "    9"
   ]
  },
  {
   "cell_type": "markdown",
   "metadata": {},
   "source": [
    "#### ANIDADOS\n",
    "\n",
    "* CUANDO SÍ HAY IDENTACIÓN"
   ]
  },
  {
   "cell_type": "code",
   "execution_count": null,
   "metadata": {},
   "outputs": [],
   "source": [
    "    >>> A = 0\n",
    "    >>> for X in range(3):\n",
    "    ...     A = A + X\n",
    "    >>> B = 1\n",
    "    >>> for X in range(4):\n",
    "    ...     if X % 2 == 0:\n",
    "    ...         B = B + X\n",
    "    >>> POTENCIA (A,B)\n",
    "    27"
   ]
  },
  {
   "cell_type": "markdown",
   "metadata": {},
   "source": [
    "## PARTE 14.3: DOCTEST CON ERRORES PREVISTOS"
   ]
  },
  {
   "cell_type": "markdown",
   "metadata": {},
   "source": [
    "#### RECOMENDACIONES:\n",
    "\n",
    "* EJECUTA EL CÓDIGO EN ALGÚN COMPILADOR (PARA OBTENER EL ERROR)\n",
    "* COLOCA LA 1ERA LÍNEA Y LA ÚLTIMA, LO DEMÁS RESÚMELO COMO \"...\""
   ]
  },
  {
   "cell_type": "code",
   "execution_count": null,
   "metadata": {},
   "outputs": [],
   "source": [
    "    >>> POTENCIA(\"HOLA\",\"CHAU\")\n",
    "    Traceback (most recent call last):\n",
    "        ...\n",
    "    TypeError: unsupported operand type(s) for ** or pow(): 'str' and 'str'"
   ]
  },
  {
   "cell_type": "markdown",
   "metadata": {},
   "source": [
    "## PARTE 14.4: UNITTEST -  VALIDACIONES POSIBLES"
   ]
  },
  {
   "cell_type": "markdown",
   "metadata": {},
   "source": [
    "#### TIPOS DE RESULTADOS EN VALIDACIONES:\n",
    "\n",
    "* OK: ESPERADO Y OBTENIDO SON IGUALES\n",
    "* FAILURE: ESPERADO Y OBTENIDO NO SON IGUALES\n",
    "* ERROR: MIENTRAS SE REALIZABA ALGÚN CÁLCULO O PROCESO, SUCEDIÓ UN ERROR (GESTIÓN DE ERRORES)"
   ]
  },
  {
   "cell_type": "code",
   "execution_count": null,
   "metadata": {},
   "outputs": [],
   "source": [
    "#TODAS LA VALIDACIONES DEBEN SER CORRECTAS PARA SUPERAR SATISFACTORIAMENTE LA PRUEBA UNITARIA\n",
    "\n",
    "assertEqual(X,Y)\n",
    "Verifica si X es igual a Y\n",
    "assertEqual(SUMA(4,5),9)\n",
    "\n",
    "assertNotEqual(X,Y)\n",
    "Verifica si X es diferente a Y\n",
    "assertNotEqual(SUMA(4,5),10)\n",
    "\n",
    "assertTrue(X)\n",
    "Verifica si la condición compartida es Verdadera\n",
    "assertTrue(SUMA(4,5)==9)\n",
    "\n",
    "assertFalse(X)\n",
    "Verifica si la condición compartida es Falsa\n",
    "assertFalse(SUMA(4,5)==10)\n",
    "\n",
    "assertIs(X,Y)\n",
    "Verifica si el primer y segundo objeto son iguales\n",
    "assertIs(P1,P2)\n",
    "\n",
    "assertIsNot(X,Y)\n",
    "Verifica si el primer y segundo objeto son distintos\n",
    "assertNotIs(P1,P2)\n",
    "\n",
    "assertIsNone(X)\n",
    "Verifica si lo obtenido es None\n",
    "assertIsNone()\n",
    "\n",
    "assertIsNotNone(X)\n",
    "Verifica si lo obtenido no es None\n",
    "assertIsNone()\n",
    "\n",
    "assertIn(X,Y)\n",
    "Verifica si X está dentro de Y\n",
    "assertIsIn(5,[1,2,3,4,5])\n",
    "\n",
    "assertNotIn(X,Y)\n",
    "Verifica si X no está dentro de Y\n",
    "assertNotIn(5,[1,2,3,4,6])"
   ]
  },
  {
   "cell_type": "markdown",
   "metadata": {},
   "source": [
    "## PARTE 14.5: UNITTEST -  RESULTADO \"OK\""
   ]
  },
  {
   "cell_type": "code",
   "execution_count": null,
   "metadata": {},
   "outputs": [],
   "source": [
    "def POTENCIA (BAS,POT):\n",
    "    return BAS ** POT\n",
    "\n",
    "import unittest\n",
    "\n",
    "class PRUEBA_UNITARIA(unittest.TestCase):\n",
    "    def test(self):\n",
    "        self.assertEqual(POTENCIA(4,2) , 16)\n",
    "    \n",
    "if __name__ == \"__main__\":\n",
    "    unittest.main()"
   ]
  },
  {
   "cell_type": "markdown",
   "metadata": {},
   "source": [
    "## PARTE 14.6: UNITTEST -  RESULTADO \"FAILURE\""
   ]
  },
  {
   "cell_type": "code",
   "execution_count": null,
   "metadata": {},
   "outputs": [],
   "source": [
    "def POTENCIA (BAS,POT):\n",
    "    return BAS ** POT\n",
    "\n",
    "import unittest\n",
    "\n",
    "class PRUEBA_UNITARIA(unittest.TestCase):\n",
    "    def test(self):\n",
    "        self.assertEqual(POTENCIA(4,2) , 17)\n",
    "    \n",
    "if __name__ == \"__main__\":\n",
    "    unittest.main()"
   ]
  },
  {
   "cell_type": "markdown",
   "metadata": {},
   "source": [
    "## PARTE 14.7: UNITTEST -  RESULTADO \"ERROR\""
   ]
  },
  {
   "cell_type": "code",
   "execution_count": null,
   "metadata": {},
   "outputs": [],
   "source": [
    "def POTENCIA (BAS,POT):\n",
    "    return BAS ** POT\n",
    "\n",
    "import unittest\n",
    "\n",
    "class PRUEBA_UNITARIA(unittest.TestCase):\n",
    "    def test(self):\n",
    "        self.assertEqual(POTENCIA(\"HOLA\",\"CHAU\") , 17)\n",
    "    \n",
    "if __name__ == \"__main__\":\n",
    "    unittest.main()"
   ]
  },
  {
   "cell_type": "code",
   "execution_count": null,
   "metadata": {},
   "outputs": [],
   "source": [
    "def POTENCIA (BAS,POT):\n",
    "    return BAS ** POT\n",
    "\n",
    "import unittest\n",
    "\n",
    "class PRUEBA_UNITARIA(unittest.TestCase):\n",
    "    def test(self):\n",
    "        self.assertEqual(POTENCIA(1/0,1/0) , 17)\n",
    "    \n",
    "if __name__ == \"__main__\":\n",
    "    unittest.main()"
   ]
  },
  {
   "cell_type": "markdown",
   "metadata": {},
   "source": [
    "## PARTE 14.8: UNITTEST -  VARIAS PRUEBAS JUNTAS"
   ]
  },
  {
   "cell_type": "code",
   "execution_count": null,
   "metadata": {},
   "outputs": [],
   "source": [
    "import unittest\n",
    "\n",
    "def POTENCIA (BAS,POT):\n",
    "    return BAS ** POT\n",
    "\n",
    "def ES_PAR (NUM):\n",
    "    if NUM % 2 == 0:\n",
    "        return True\n",
    "    else:\n",
    "        return False\n",
    "    \n",
    "def INVERTIR_CADENA (CADENA):\n",
    "    return CADENA[::-1]\n",
    "\n",
    "class PRUEBA_UNITARIA(unittest.TestCase):\n",
    "    def test_POTENCIA(self):\n",
    "        self.assertEqual(POTENCIA (4,3),64)\n",
    "        self.assertFalse(POTENCIA (4,3) == 63)\n",
    "        \n",
    "        VARIABLE = None\n",
    "        self.assertIsNone(VARIABLE)\n",
    "        \n",
    "      \n",
    "    def test_ES_PAR(self):\n",
    "        self.assertNotEqual(ES_PAR(5),True)\n",
    "        self.assertNotEqual(ES_PAR(4),False)\n",
    "        self.assertIs(ES_PAR(5),False)\n",
    "        self.assertIs(ES_PAR(4),True)\n",
    "        \n",
    "        VARIABLE = not(None)\n",
    "        self.assertIsNotNone(VARIABLE)\n",
    "        \n",
    "        \n",
    "    def test_INVERTIR_CADENA(self):\n",
    "        self.assertTrue(INVERTIR_CADENA(\"XYZ\") == \"ZYX\")\n",
    "        self.assertIsNot(INVERTIR_CADENA(\"XYZ\"),\"XYZ\")\n",
    "        self.assertIn(INVERTIR_CADENA(\"XYZ\"),[\"ABC\",\"ZYX\"])\n",
    "        self.assertNotIn(INVERTIR_CADENA(\"XYZ\"),[\"ABC\",\"DEF\"])\n",
    "\n",
    "if __name__ == \"__main__\":\n",
    "    unittest.main()"
   ]
  },
  {
   "cell_type": "code",
   "execution_count": null,
   "metadata": {},
   "outputs": [],
   "source": []
  },
  {
   "cell_type": "code",
   "execution_count": null,
   "metadata": {},
   "outputs": [],
   "source": []
  }
 ],
 "metadata": {
  "kernelspec": {
   "display_name": "Python 3",
   "language": "python",
   "name": "python3"
  },
  "language_info": {
   "codemirror_mode": {
    "name": "ipython",
    "version": 3
   },
   "file_extension": ".py",
   "mimetype": "text/x-python",
   "name": "python",
   "nbconvert_exporter": "python",
   "pygments_lexer": "ipython3",
   "version": "3.8.3"
  }
 },
 "nbformat": 4,
 "nbformat_minor": 4
}
