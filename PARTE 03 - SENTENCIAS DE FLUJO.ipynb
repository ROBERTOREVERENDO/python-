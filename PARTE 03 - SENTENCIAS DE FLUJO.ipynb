{
 "cells": [
  {
   "cell_type": "markdown",
   "metadata": {},
   "source": [
    "# PARTE 3: SENTENCIAS DE FLUJO\n",
    "\n",
    "* CONDICIONALES --> SÍ / NO --> IF\n",
    "* REPETITIVAS SIN CANTIDAD PREDEFINIDA --> WHILE\n",
    "* REPETITIVAS CON CANTIDAD PREDEFINIDA --> FOR"
   ]
  },
  {
   "cell_type": "markdown",
   "metadata": {},
   "source": [
    "## PARTE 3.1: SENTENCIA DE FLUJO - IF"
   ]
  },
  {
   "cell_type": "code",
   "execution_count": 29,
   "metadata": {},
   "outputs": [],
   "source": [
    "#IF SIMPLE\n",
    "X = 2\n",
    "if X == 1:\n",
    "    print(\"HOLA\")\n",
    "    print(\"X vale 1\")"
   ]
  },
  {
   "cell_type": "code",
   "execution_count": 30,
   "metadata": {},
   "outputs": [],
   "source": [
    "#IF ANIDADOS\n",
    "X = 1\n",
    "Y = 3\n",
    "\n",
    "if X == 2:\n",
    "    print(\"X vale 2\")\n",
    "    \n",
    "    if Y == 3:\n",
    "        print(\"Y vale 3\")"
   ]
  },
  {
   "cell_type": "code",
   "execution_count": 31,
   "metadata": {},
   "outputs": [
    {
     "name": "stdout",
     "output_type": "stream",
     "text": [
      "X no vale 1\n"
     ]
    }
   ],
   "source": [
    "#IF ELSE\n",
    "X = 3\n",
    "\n",
    "if X == 1:\n",
    "    print(\"X vale 1\") #SÍ\n",
    "else:\n",
    "    print(\"X no vale 1\") #NO"
   ]
  },
  {
   "cell_type": "code",
   "execution_count": 32,
   "metadata": {},
   "outputs": [
    {
     "name": "stdout",
     "output_type": "stream",
     "text": [
      "Ingrese nota del alumno: 12\n",
      "REGULAR\n"
     ]
    }
   ],
   "source": [
    "#IF ELIF -> MÉTODO SIN RESUMIR\n",
    "NOTA = int(input(\"Ingrese nota del alumno: \"))\n",
    "\n",
    "if NOTA >= 18:\n",
    "    print(\"EXCELENTE\")\n",
    "else:\n",
    "    if NOTA >= 14:\n",
    "        print(\"BUENO\")\n",
    "    else:\n",
    "        if NOTA >= 10:\n",
    "            print(\"REGULAR\")\n",
    "        else:\n",
    "            print(\"MALO\")"
   ]
  },
  {
   "cell_type": "code",
   "execution_count": 33,
   "metadata": {},
   "outputs": [
    {
     "name": "stdout",
     "output_type": "stream",
     "text": [
      "Ingrese nota del alumno: 12\n",
      "REGULAR\n"
     ]
    }
   ],
   "source": [
    "#IF ELIF -> MÉTODO RESUMIDO\n",
    "NOTA = int(input(\"Ingrese nota del alumno: \"))\n",
    "\n",
    "if NOTA >= 18:\n",
    "    print(\"EXCELENTE\")\n",
    "elif NOTA >= 14:\n",
    "    print(\"BUENO\")\n",
    "elif NOTA >= 10:\n",
    "    print(\"REGULAR\")\n",
    "else:\n",
    "    print(\"MALO\")"
   ]
  },
  {
   "cell_type": "markdown",
   "metadata": {},
   "source": [
    "## PARTE 3.2: SENTENCIA DE FLUJO - WHILE"
   ]
  },
  {
   "cell_type": "code",
   "execution_count": 43,
   "metadata": {},
   "outputs": [
    {
     "name": "stdout",
     "output_type": "stream",
     "text": [
      "SALTA\n",
      "SALTA\n",
      "SALTA\n",
      "SALTA\n",
      "SALTA\n"
     ]
    }
   ],
   "source": [
    "#WHILE\n",
    "X = 1\n",
    "while X <= 5:\n",
    "    print(\"SALTA\")\n",
    "    X += 1"
   ]
  },
  {
   "cell_type": "code",
   "execution_count": 51,
   "metadata": {},
   "outputs": [
    {
     "name": "stdout",
     "output_type": "stream",
     "text": [
      "Ingrese X:8\n",
      "SALTA\n"
     ]
    }
   ],
   "source": [
    "#WHILE\n",
    "X = 4\n",
    "while X <= 5:\n",
    "    X = int(input(\"Ingrese X:\"))\n",
    "    print(\"SALTA\")"
   ]
  },
  {
   "cell_type": "code",
   "execution_count": 52,
   "metadata": {},
   "outputs": [
    {
     "name": "stdout",
     "output_type": "stream",
     "text": [
      "Ingrese X:4\n",
      "SALTA\n",
      "Ingrese X:4\n",
      "SALTA\n",
      "Ingrese X:4\n",
      "SALTA\n",
      "Ingrese X:4\n",
      "SALTA\n",
      "Ingrese X:9\n",
      "SALTA\n",
      "TERMINASTE DE SALTAR\n",
      "HOLA MUNDO\n"
     ]
    }
   ],
   "source": [
    "#WHILE ELSE -> EL \"ELSE\" SE EJECUTA CUANDO YA NO SE CUMPLA LA CONDICIÓN\n",
    "X = 4\n",
    "while X <= 5:\n",
    "    X = int(input(\"Ingrese X:\"))\n",
    "    print(\"SALTA\")\n",
    "else:\n",
    "    print(\"TERMINASTE DE SALTAR\")\n",
    "    print(\"HOLA MUNDO\")"
   ]
  },
  {
   "cell_type": "code",
   "execution_count": 54,
   "metadata": {},
   "outputs": [
    {
     "name": "stdout",
     "output_type": "stream",
     "text": [
      "Ingrese X:4\n",
      "SALTA\n",
      "Ingrese X:4\n",
      "SALTA\n",
      "Ingrese X:4\n",
      "SALTA\n",
      "Ingrese X:4\n",
      "SALTA\n",
      "Ingrese X:0\n"
     ]
    }
   ],
   "source": [
    "#BREAK -> PARA ROMPER EL BUCLE\n",
    "X = 4\n",
    "while X <= 5:\n",
    "    X = int(input(\"Ingrese X:\"))\n",
    "    \n",
    "    if X == 0:\n",
    "        break\n",
    "    \n",
    "    print(\"SALTA\")\n",
    "else:\n",
    "    print(\"TERMINASTE DE SALTAR\")\n",
    "    print(\"HOLA MUNDO\")"
   ]
  },
  {
   "cell_type": "code",
   "execution_count": 70,
   "metadata": {},
   "outputs": [
    {
     "name": "stdout",
     "output_type": "stream",
     "text": [
      "SALTA 2\n",
      "SALTA 4\n",
      "SALTA 5\n",
      "SALTA 6\n"
     ]
    }
   ],
   "source": [
    "#CONTINUE -> PARA SALTAR UNA ITERACIÓN SIN ROMPER EL BUCLE\n",
    "X = 1\n",
    "while X <= 5:\n",
    "    \n",
    "    X += 1\n",
    "    \n",
    "    if X == 3:\n",
    "        continue\n",
    "        \n",
    "    print(\"SALTA\",X)"
   ]
  },
  {
   "cell_type": "code",
   "execution_count": 65,
   "metadata": {},
   "outputs": [
    {
     "name": "stdout",
     "output_type": "stream",
     "text": [
      "SALTA 2\n"
     ]
    }
   ],
   "source": [
    "#EJEMPLO CON BREAK\n",
    "X = 1\n",
    "while X <= 5:\n",
    "    \n",
    "    X += 1\n",
    "    \n",
    "    if X == 3:\n",
    "        break\n",
    "        \n",
    "    print(\"SALTA\",X)"
   ]
  },
  {
   "cell_type": "code",
   "execution_count": 68,
   "metadata": {},
   "outputs": [
    {
     "name": "stdout",
     "output_type": "stream",
     "text": [
      "Ingrese nota del alumno: 50\n",
      "Ingrese nota del alumno: 70\n",
      "Ingrese nota del alumno: 19\n",
      "EXCELENTE\n"
     ]
    }
   ],
   "source": [
    "#ALGORITMO DE CAPTURA DE NOTAS CORRECTAS (0-20)\n",
    "while (True):\n",
    "    NOTA = int(input(\"Ingrese nota del alumno: \"))\n",
    "    \n",
    "    if NOTA>=0 and NOTA<=20:\n",
    "        break\n",
    "\n",
    "if NOTA >= 18:\n",
    "    print(\"EXCELENTE\")\n",
    "elif NOTA >= 14:\n",
    "    print(\"BUENO\")\n",
    "elif NOTA >= 10:\n",
    "    print(\"REGULAR\")\n",
    "else:\n",
    "    print(\"MALO\")"
   ]
  },
  {
   "cell_type": "markdown",
   "metadata": {},
   "source": [
    "## PARTE 3.3: SENTENCIA DE FLUJO - FOR"
   ]
  },
  {
   "cell_type": "code",
   "execution_count": 77,
   "metadata": {},
   "outputs": [
    {
     "name": "stdout",
     "output_type": "stream",
     "text": [
      "HOLA 0\n",
      "HOLA 1\n",
      "HOLA 2\n",
      "HOLA 3\n",
      "HOLA 4\n",
      "HOLA 5\n",
      "HOLA 6\n",
      "HOLA 7\n",
      "HOLA 8\n",
      "HOLA 9\n"
     ]
    }
   ],
   "source": [
    "#REPETIR ALGO DETERMINADA CANTIDAD DE VECES\n",
    "for X in range(10):\n",
    "    print(\"HOLA\",X)"
   ]
  },
  {
   "cell_type": "code",
   "execution_count": 78,
   "metadata": {},
   "outputs": [
    {
     "name": "stdout",
     "output_type": "stream",
     "text": [
      "H\n",
      "O\n",
      "L\n",
      "A\n",
      " \n",
      "M\n",
      "U\n",
      "N\n",
      "D\n",
      "O\n"
     ]
    }
   ],
   "source": [
    "#FOR EN CADENAS\n",
    "CADENA = \"HOLA MUNDO\"\n",
    "\n",
    "for C in CADENA:\n",
    "    print(C)"
   ]
  },
  {
   "cell_type": "code",
   "execution_count": 79,
   "metadata": {},
   "outputs": [
    {
     "name": "stdout",
     "output_type": "stream",
     "text": [
      "0\n",
      "2\n",
      "4\n",
      "10\n",
      "15\n",
      "100\n"
     ]
    }
   ],
   "source": [
    "#FOR EN LISTAS\n",
    "LISTA = [0 , 2 , 4 , 10 , 15 , 100]\n",
    "\n",
    "for L in LISTA:\n",
    "    print(L)"
   ]
  },
  {
   "cell_type": "code",
   "execution_count": null,
   "metadata": {},
   "outputs": [],
   "source": []
  }
 ],
 "metadata": {
  "kernelspec": {
   "display_name": "Python 3",
   "language": "python",
   "name": "python3"
  },
  "language_info": {
   "codemirror_mode": {
    "name": "ipython",
    "version": 3
   },
   "file_extension": ".py",
   "mimetype": "text/x-python",
   "name": "python",
   "nbconvert_exporter": "python",
   "pygments_lexer": "ipython3",
   "version": "3.8.3"
  }
 },
 "nbformat": 4,
 "nbformat_minor": 4
}
