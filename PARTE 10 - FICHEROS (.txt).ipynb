{
 "cells": [
  {
   "cell_type": "markdown",
   "metadata": {},
   "source": [
    "# PARTE 10: FICHEROS (.txt)"
   ]
  },
  {
   "cell_type": "markdown",
   "metadata": {},
   "source": [
    "## PARTE 10.1: CREACIÓN DE FICHERO Y ESCRITURA"
   ]
  },
  {
   "cell_type": "code",
   "execution_count": 2,
   "metadata": {},
   "outputs": [],
   "source": [
    "CADENA = \"HOLA MUNDO\"\n",
    "\n",
    "#NOMBRE DEL FICHERO PYTHON_DS.txt\n",
    "#MODO DE ACCESO: w (ESCRITURA)\n",
    "#RUTA DEL FICHERO SERÁ LA RUTA DEL NOTEBOOK\n",
    "\n",
    "FICHERO = open(\"PYTHON_DS.txt\",\"w\")\n",
    "FICHERO.write(CADENA)\n",
    "FICHERO.close()"
   ]
  },
  {
   "cell_type": "code",
   "execution_count": 3,
   "metadata": {},
   "outputs": [],
   "source": [
    "CADENA = \"HOLA PYTHON\"\n",
    "\n",
    "#NOMBRE DEL FICHERO PYTHON_DS.txt\n",
    "#MODO DE ACCESO: w (ESCRITURA)\n",
    "#RUTA DEL FICHERO SERÁ LA RUTA DEL NOTEBOOK\n",
    "\n",
    "FICHERO = open(\"PYTHON_DS.txt\",\"w\")\n",
    "FICHERO.write(CADENA)\n",
    "FICHERO.close()"
   ]
  },
  {
   "cell_type": "code",
   "execution_count": 4,
   "metadata": {},
   "outputs": [],
   "source": [
    "CADENA = \"XYZ\"\n",
    "\n",
    "#NOMBRE DEL FICHERO PYTHON_DS.txt\n",
    "#MODO DE ACCESO: w (ESCRITURA)\n",
    "#RUTA DEL FICHERO SERÁ LA RUTA DEL NOTEBOOK\n",
    "\n",
    "FICHERO = open(\"PYTHON_DS.txt\",\"w\")\n",
    "FICHERO.write(CADENA)\n",
    "FICHERO.close()"
   ]
  },
  {
   "cell_type": "markdown",
   "metadata": {},
   "source": [
    "## PARTE 10.2: LECTURA DE FICHERO"
   ]
  },
  {
   "cell_type": "code",
   "execution_count": 6,
   "metadata": {},
   "outputs": [],
   "source": [
    "CADENA = \"\"\"HOLA\n",
    "CHAU\n",
    "PYTHON\n",
    "2021\n",
    "DS\"\"\"\n",
    "#NOMBRE DEL FICHERO PYTHON_DS.txt\n",
    "#MODO DE ACCESO: w (ESCRITURA)\n",
    "#RUTA DEL FICHERO SERÁ LA RUTA DEL NOTEBOOK\n",
    "\n",
    "FICHERO = open(\"PYTHON_DS.txt\",\"w\")\n",
    "FICHERO.write(CADENA)\n",
    "FICHERO.close()"
   ]
  },
  {
   "cell_type": "markdown",
   "metadata": {},
   "source": [
    "#### LEER TODO EL ARCHIVO EN UNA SOLA CADENA"
   ]
  },
  {
   "cell_type": "code",
   "execution_count": 7,
   "metadata": {},
   "outputs": [
    {
     "name": "stdout",
     "output_type": "stream",
     "text": [
      "HOLA\n",
      "CHAU\n",
      "PYTHON\n",
      "2021\n",
      "DS\n"
     ]
    }
   ],
   "source": [
    "#MODO DE ACCESO: r (LECTURA)\n",
    "FICHERO = open(\"PYTHON_DS.txt\",\"r\")\n",
    "TEXTO = FICHERO.read()\n",
    "print(TEXTO)\n",
    "FICHERO.close()"
   ]
  },
  {
   "cell_type": "markdown",
   "metadata": {},
   "source": [
    "#### LEER TODO EL ARCHIVO CON LAS LÍNEAS EN UNA LISTA"
   ]
  },
  {
   "cell_type": "code",
   "execution_count": 9,
   "metadata": {},
   "outputs": [
    {
     "name": "stdout",
     "output_type": "stream",
     "text": [
      "['HOLA\\n', 'CHAU\\n', 'PYTHON\\n', '2021\\n', 'DS']\n"
     ]
    }
   ],
   "source": [
    "#MODO DE ACCESO: r (LECTURA)\n",
    "FICHERO = open(\"PYTHON_DS.txt\",\"r\")\n",
    "TEXTO = FICHERO.readlines()\n",
    "print(TEXTO)\n",
    "FICHERO.close()"
   ]
  },
  {
   "cell_type": "code",
   "execution_count": 10,
   "metadata": {},
   "outputs": [
    {
     "data": {
      "text/plain": [
       "'HOLA\\n'"
      ]
     },
     "execution_count": 10,
     "metadata": {},
     "output_type": "execute_result"
    }
   ],
   "source": [
    "TEXTO[0]"
   ]
  },
  {
   "cell_type": "code",
   "execution_count": 11,
   "metadata": {},
   "outputs": [
    {
     "data": {
      "text/plain": [
       "'CHAU\\n'"
      ]
     },
     "execution_count": 11,
     "metadata": {},
     "output_type": "execute_result"
    }
   ],
   "source": [
    "TEXTO[1]"
   ]
  },
  {
   "cell_type": "code",
   "execution_count": 12,
   "metadata": {},
   "outputs": [
    {
     "data": {
      "text/plain": [
       "'DS'"
      ]
     },
     "execution_count": 12,
     "metadata": {},
     "output_type": "execute_result"
    }
   ],
   "source": [
    "TEXTO[-1]"
   ]
  },
  {
   "cell_type": "markdown",
   "metadata": {},
   "source": [
    "#### LEER TODO EL ARCHIVO LÍNEA POR LÍNEA"
   ]
  },
  {
   "cell_type": "code",
   "execution_count": 22,
   "metadata": {},
   "outputs": [],
   "source": [
    "#MODO DE ACCESO: r (LECTURA)\n",
    "FICHERO = open(\"PYTHON_DS.txt\",\"r\")"
   ]
  },
  {
   "cell_type": "code",
   "execution_count": 25,
   "metadata": {},
   "outputs": [
    {
     "data": {
      "text/plain": [
       "'PYTHON\\n'"
      ]
     },
     "execution_count": 25,
     "metadata": {},
     "output_type": "execute_result"
    }
   ],
   "source": [
    "FICHERO.readline()"
   ]
  },
  {
   "cell_type": "markdown",
   "metadata": {},
   "source": [
    "## PARTE 10.3: ESCRITURA AL FINAL DEL FICHERO"
   ]
  },
  {
   "cell_type": "code",
   "execution_count": 26,
   "metadata": {},
   "outputs": [],
   "source": [
    "#MODO DE ACCESO: a (append)\n",
    "FICHERO = open(\"PYTHON_DS.txt\",\"a\")\n",
    "FICHERO.write(\"HOLA\")\n",
    "FICHERO.close()"
   ]
  },
  {
   "cell_type": "code",
   "execution_count": 27,
   "metadata": {},
   "outputs": [],
   "source": [
    "#MODO DE ACCESO: a (append)\n",
    "FICHERO = open(\"PYTHON_DS.txt\",\"a\")\n",
    "FICHERO.write(\"\\nHOLA\")\n",
    "FICHERO.close()"
   ]
  },
  {
   "cell_type": "code",
   "execution_count": 28,
   "metadata": {},
   "outputs": [],
   "source": [
    "#MODO DE ACCESO: a (append)\n",
    "FICHERO = open(\"PYTHON_DS.txt\",\"a\")\n",
    "FICHERO.write(r\"\\nHOLA\")\n",
    "FICHERO.close()"
   ]
  },
  {
   "cell_type": "markdown",
   "metadata": {},
   "source": [
    "## PARTE 10.4: MANEJO DE PUNTEROS EN FICHEROS"
   ]
  },
  {
   "cell_type": "code",
   "execution_count": 34,
   "metadata": {},
   "outputs": [
    {
     "data": {
      "text/plain": [
       "'LA'"
      ]
     },
     "execution_count": 34,
     "metadata": {},
     "output_type": "execute_result"
    }
   ],
   "source": [
    "#MODO DE ACCESO: r (LECTURA)\n",
    "FICHERO = open(\"PYTHON_DS.txt\",\"r\")\n",
    "FICHERO.seek(2)\n",
    "FICHERO.read(2)"
   ]
  },
  {
   "cell_type": "code",
   "execution_count": 35,
   "metadata": {},
   "outputs": [],
   "source": [
    "FICHERO.close()"
   ]
  },
  {
   "cell_type": "code",
   "execution_count": 36,
   "metadata": {},
   "outputs": [
    {
     "data": {
      "text/plain": [
       "'\\nPYTH'"
      ]
     },
     "execution_count": 36,
     "metadata": {},
     "output_type": "execute_result"
    }
   ],
   "source": [
    "#MODO DE ACCESO: r (LECTURA)\n",
    "FICHERO = open(\"PYTHON_DS.txt\",\"r\")\n",
    "FICHERO.seek(10)\n",
    "FICHERO.read(5)"
   ]
  },
  {
   "cell_type": "markdown",
   "metadata": {},
   "source": [
    "## PARTE 10.5: LECTURA Y ESCRITURA EN SIMULTÁNEO"
   ]
  },
  {
   "cell_type": "markdown",
   "metadata": {},
   "source": [
    "#### LECTURA DE FICHERO"
   ]
  },
  {
   "cell_type": "code",
   "execution_count": 38,
   "metadata": {},
   "outputs": [
    {
     "name": "stdout",
     "output_type": "stream",
     "text": [
      "HOLA\n",
      "CHAU\n",
      "PYTHON\n",
      "2021\n",
      "DSHOLA\n",
      "HOLA\\nHOLA\n"
     ]
    }
   ],
   "source": [
    "#MODO DE ACCESO: r+ (LECTURA Y ESCRITURA)\n",
    "FICHERO = open(\"PYTHON_DS.txt\",\"r+\")\n",
    "TEXTO = FICHERO.read()\n",
    "print(TEXTO)\n",
    "FICHERO.close()"
   ]
  },
  {
   "cell_type": "markdown",
   "metadata": {},
   "source": [
    "#### ESCRITURA AL INICIO DEL FICHERO"
   ]
  },
  {
   "cell_type": "markdown",
   "metadata": {},
   "source": [
    "#MODO DE ACCESO: r+ (LECTURA Y ESCRITURA)\n",
    "FICHERO = open(\"PYTHON_DS.txt\",\"r+\")\n",
    "FICHERO.write(\"XYZ\")\n",
    "FICHERO.close()"
   ]
  },
  {
   "cell_type": "markdown",
   "metadata": {},
   "source": [
    "#### ESCRITURA EN DETERMINADA POSICIÓN DEL FICHERO"
   ]
  },
  {
   "cell_type": "code",
   "execution_count": 40,
   "metadata": {},
   "outputs": [],
   "source": [
    "#MODO DE ACCESO: r+ (LECTURA Y ESCRITURA)\n",
    "FICHERO = open(\"PYTHON_DS.txt\",\"r+\")\n",
    "FICHERO.seek(10)\n",
    "FICHERO.write(\"!!\")\n",
    "FICHERO.close()"
   ]
  },
  {
   "cell_type": "markdown",
   "metadata": {},
   "source": [
    "#### ESCRITURA EN DETERMINADA LÍNEA DEL FICHERO"
   ]
  },
  {
   "cell_type": "code",
   "execution_count": 42,
   "metadata": {},
   "outputs": [],
   "source": [
    "#INCORRECTA\n",
    "\n",
    "#MODO DE ACCESO: r+ (LECTURA Y ESCRITURA)\n",
    "FICHERO = open(\"PYTHON_DS.txt\",\"r+\")\n",
    "TEXTO = FICHERO.readlines()\n",
    "TEXTO[1] = \"BENJI WAS HERE\\n\"\n",
    "FICHERO.writelines(TEXTO)\n",
    "FICHERO.close()"
   ]
  },
  {
   "cell_type": "code",
   "execution_count": 43,
   "metadata": {},
   "outputs": [],
   "source": [
    "#CORRECTA\n",
    "\n",
    "#MODO DE ACCESO: r+ (LECTURA Y ESCRITURA)\n",
    "FICHERO = open(\"PYTHON_DS.txt\",\"r+\")\n",
    "TEXTO = FICHERO.readlines()\n",
    "TEXTO[1] = \"BENJI WAS HERE\\n\"\n",
    "FICHERO.seek(0)\n",
    "FICHERO.writelines(TEXTO)\n",
    "FICHERO.close()"
   ]
  },
  {
   "cell_type": "code",
   "execution_count": null,
   "metadata": {},
   "outputs": [],
   "source": []
  },
  {
   "cell_type": "code",
   "execution_count": null,
   "metadata": {},
   "outputs": [],
   "source": []
  },
  {
   "cell_type": "code",
   "execution_count": null,
   "metadata": {},
   "outputs": [],
   "source": []
  },
  {
   "cell_type": "code",
   "execution_count": null,
   "metadata": {},
   "outputs": [],
   "source": []
  },
  {
   "cell_type": "code",
   "execution_count": null,
   "metadata": {},
   "outputs": [],
   "source": []
  },
  {
   "cell_type": "code",
   "execution_count": null,
   "metadata": {},
   "outputs": [],
   "source": []
  }
 ],
 "metadata": {
  "kernelspec": {
   "display_name": "Python 3",
   "language": "python",
   "name": "python3"
  },
  "language_info": {
   "codemirror_mode": {
    "name": "ipython",
    "version": 3
   },
   "file_extension": ".py",
   "mimetype": "text/x-python",
   "name": "python",
   "nbconvert_exporter": "python",
   "pygments_lexer": "ipython3",
   "version": "3.8.3"
  }
 },
 "nbformat": 4,
 "nbformat_minor": 4
}
