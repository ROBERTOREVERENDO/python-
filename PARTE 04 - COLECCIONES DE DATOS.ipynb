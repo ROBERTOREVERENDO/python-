{
 "cells": [
  {
   "cell_type": "markdown",
   "metadata": {},
   "source": [
    "# PARTE 4: COLECCIONES DE DATOS"
   ]
  },
  {
   "cell_type": "markdown",
   "metadata": {},
   "source": [
    "## PARTE 4.1: LISTAS\n",
    "\n",
    "* Es una colección de datos modificable\n",
    "* Permite tener elementos repetidos\n",
    "* Permite almacenar distintos tipos de datos\n",
    "* Cada elemento se llama item\n",
    "* Colocar los elementos entre [ ] y separados de por comas"
   ]
  },
  {
   "cell_type": "code",
   "execution_count": 1,
   "metadata": {},
   "outputs": [
    {
     "name": "stdout",
     "output_type": "stream",
     "text": [
      "3.1415\n",
      "30\n",
      "True\n",
      "CHAU\n"
     ]
    }
   ],
   "source": [
    "#EJEMPLO DE LISTA\n",
    "LISTA1 = [3.1415 , 30 , True , \"HOLA\" , 'CHAU']\n",
    "print(LISTA1[0])\n",
    "print(LISTA1[1])\n",
    "print(LISTA1[2])\n",
    "\n",
    "#print(LISTA1[10])\n",
    "\n",
    "print(LISTA1[-1])"
   ]
  },
  {
   "cell_type": "code",
   "execution_count": 2,
   "metadata": {},
   "outputs": [
    {
     "name": "stdout",
     "output_type": "stream",
     "text": [
      "[1, 2, 3, 4]\n",
      "[1, 2, 3, 4]\n"
     ]
    }
   ],
   "source": [
    "#COPIA INCORRECTA DE UNA LISTA\n",
    "LISTA1 = [1,2,3]\n",
    "LISTA2 = LISTA1\n",
    "\n",
    "LISTA2.append(4)\n",
    "\n",
    "print(LISTA1)\n",
    "print(LISTA2)"
   ]
  },
  {
   "cell_type": "code",
   "execution_count": 3,
   "metadata": {},
   "outputs": [
    {
     "name": "stdout",
     "output_type": "stream",
     "text": [
      "[1, 2, 3]\n",
      "[1, 2, 3, 4]\n"
     ]
    }
   ],
   "source": [
    "#COPIA CORRECTA DE UNA LISTA\n",
    "LISTA1 = [1,2,3]\n",
    "LISTA2 = LISTA1.copy()\n",
    "\n",
    "LISTA2.append(4)\n",
    "\n",
    "print(LISTA1)\n",
    "print(LISTA2)"
   ]
  },
  {
   "cell_type": "code",
   "execution_count": 4,
   "metadata": {},
   "outputs": [
    {
     "data": {
      "text/plain": [
       "array([ 0,  1,  2,  3,  4,  5,  6,  7,  8,  9, 10, 11, 12, 13, 14, 15, 16,\n",
       "       17, 18, 19, 20, 21, 22, 23, 24, 25, 26, 27, 28, 29])"
      ]
     },
     "execution_count": 4,
     "metadata": {},
     "output_type": "execute_result"
    }
   ],
   "source": [
    "#LISTA AUTOMÁTICA\n",
    "import numpy\n",
    "\n",
    "LISTA_AUTO = numpy.arange(30)\n",
    "LISTA_AUTO"
   ]
  },
  {
   "cell_type": "code",
   "execution_count": 5,
   "metadata": {},
   "outputs": [
    {
     "data": {
      "text/plain": [
       "[1, 2, 3, 3, 4, 5, 6]"
      ]
     },
     "execution_count": 5,
     "metadata": {},
     "output_type": "execute_result"
    }
   ],
   "source": [
    "#SUMA DE LISTAS\n",
    "LISTA1 = [1,2,3]\n",
    "LISTA2 = [3,4,5,6]\n",
    "LISTA3 = LISTA1 + LISTA2\n",
    "LISTA3"
   ]
  },
  {
   "cell_type": "code",
   "execution_count": 6,
   "metadata": {},
   "outputs": [
    {
     "data": {
      "text/plain": [
       "[10, 2, 3, 4, 14, 15]"
      ]
     },
     "execution_count": 6,
     "metadata": {},
     "output_type": "execute_result"
    }
   ],
   "source": [
    "#MODIFICACIÓN DE LISTA\n",
    "LISTA1 = [1,2,3,4,5,6,7,8]\n",
    "LISTA1[0] = 10\n",
    "LISTA1[4:] = [14,15]\n",
    "#LISTA1[4:] = 17 ERROR\n",
    "LISTA1"
   ]
  },
  {
   "cell_type": "code",
   "execution_count": 7,
   "metadata": {},
   "outputs": [
    {
     "name": "stdout",
     "output_type": "stream",
     "text": [
      "8\n"
     ]
    }
   ],
   "source": [
    "#CANTIDAD DE ELEMENTOS\n",
    "LISTA1 = [1,2,3,4,5,6,7,8]\n",
    "print(len(LISTA1))"
   ]
  },
  {
   "cell_type": "code",
   "execution_count": 8,
   "metadata": {},
   "outputs": [
    {
     "name": "stdout",
     "output_type": "stream",
     "text": [
      "[[1, 2, 3], [4, 5, 6], [7, 8, 9]]\n",
      "2\n"
     ]
    }
   ],
   "source": [
    "#LISTA DE LISTAS\n",
    "LISTA1 = [1,2,3]\n",
    "LISTA2 = [4,5,6]\n",
    "LISTA3 = [7,8,9]\n",
    "\n",
    "LISTA4 = [LISTA1 , LISTA2 , LISTA3]\n",
    "print(LISTA4)\n",
    "print(LISTA4[0][1])"
   ]
  },
  {
   "cell_type": "markdown",
   "metadata": {},
   "source": [
    "#### FUNCIONES DE LISTAS"
   ]
  },
  {
   "cell_type": "code",
   "execution_count": 9,
   "metadata": {},
   "outputs": [
    {
     "data": {
      "text/plain": [
       "[1, 2, 3, 4]"
      ]
     },
     "execution_count": 9,
     "metadata": {},
     "output_type": "execute_result"
    }
   ],
   "source": [
    "#APPEND --> AGREGAR UN ELEMENTO AL FINAL\n",
    "LISTA1 = [1,2,3]\n",
    "LISTA1.append(4)\n",
    "LISTA1"
   ]
  },
  {
   "cell_type": "code",
   "execution_count": 10,
   "metadata": {},
   "outputs": [
    {
     "data": {
      "text/plain": [
       "[1, 2]"
      ]
     },
     "execution_count": 10,
     "metadata": {},
     "output_type": "execute_result"
    }
   ],
   "source": [
    "#POP --> ELIMINAR UN ELEMENTO AL FINAL\n",
    "LISTA1 = [1,2,3]\n",
    "LISTA1.pop()\n",
    "LISTA1"
   ]
  },
  {
   "cell_type": "code",
   "execution_count": 11,
   "metadata": {},
   "outputs": [
    {
     "data": {
      "text/plain": [
       "[]"
      ]
     },
     "execution_count": 11,
     "metadata": {},
     "output_type": "execute_result"
    }
   ],
   "source": [
    "#CLEAR --> ELIMINAR TODOS LOS ELEMENTOS\n",
    "LISTA1 = [1,2,3]\n",
    "LISTA1.clear()\n",
    "LISTA1"
   ]
  },
  {
   "cell_type": "code",
   "execution_count": 12,
   "metadata": {},
   "outputs": [
    {
     "data": {
      "text/plain": [
       "[4, 5, 6, 1, 2, 3]"
      ]
     },
     "execution_count": 12,
     "metadata": {},
     "output_type": "execute_result"
    }
   ],
   "source": [
    "#EXTEND --> AGREGA UNA LISTA AL FINAL\n",
    "LISTA1 = [1,2,3]\n",
    "LISTA2 = [4,5,6]\n",
    "\n",
    "LISTA2.extend(LISTA1)\n",
    "LISTA2"
   ]
  },
  {
   "cell_type": "code",
   "execution_count": 13,
   "metadata": {},
   "outputs": [
    {
     "data": {
      "text/plain": [
       "0"
      ]
     },
     "execution_count": 13,
     "metadata": {},
     "output_type": "execute_result"
    }
   ],
   "source": [
    "#COUNT --> DEVUELVE LA CANTIDAD DE VECES QUE APARECE UN ELEMENTO\n",
    "LISTA1 = [1,2,3,3,4,3,3,3,3]\n",
    "LISTA1.count(5)"
   ]
  },
  {
   "cell_type": "code",
   "execution_count": 14,
   "metadata": {},
   "outputs": [
    {
     "data": {
      "text/plain": [
       "1"
      ]
     },
     "execution_count": 14,
     "metadata": {},
     "output_type": "execute_result"
    }
   ],
   "source": [
    "#INDEX --> DEVUELVE EL ÍNDICE DE DETERMINADO ELEMENTO\n",
    "LISTA2 = [4,5,6]\n",
    "LISTA2.index(5)"
   ]
  },
  {
   "cell_type": "code",
   "execution_count": 15,
   "metadata": {},
   "outputs": [
    {
     "data": {
      "text/plain": [
       "[4, 5, 6, 50, 7, 8, 9]"
      ]
     },
     "execution_count": 15,
     "metadata": {},
     "output_type": "execute_result"
    }
   ],
   "source": [
    "#INSERT --> INSERTAR UN ELEMENTO EN POSICIÓN\n",
    "LISTA2 = [4,5,6,7,8,9]\n",
    "LISTA2.insert(3,50)\n",
    "LISTA2"
   ]
  },
  {
   "cell_type": "code",
   "execution_count": 16,
   "metadata": {},
   "outputs": [
    {
     "data": {
      "text/plain": [
       "[4, 5, 6, 8, 9]"
      ]
     },
     "execution_count": 16,
     "metadata": {},
     "output_type": "execute_result"
    }
   ],
   "source": [
    "#POP --> ELIMINAR UN ELEMENTO EN POSICIÓN\n",
    "LISTA2 = [4,5,6,7,8,9]\n",
    "LISTA2.pop(3)\n",
    "LISTA2"
   ]
  },
  {
   "cell_type": "code",
   "execution_count": 17,
   "metadata": {},
   "outputs": [
    {
     "data": {
      "text/plain": [
       "[4, 5, 6, 7, 8, 8, 8, 8, 8, 9]"
      ]
     },
     "execution_count": 17,
     "metadata": {},
     "output_type": "execute_result"
    }
   ],
   "source": [
    "#REMOVE --> ELIMINAR UN ELEMENTO POR VALOR\n",
    "LISTA2 = [4,5,6,7,8,8,8,8,8,8,9]\n",
    "LISTA2.remove(8)\n",
    "LISTA2"
   ]
  },
  {
   "cell_type": "code",
   "execution_count": 18,
   "metadata": {},
   "outputs": [
    {
     "data": {
      "text/plain": [
       "[8, 7, 6, 5, 4]"
      ]
     },
     "execution_count": 18,
     "metadata": {},
     "output_type": "execute_result"
    }
   ],
   "source": [
    "#REVERSE --> REVERTIR UNA LISTA\n",
    "LISTA2 = [4,5,6,7,8]\n",
    "LISTA2.reverse()\n",
    "LISTA2"
   ]
  },
  {
   "cell_type": "code",
   "execution_count": 19,
   "metadata": {},
   "outputs": [
    {
     "data": {
      "text/plain": [
       "[4, 5, 6, 7, 8]"
      ]
     },
     "execution_count": 19,
     "metadata": {},
     "output_type": "execute_result"
    }
   ],
   "source": [
    "#ORDENAR ASCENDENTE UNA LISTA\n",
    "LISTA2 = [4,5,7,8,6]\n",
    "LISTA2.sort(reverse=False)\n",
    "LISTA2"
   ]
  },
  {
   "cell_type": "code",
   "execution_count": 20,
   "metadata": {},
   "outputs": [
    {
     "data": {
      "text/plain": [
       "[8, 7, 6, 5, 4]"
      ]
     },
     "execution_count": 20,
     "metadata": {},
     "output_type": "execute_result"
    }
   ],
   "source": [
    "#ORDENAR DESCENDENTE UNA LISTA\n",
    "LISTA2 = [4,5,7,8,6]\n",
    "LISTA2.sort(reverse=True)\n",
    "LISTA2"
   ]
  },
  {
   "cell_type": "code",
   "execution_count": 21,
   "metadata": {},
   "outputs": [
    {
     "data": {
      "text/plain": [
       "[False, True, 4, 5, 6, 6.5, 7, 8]"
      ]
     },
     "execution_count": 21,
     "metadata": {},
     "output_type": "execute_result"
    }
   ],
   "source": [
    "#ORDENAR ASCENDENTE UNA LISTA CON OTROS TIPOS DE DATOS\n",
    "LISTA2 = [4,5,7,8,6 , 6.5, True,False]\n",
    "LISTA2.sort(reverse=False)\n",
    "LISTA2"
   ]
  },
  {
   "cell_type": "markdown",
   "metadata": {},
   "source": [
    "## PARTE 4.2: TUPLAS\n",
    "\n",
    "* Es una colección de datos inmutable\n",
    "* Permite tener elementos repetidos\n",
    "* Permite almacenar distintos tipos de datos\n",
    "* Cada elemento se llama item\n",
    "* Colocar los elementos entre ( ) y separados de por comas"
   ]
  },
  {
   "cell_type": "code",
   "execution_count": 22,
   "metadata": {},
   "outputs": [
    {
     "name": "stdout",
     "output_type": "stream",
     "text": [
      "3.1415\n",
      "30\n",
      "True\n",
      "CHAU\n"
     ]
    }
   ],
   "source": [
    "#EJEMPLO DE TUPLA\n",
    "TUPLA1 = (3.1415 , 30 , True , \"HOLA\" , 'CHAU')\n",
    "print(TUPLA1[0])\n",
    "print(TUPLA1[1])\n",
    "print(TUPLA1[2])\n",
    "\n",
    "#print(TUPLA1[10])\n",
    "\n",
    "print(TUPLA1[-1])"
   ]
  },
  {
   "cell_type": "code",
   "execution_count": 23,
   "metadata": {},
   "outputs": [
    {
     "name": "stdout",
     "output_type": "stream",
     "text": [
      "8\n"
     ]
    }
   ],
   "source": [
    "#CANTIDAD DE ELEMENTOS\n",
    "TUPLA1 = (1,2,3,4,5,6,7,8)\n",
    "print(len(TUPLA1))"
   ]
  },
  {
   "cell_type": "code",
   "execution_count": 24,
   "metadata": {},
   "outputs": [
    {
     "name": "stdout",
     "output_type": "stream",
     "text": [
      "((1, 2, 3), (4, 5, 6), (7, 8, 9))\n",
      "2\n"
     ]
    }
   ],
   "source": [
    "#TUPLA DE TUPLAS\n",
    "TUPLA1 = (1,2,3)\n",
    "TUPLA2 = (4,5,6)\n",
    "TUPLA3 = (7,8,9)\n",
    "\n",
    "TUPLA4 = (TUPLA1 , TUPLA2 , TUPLA3)\n",
    "print(TUPLA4)\n",
    "print(TUPLA4[0][1])"
   ]
  },
  {
   "cell_type": "code",
   "execution_count": 25,
   "metadata": {},
   "outputs": [
    {
     "data": {
      "text/plain": [
       "6"
      ]
     },
     "execution_count": 25,
     "metadata": {},
     "output_type": "execute_result"
    }
   ],
   "source": [
    "#COUNT --> DEVUELVE LA CANTIDAD DE VECES QUE APARECE UN ELEMENTO\n",
    "TUPLA1 = (1,2,3,3,4,3,3,3,3)\n",
    "TUPLA1.count(3)"
   ]
  },
  {
   "cell_type": "code",
   "execution_count": 26,
   "metadata": {},
   "outputs": [
    {
     "data": {
      "text/plain": [
       "1"
      ]
     },
     "execution_count": 26,
     "metadata": {},
     "output_type": "execute_result"
    }
   ],
   "source": [
    "#INDEX --> DEVUELVE EL ÍNDICE DE DETERMINADO ELEMENTO\n",
    "TUPLA1 = (4,5,6)\n",
    "TUPLA1.index(5)"
   ]
  },
  {
   "cell_type": "markdown",
   "metadata": {},
   "source": [
    "## PARTE 4.3: CONJUNTOS\n",
    "\n",
    "* Es una colección de datos que puede modificarse\n",
    "* No permite tener elementos repetidos\n",
    "* Permite almacenar distintos tipos de datos\n",
    "* Cada elemento se llama item\n",
    "* Colocar los elementos entre { }  y separados de por comas\n",
    "* Sin importar el orden que se ingresen, se guardan ordenados y sin repetirse"
   ]
  },
  {
   "cell_type": "code",
   "execution_count": 27,
   "metadata": {},
   "outputs": [
    {
     "data": {
      "text/plain": [
       "{-1, 3, 4, 6, 8, 'CHAU', False, 'HOLA', True}"
      ]
     },
     "execution_count": 27,
     "metadata": {},
     "output_type": "execute_result"
    }
   ],
   "source": [
    "CONJUNTO = {3,6,8,-1,4,4,4,4,4,4,4,4,4,4,4,4,4, True, False, \"HOLA\" ,\"CHAU\"}\n",
    "CONJUNTO"
   ]
  },
  {
   "cell_type": "markdown",
   "metadata": {},
   "source": [
    "#### OPERACIONES DE ELEMENTOS"
   ]
  },
  {
   "cell_type": "code",
   "execution_count": 28,
   "metadata": {},
   "outputs": [
    {
     "data": {
      "text/plain": [
       "{-10, 0, 1, 3, 4, 5, 6}"
      ]
     },
     "execution_count": 28,
     "metadata": {},
     "output_type": "execute_result"
    }
   ],
   "source": [
    "#ADD --> AGREGAR ELEMENTO AL CONJUNTO\n",
    "CON1 = {0,3,4,5,6,1}\n",
    "CON1.add(-10)\n",
    "CON1"
   ]
  },
  {
   "cell_type": "code",
   "execution_count": 29,
   "metadata": {},
   "outputs": [
    {
     "data": {
      "text/plain": [
       "{0, 1, 3, 4, 5, 6}"
      ]
     },
     "execution_count": 29,
     "metadata": {},
     "output_type": "execute_result"
    }
   ],
   "source": [
    "#DISCARD --> ELIMINAR ELEMENTO DEL CONJUNTO\n",
    "CON1 = {0,3,4,5,6,1}\n",
    "CON1.discard(10)\n",
    "CON1"
   ]
  },
  {
   "cell_type": "code",
   "execution_count": 30,
   "metadata": {},
   "outputs": [
    {
     "data": {
      "text/plain": [
       "set()"
      ]
     },
     "execution_count": 30,
     "metadata": {},
     "output_type": "execute_result"
    }
   ],
   "source": [
    "#CLEAR --> ELIMINAR TODOS LOS ELEMENTOS DEL CONJUNTO\n",
    "CON1 = {0,3,4,5,6,1}\n",
    "CON1.clear()\n",
    "CON1"
   ]
  },
  {
   "cell_type": "code",
   "execution_count": 31,
   "metadata": {},
   "outputs": [
    {
     "name": "stdout",
     "output_type": "stream",
     "text": [
      "True\n",
      "False\n"
     ]
    }
   ],
   "source": [
    "#IN --> VALIDA SI ESTÁ EN EL CONJUNTO\n",
    "CON1 = {0,3,4,5,6,1}\n",
    "print(1 in CON1)\n",
    "print(10 in CON1)"
   ]
  },
  {
   "cell_type": "markdown",
   "metadata": {},
   "source": [
    "#### OPERACIONES DE CONJUNTOS"
   ]
  },
  {
   "cell_type": "code",
   "execution_count": 32,
   "metadata": {},
   "outputs": [
    {
     "name": "stdout",
     "output_type": "stream",
     "text": [
      "set()\n",
      "set()\n"
     ]
    }
   ],
   "source": [
    "#COPIA INCORRECTA DE UN CONJUNTO\n",
    "CON1 = {1,2,3}\n",
    "CON2 = CON1\n",
    "\n",
    "CON2.clear()\n",
    "\n",
    "print(CON1)\n",
    "print(CON2)"
   ]
  },
  {
   "cell_type": "code",
   "execution_count": 33,
   "metadata": {},
   "outputs": [
    {
     "name": "stdout",
     "output_type": "stream",
     "text": [
      "{1, 2, 3}\n",
      "set()\n"
     ]
    }
   ],
   "source": [
    "#COPIA CORRECTA DE UN CONJUNTO\n",
    "CON1 = {1,2,3}\n",
    "CON2 = CON1.copy()\n",
    "\n",
    "CON2.clear()\n",
    "\n",
    "print(CON1)\n",
    "print(CON2)"
   ]
  },
  {
   "cell_type": "code",
   "execution_count": 34,
   "metadata": {},
   "outputs": [
    {
     "data": {
      "text/plain": [
       "{0, 1, 2, 3}"
      ]
     },
     "execution_count": 34,
     "metadata": {},
     "output_type": "execute_result"
    }
   ],
   "source": [
    "#CONVERTIR LISTA A CONJUNTO\n",
    "LISTA1 = [0,2,3,3,3,3,1]\n",
    "CON1 = set(LISTA1)\n",
    "CON1"
   ]
  },
  {
   "cell_type": "code",
   "execution_count": 35,
   "metadata": {},
   "outputs": [
    {
     "data": {
      "text/plain": [
       "{' ', '0', '1', '2', 'A', 'D', 'H', 'L', 'M', 'N', 'O', 'U', 'X', 'Y', 'Z'}"
      ]
     },
     "execution_count": 35,
     "metadata": {},
     "output_type": "execute_result"
    }
   ],
   "source": [
    "#CONVERTIR CADENA A CONJUNTO\n",
    "CADENA = \"HOLA MUNDO 2021 XYZ\"\n",
    "CON1 = set(CADENA)\n",
    "CON1"
   ]
  },
  {
   "cell_type": "code",
   "execution_count": 36,
   "metadata": {},
   "outputs": [
    {
     "name": "stdout",
     "output_type": "stream",
     "text": [
      "True\n",
      "False\n"
     ]
    }
   ],
   "source": [
    "#COMPARACIÓN DE VARIOS CONJUNTOS\n",
    "CON1 = {1,2,3,4,5}\n",
    "CON2 = {6,7,8}\n",
    "CON3 = {5,6,7}\n",
    "CON4 = {1,2,3}\n",
    "\n",
    "#ISDISJOINT --> SI NO COMPARTEN ELEMENTOS\n",
    "print(CON1.isdisjoint(CON2))\n",
    "print(CON1.isdisjoint(CON3))"
   ]
  },
  {
   "cell_type": "code",
   "execution_count": 37,
   "metadata": {},
   "outputs": [
    {
     "name": "stdout",
     "output_type": "stream",
     "text": [
      "False\n",
      "True\n"
     ]
    }
   ],
   "source": [
    "#COMPARACIÓN DE VARIOS CONJUNTOS\n",
    "CON1 = {1,2,3,4,5}\n",
    "CON2 = {6,7,8}\n",
    "CON3 = {5,6,7}\n",
    "CON4 = {1,2,3}\n",
    "\n",
    "#ISSUBSET --> VERIFICA SI ES SUBCONJUNTO\n",
    "print(CON3.issubset(CON1))\n",
    "print(CON4.issubset(CON1))"
   ]
  },
  {
   "cell_type": "code",
   "execution_count": 38,
   "metadata": {},
   "outputs": [
    {
     "name": "stdout",
     "output_type": "stream",
     "text": [
      "False\n",
      "True\n"
     ]
    }
   ],
   "source": [
    "#COMPARACIÓN DE VARIOS CONJUNTOS\n",
    "CON1 = {1,2,3,4,5}\n",
    "CON2 = {6,7,8}\n",
    "CON3 = {5,6,7}\n",
    "CON4 = {1,2,3}\n",
    "\n",
    "#ISSUPERSET --> VERIFICA SI ES SUPERCONJUNTO\n",
    "print(CON1.issuperset(CON3))\n",
    "print(CON1.issuperset(CON4))"
   ]
  },
  {
   "cell_type": "code",
   "execution_count": 39,
   "metadata": {},
   "outputs": [
    {
     "name": "stdout",
     "output_type": "stream",
     "text": [
      "{1, 2, 3, 4, 5, 6, 7, 8}\n",
      "{1, 2, 3, 5, 6, 7}\n"
     ]
    }
   ],
   "source": [
    "#OPERACIONES DE VARIOS CONJUNTOS\n",
    "CON1 = {1,2,3,4,5}\n",
    "CON2 = {6,7,8}\n",
    "CON3 = {5,6,7}\n",
    "CON4 = {1,2,3}\n",
    "\n",
    "#UNION --> UNE 2 CONJUNTOS\n",
    "print(CON1.union(CON2))\n",
    "print(CON3.union(CON4))"
   ]
  },
  {
   "cell_type": "code",
   "execution_count": 40,
   "metadata": {},
   "outputs": [
    {
     "name": "stdout",
     "output_type": "stream",
     "text": [
      "{5}\n",
      "{1, 2, 3}\n"
     ]
    }
   ],
   "source": [
    "#OPERACIONES DE VARIOS CONJUNTOS\n",
    "CON1 = {1,2,3,4,5}\n",
    "CON2 = {6,7,8}\n",
    "CON3 = {5,6,7}\n",
    "CON4 = {1,2,3}\n",
    "\n",
    "#INTESERCTION --> INTERSECCIÓN DE 2 CONJUNTOS\n",
    "print(CON1.intersection(CON3))\n",
    "print(CON1.intersection(CON4))"
   ]
  },
  {
   "cell_type": "code",
   "execution_count": 41,
   "metadata": {},
   "outputs": [
    {
     "name": "stdout",
     "output_type": "stream",
     "text": [
      "{1, 2, 3, 4}\n",
      "{6, 7}\n"
     ]
    }
   ],
   "source": [
    "#OPERACIONES DE VARIOS CONJUNTOS\n",
    "CON1 = {1,2,3,4,5}\n",
    "CON2 = {6,7,8}\n",
    "CON3 = {5,6,7}\n",
    "CON4 = {1,2,3}\n",
    "\n",
    "#DIFFERENCE --> DIFERENCIA DE 2 CONJUNTOS\n",
    "print(CON1.difference(CON3)) # C1 - C3\n",
    "print(CON3.difference(CON1)) # C3 - C1"
   ]
  },
  {
   "cell_type": "code",
   "execution_count": 42,
   "metadata": {},
   "outputs": [
    {
     "name": "stdout",
     "output_type": "stream",
     "text": [
      "{1, 2, 3, 4, 6, 7}\n",
      "{1, 2, 3, 4, 6, 7}\n"
     ]
    }
   ],
   "source": [
    "#OPERACIONES DE VARIOS CONJUNTOS\n",
    "CON1 = {1,2,3,4,5}\n",
    "CON2 = {6,7,8}\n",
    "CON3 = {5,6,7}\n",
    "CON4 = {1,2,3}\n",
    "\n",
    "#SYMMETRIC_DIFFERENCE --> DIFERENCIA SIMÉTRICA DE 2 CONJUNTOS\n",
    "print(CON1.symmetric_difference(CON3)) \n",
    "print(CON3.symmetric_difference(CON1)) "
   ]
  },
  {
   "cell_type": "markdown",
   "metadata": {},
   "source": [
    "## PARTE 4.4: DICCIONARIOS\n",
    "\n",
    "* Es una colección de datos que puede modificarse\n",
    "* No permite tener elementos repetidos\n",
    "* Permite almacenar distintos tipos de datos \n",
    "* Cada elemento tiene una llave asociado a un valor (llaves deben ser únicas)\n",
    "* Colocar los elementos entre { } , separados de por comas y dos puntos entre llave/valor"
   ]
  },
  {
   "cell_type": "code",
   "execution_count": 43,
   "metadata": {},
   "outputs": [],
   "source": [
    "#DICCIONARIO >>> LLAVE : VALOR\n",
    "ANIMALES = {\"PERRO\":\"DOG\" , \"GATO\":\"CAT\" , \"ZORRO\":\"FOX\" , \"TORO\":\"BULL\"}\n",
    "EDADES = {\"BENJAMIN\":27 , \"RICARDO\":60 , \"NORMA\":90 , \"JUAN\":25}\n",
    "EJEMPLO_DICT = {\"A1\":True , \"A2\":False , \"A3\":False , \"A4\":True}"
   ]
  },
  {
   "cell_type": "code",
   "execution_count": 44,
   "metadata": {},
   "outputs": [
    {
     "data": {
      "text/plain": [
       "{'PERRO': 'DOG', 'GATO': 'CAT', 'ZORRO': 'FOX', 'TORO': 'BULL', 'VACA': 'COW'}"
      ]
     },
     "execution_count": 44,
     "metadata": {},
     "output_type": "execute_result"
    }
   ],
   "source": [
    "#AGREGAR ELEMENTOS\n",
    "ANIMALES[\"VACA\"] = \"COW\"\n",
    "#ANIMALES[\"PERRO\"] = \"DOGX\"\n",
    "ANIMALES"
   ]
  },
  {
   "cell_type": "code",
   "execution_count": 45,
   "metadata": {},
   "outputs": [
    {
     "name": "stdout",
     "output_type": "stream",
     "text": [
      "CAT\n"
     ]
    }
   ],
   "source": [
    "#ACCEDER AL VALOR DE UN DICCIONARIO\n",
    "print(ANIMALES[\"GATO\"])\n",
    "#print(ANIMALES[\"CABALLO\"])"
   ]
  },
  {
   "cell_type": "code",
   "execution_count": 46,
   "metadata": {},
   "outputs": [
    {
     "name": "stdout",
     "output_type": "stream",
     "text": [
      "PERRO\n",
      "GATO\n",
      "ZORRO\n",
      "TORO\n",
      "VACA\n"
     ]
    }
   ],
   "source": [
    "#ACCEDER A LAS LLAVES DE UN DICCIONARIO\n",
    "for X in ANIMALES:\n",
    "    print(X)"
   ]
  },
  {
   "cell_type": "code",
   "execution_count": 47,
   "metadata": {},
   "outputs": [
    {
     "name": "stdout",
     "output_type": "stream",
     "text": [
      "DOG\n",
      "CAT\n",
      "FOX\n",
      "BULL\n",
      "COW\n"
     ]
    }
   ],
   "source": [
    "#ACCEDER A LOS VALORES DE UN DICCIONARIO\n",
    "for X in ANIMALES:\n",
    "    print(ANIMALES[X])"
   ]
  },
  {
   "cell_type": "code",
   "execution_count": 48,
   "metadata": {},
   "outputs": [
    {
     "name": "stdout",
     "output_type": "stream",
     "text": [
      "PERRO --- DOG\n",
      "GATO --- CAT\n",
      "ZORRO --- FOX\n",
      "TORO --- BULL\n",
      "VACA --- COW\n"
     ]
    }
   ],
   "source": [
    "for LLAVE,VALOR in ANIMALES.items():\n",
    "    print(LLAVE , \"---\", VALOR)"
   ]
  },
  {
   "cell_type": "code",
   "execution_count": 49,
   "metadata": {},
   "outputs": [
    {
     "name": "stdout",
     "output_type": "stream",
     "text": [
      "PERRO --- DOG\n",
      "GATO --- CAT\n",
      "ZORRO --- FOX\n",
      "TORO --- BULL\n",
      "VACA --- COW\n"
     ]
    }
   ],
   "source": [
    "for X in ANIMALES:\n",
    "    print(X , \"---\", ANIMALES[X])"
   ]
  },
  {
   "cell_type": "code",
   "execution_count": 50,
   "metadata": {},
   "outputs": [
    {
     "name": "stdout",
     "output_type": "stream",
     "text": [
      "{'PERRO': 'DOG', 'GATO': 'CAT', 'ZORRO': 'FOX', 'TORO': 'BULL', 'VACA': 'COW'}\n",
      "{'GATO': 'CAT', 'ZORRO': 'FOX', 'TORO': 'BULL', 'VACA': 'COW'}\n"
     ]
    }
   ],
   "source": [
    "#DEL --> ELIMINAR REGISTRO DE DICCIONARIO\n",
    "print(ANIMALES)\n",
    "del(ANIMALES[\"PERRO\"])\n",
    "print(ANIMALES)"
   ]
  },
  {
   "cell_type": "code",
   "execution_count": 51,
   "metadata": {},
   "outputs": [
    {
     "name": "stdout",
     "output_type": "stream",
     "text": [
      "CAT\n",
      "NO ESTÁ DICHA LLAVE\n"
     ]
    }
   ],
   "source": [
    "#GET --> OBTENER EL VALOR\n",
    "print(ANIMALES.get(\"GATO\",\"NO ESTÁ DICHA LLAVE\"))\n",
    "print(ANIMALES.get(\"PERRO\",\"NO ESTÁ DICHA LLAVE\"))"
   ]
  },
  {
   "cell_type": "code",
   "execution_count": 52,
   "metadata": {},
   "outputs": [
    {
     "data": {
      "text/plain": [
       "dict_keys(['GATO', 'ZORRO', 'TORO', 'VACA'])"
      ]
     },
     "execution_count": 52,
     "metadata": {},
     "output_type": "execute_result"
    }
   ],
   "source": [
    "#KEYS --> ACCESO A LLAVES\n",
    "ANIMALES.keys()"
   ]
  },
  {
   "cell_type": "code",
   "execution_count": 53,
   "metadata": {},
   "outputs": [
    {
     "data": {
      "text/plain": [
       "dict_values(['CAT', 'FOX', 'BULL', 'COW'])"
      ]
     },
     "execution_count": 53,
     "metadata": {},
     "output_type": "execute_result"
    }
   ],
   "source": [
    "#VALUES --> ACCESO A VALORES\n",
    "ANIMALES.values()"
   ]
  },
  {
   "cell_type": "code",
   "execution_count": 54,
   "metadata": {},
   "outputs": [
    {
     "data": {
      "text/plain": [
       "dict_items([('GATO', 'CAT'), ('ZORRO', 'FOX'), ('TORO', 'BULL'), ('VACA', 'COW')])"
      ]
     },
     "execution_count": 54,
     "metadata": {},
     "output_type": "execute_result"
    }
   ],
   "source": [
    "#ITEMS --> ACCESO A LLAVES Y VALORES\n",
    "ANIMALES.items()"
   ]
  },
  {
   "cell_type": "code",
   "execution_count": 55,
   "metadata": {},
   "outputs": [],
   "source": [
    "#CLEAR --> ELIMINA TODOS LOS REGISTROS\n",
    "ANIMALES.clear()"
   ]
  },
  {
   "cell_type": "code",
   "execution_count": 79,
   "metadata": {},
   "outputs": [
    {
     "data": {
      "text/plain": [
       "0.0"
      ]
     },
     "execution_count": 79,
     "metadata": {},
     "output_type": "execute_result"
    }
   ],
   "source": [
    "#DEFAULT DICT --> DICCIONARIO CON VALORES POR DEFECTO\n",
    "from collections import defaultdict\n",
    "\n",
    "ANIMALES_DEFAULT = {}\n",
    "ANIMALES_DEFAULT = defaultdict(float)  #str   int   float\n",
    "\n",
    "ANIMALES_DEFAULT[\"GATO\"] = \"CAT\"\n",
    "ANIMALES_DEFAULT[\"PERRO\"] = \"DOG\"\n",
    "\n",
    "ANIMALES_DEFAULT[\"CABALLO\"]"
   ]
  },
  {
   "cell_type": "code",
   "execution_count": 80,
   "metadata": {},
   "outputs": [
    {
     "data": {
      "text/plain": [
       "defaultdict(float, {'GATO': 'CAT', 'PERRO': 'DOG', 'CABALLO': 0.0})"
      ]
     },
     "execution_count": 80,
     "metadata": {},
     "output_type": "execute_result"
    }
   ],
   "source": [
    "ANIMALES_DEFAULT"
   ]
  },
  {
   "cell_type": "markdown",
   "metadata": {},
   "source": [
    "## PARTE 4.5: DATASET\n",
    "\n",
    "* Es la colección de datos más versátil que tiene Python\n",
    "* Permite tener elementos repetidos\n",
    "* Permite almacenar distintos tipos de datos\n",
    "* Cada elemento se registra por filas\n",
    "* Se debe utilizar el paquete pandas para definirlo\n",
    "* SERÁ TU MEJOR AMIGO"
   ]
  },
  {
   "cell_type": "code",
   "execution_count": 60,
   "metadata": {},
   "outputs": [],
   "source": [
    "import pandas as pd\n",
    "RUTA = \"C:/Users/BENJAMIN/CERTIFICACION PYTHON/EJEMPLO DATASET.csv\"\n",
    "DATASET = pd.read_csv(RUTA)"
   ]
  },
  {
   "cell_type": "code",
   "execution_count": 61,
   "metadata": {},
   "outputs": [
    {
     "data": {
      "text/html": [
       "<div>\n",
       "<style scoped>\n",
       "    .dataframe tbody tr th:only-of-type {\n",
       "        vertical-align: middle;\n",
       "    }\n",
       "\n",
       "    .dataframe tbody tr th {\n",
       "        vertical-align: top;\n",
       "    }\n",
       "\n",
       "    .dataframe thead th {\n",
       "        text-align: right;\n",
       "    }\n",
       "</style>\n",
       "<table border=\"1\" class=\"dataframe\">\n",
       "  <thead>\n",
       "    <tr style=\"text-align: right;\">\n",
       "      <th></th>\n",
       "      <th>State</th>\n",
       "      <th>Account length</th>\n",
       "      <th>Area code</th>\n",
       "      <th>International plan</th>\n",
       "      <th>Voice mail plan</th>\n",
       "      <th>Number vmail messages</th>\n",
       "      <th>Total day minutes</th>\n",
       "      <th>Total day calls</th>\n",
       "      <th>Total day charge</th>\n",
       "      <th>Total eve minutes</th>\n",
       "      <th>Total eve calls</th>\n",
       "      <th>Total eve charge</th>\n",
       "      <th>Total night minutes</th>\n",
       "      <th>Total night calls</th>\n",
       "      <th>Total night charge</th>\n",
       "      <th>Total intl minutes</th>\n",
       "      <th>Total intl calls</th>\n",
       "      <th>Total intl charge</th>\n",
       "      <th>Customer service calls</th>\n",
       "      <th>Churn</th>\n",
       "    </tr>\n",
       "  </thead>\n",
       "  <tbody>\n",
       "    <tr>\n",
       "      <th>0</th>\n",
       "      <td>KS</td>\n",
       "      <td>128</td>\n",
       "      <td>415</td>\n",
       "      <td>No</td>\n",
       "      <td>Yes</td>\n",
       "      <td>25</td>\n",
       "      <td>265.1</td>\n",
       "      <td>110</td>\n",
       "      <td>45.07</td>\n",
       "      <td>197.4</td>\n",
       "      <td>99</td>\n",
       "      <td>16.78</td>\n",
       "      <td>244.7</td>\n",
       "      <td>91</td>\n",
       "      <td>11.01</td>\n",
       "      <td>10.0</td>\n",
       "      <td>3</td>\n",
       "      <td>2.70</td>\n",
       "      <td>1</td>\n",
       "      <td>False</td>\n",
       "    </tr>\n",
       "    <tr>\n",
       "      <th>1</th>\n",
       "      <td>OH</td>\n",
       "      <td>107</td>\n",
       "      <td>415</td>\n",
       "      <td>No</td>\n",
       "      <td>Yes</td>\n",
       "      <td>26</td>\n",
       "      <td>161.6</td>\n",
       "      <td>123</td>\n",
       "      <td>27.47</td>\n",
       "      <td>195.5</td>\n",
       "      <td>103</td>\n",
       "      <td>16.62</td>\n",
       "      <td>254.4</td>\n",
       "      <td>103</td>\n",
       "      <td>11.45</td>\n",
       "      <td>13.7</td>\n",
       "      <td>3</td>\n",
       "      <td>3.70</td>\n",
       "      <td>1</td>\n",
       "      <td>False</td>\n",
       "    </tr>\n",
       "    <tr>\n",
       "      <th>2</th>\n",
       "      <td>NJ</td>\n",
       "      <td>137</td>\n",
       "      <td>415</td>\n",
       "      <td>No</td>\n",
       "      <td>No</td>\n",
       "      <td>0</td>\n",
       "      <td>243.4</td>\n",
       "      <td>114</td>\n",
       "      <td>41.38</td>\n",
       "      <td>121.2</td>\n",
       "      <td>110</td>\n",
       "      <td>10.30</td>\n",
       "      <td>162.6</td>\n",
       "      <td>104</td>\n",
       "      <td>7.32</td>\n",
       "      <td>12.2</td>\n",
       "      <td>5</td>\n",
       "      <td>3.29</td>\n",
       "      <td>0</td>\n",
       "      <td>False</td>\n",
       "    </tr>\n",
       "    <tr>\n",
       "      <th>3</th>\n",
       "      <td>OH</td>\n",
       "      <td>84</td>\n",
       "      <td>408</td>\n",
       "      <td>Yes</td>\n",
       "      <td>No</td>\n",
       "      <td>0</td>\n",
       "      <td>299.4</td>\n",
       "      <td>71</td>\n",
       "      <td>50.90</td>\n",
       "      <td>61.9</td>\n",
       "      <td>88</td>\n",
       "      <td>5.26</td>\n",
       "      <td>196.9</td>\n",
       "      <td>89</td>\n",
       "      <td>8.86</td>\n",
       "      <td>6.6</td>\n",
       "      <td>7</td>\n",
       "      <td>1.78</td>\n",
       "      <td>2</td>\n",
       "      <td>False</td>\n",
       "    </tr>\n",
       "    <tr>\n",
       "      <th>4</th>\n",
       "      <td>OK</td>\n",
       "      <td>75</td>\n",
       "      <td>415</td>\n",
       "      <td>Yes</td>\n",
       "      <td>No</td>\n",
       "      <td>0</td>\n",
       "      <td>166.7</td>\n",
       "      <td>113</td>\n",
       "      <td>28.34</td>\n",
       "      <td>148.3</td>\n",
       "      <td>122</td>\n",
       "      <td>12.61</td>\n",
       "      <td>186.9</td>\n",
       "      <td>121</td>\n",
       "      <td>8.41</td>\n",
       "      <td>10.1</td>\n",
       "      <td>3</td>\n",
       "      <td>2.73</td>\n",
       "      <td>3</td>\n",
       "      <td>False</td>\n",
       "    </tr>\n",
       "    <tr>\n",
       "      <th>...</th>\n",
       "      <td>...</td>\n",
       "      <td>...</td>\n",
       "      <td>...</td>\n",
       "      <td>...</td>\n",
       "      <td>...</td>\n",
       "      <td>...</td>\n",
       "      <td>...</td>\n",
       "      <td>...</td>\n",
       "      <td>...</td>\n",
       "      <td>...</td>\n",
       "      <td>...</td>\n",
       "      <td>...</td>\n",
       "      <td>...</td>\n",
       "      <td>...</td>\n",
       "      <td>...</td>\n",
       "      <td>...</td>\n",
       "      <td>...</td>\n",
       "      <td>...</td>\n",
       "      <td>...</td>\n",
       "      <td>...</td>\n",
       "    </tr>\n",
       "    <tr>\n",
       "      <th>2661</th>\n",
       "      <td>SC</td>\n",
       "      <td>79</td>\n",
       "      <td>415</td>\n",
       "      <td>No</td>\n",
       "      <td>No</td>\n",
       "      <td>0</td>\n",
       "      <td>134.7</td>\n",
       "      <td>98</td>\n",
       "      <td>22.90</td>\n",
       "      <td>189.7</td>\n",
       "      <td>68</td>\n",
       "      <td>16.12</td>\n",
       "      <td>221.4</td>\n",
       "      <td>128</td>\n",
       "      <td>9.96</td>\n",
       "      <td>11.8</td>\n",
       "      <td>5</td>\n",
       "      <td>3.19</td>\n",
       "      <td>2</td>\n",
       "      <td>False</td>\n",
       "    </tr>\n",
       "    <tr>\n",
       "      <th>2662</th>\n",
       "      <td>AZ</td>\n",
       "      <td>192</td>\n",
       "      <td>415</td>\n",
       "      <td>No</td>\n",
       "      <td>Yes</td>\n",
       "      <td>36</td>\n",
       "      <td>156.2</td>\n",
       "      <td>77</td>\n",
       "      <td>26.55</td>\n",
       "      <td>215.5</td>\n",
       "      <td>126</td>\n",
       "      <td>18.32</td>\n",
       "      <td>279.1</td>\n",
       "      <td>83</td>\n",
       "      <td>12.56</td>\n",
       "      <td>9.9</td>\n",
       "      <td>6</td>\n",
       "      <td>2.67</td>\n",
       "      <td>2</td>\n",
       "      <td>False</td>\n",
       "    </tr>\n",
       "    <tr>\n",
       "      <th>2663</th>\n",
       "      <td>WV</td>\n",
       "      <td>68</td>\n",
       "      <td>415</td>\n",
       "      <td>No</td>\n",
       "      <td>No</td>\n",
       "      <td>0</td>\n",
       "      <td>231.1</td>\n",
       "      <td>57</td>\n",
       "      <td>39.29</td>\n",
       "      <td>153.4</td>\n",
       "      <td>55</td>\n",
       "      <td>13.04</td>\n",
       "      <td>191.3</td>\n",
       "      <td>123</td>\n",
       "      <td>8.61</td>\n",
       "      <td>9.6</td>\n",
       "      <td>4</td>\n",
       "      <td>2.59</td>\n",
       "      <td>3</td>\n",
       "      <td>False</td>\n",
       "    </tr>\n",
       "    <tr>\n",
       "      <th>2664</th>\n",
       "      <td>RI</td>\n",
       "      <td>28</td>\n",
       "      <td>510</td>\n",
       "      <td>No</td>\n",
       "      <td>No</td>\n",
       "      <td>0</td>\n",
       "      <td>180.8</td>\n",
       "      <td>109</td>\n",
       "      <td>30.74</td>\n",
       "      <td>288.8</td>\n",
       "      <td>58</td>\n",
       "      <td>24.55</td>\n",
       "      <td>191.9</td>\n",
       "      <td>91</td>\n",
       "      <td>8.64</td>\n",
       "      <td>14.1</td>\n",
       "      <td>6</td>\n",
       "      <td>3.81</td>\n",
       "      <td>2</td>\n",
       "      <td>False</td>\n",
       "    </tr>\n",
       "    <tr>\n",
       "      <th>2665</th>\n",
       "      <td>TN</td>\n",
       "      <td>74</td>\n",
       "      <td>415</td>\n",
       "      <td>No</td>\n",
       "      <td>Yes</td>\n",
       "      <td>25</td>\n",
       "      <td>234.4</td>\n",
       "      <td>113</td>\n",
       "      <td>39.85</td>\n",
       "      <td>265.9</td>\n",
       "      <td>82</td>\n",
       "      <td>22.60</td>\n",
       "      <td>241.4</td>\n",
       "      <td>77</td>\n",
       "      <td>10.86</td>\n",
       "      <td>13.7</td>\n",
       "      <td>4</td>\n",
       "      <td>3.70</td>\n",
       "      <td>0</td>\n",
       "      <td>False</td>\n",
       "    </tr>\n",
       "  </tbody>\n",
       "</table>\n",
       "<p>2666 rows × 20 columns</p>\n",
       "</div>"
      ],
      "text/plain": [
       "     State  Account length  Area code International plan Voice mail plan  \\\n",
       "0       KS             128        415                 No             Yes   \n",
       "1       OH             107        415                 No             Yes   \n",
       "2       NJ             137        415                 No              No   \n",
       "3       OH              84        408                Yes              No   \n",
       "4       OK              75        415                Yes              No   \n",
       "...    ...             ...        ...                ...             ...   \n",
       "2661    SC              79        415                 No              No   \n",
       "2662    AZ             192        415                 No             Yes   \n",
       "2663    WV              68        415                 No              No   \n",
       "2664    RI              28        510                 No              No   \n",
       "2665    TN              74        415                 No             Yes   \n",
       "\n",
       "      Number vmail messages  Total day minutes  Total day calls  \\\n",
       "0                        25              265.1              110   \n",
       "1                        26              161.6              123   \n",
       "2                         0              243.4              114   \n",
       "3                         0              299.4               71   \n",
       "4                         0              166.7              113   \n",
       "...                     ...                ...              ...   \n",
       "2661                      0              134.7               98   \n",
       "2662                     36              156.2               77   \n",
       "2663                      0              231.1               57   \n",
       "2664                      0              180.8              109   \n",
       "2665                     25              234.4              113   \n",
       "\n",
       "      Total day charge  Total eve minutes  Total eve calls  Total eve charge  \\\n",
       "0                45.07              197.4               99             16.78   \n",
       "1                27.47              195.5              103             16.62   \n",
       "2                41.38              121.2              110             10.30   \n",
       "3                50.90               61.9               88              5.26   \n",
       "4                28.34              148.3              122             12.61   \n",
       "...                ...                ...              ...               ...   \n",
       "2661             22.90              189.7               68             16.12   \n",
       "2662             26.55              215.5              126             18.32   \n",
       "2663             39.29              153.4               55             13.04   \n",
       "2664             30.74              288.8               58             24.55   \n",
       "2665             39.85              265.9               82             22.60   \n",
       "\n",
       "      Total night minutes  Total night calls  Total night charge  \\\n",
       "0                   244.7                 91               11.01   \n",
       "1                   254.4                103               11.45   \n",
       "2                   162.6                104                7.32   \n",
       "3                   196.9                 89                8.86   \n",
       "4                   186.9                121                8.41   \n",
       "...                   ...                ...                 ...   \n",
       "2661                221.4                128                9.96   \n",
       "2662                279.1                 83               12.56   \n",
       "2663                191.3                123                8.61   \n",
       "2664                191.9                 91                8.64   \n",
       "2665                241.4                 77               10.86   \n",
       "\n",
       "      Total intl minutes  Total intl calls  Total intl charge  \\\n",
       "0                   10.0                 3               2.70   \n",
       "1                   13.7                 3               3.70   \n",
       "2                   12.2                 5               3.29   \n",
       "3                    6.6                 7               1.78   \n",
       "4                   10.1                 3               2.73   \n",
       "...                  ...               ...                ...   \n",
       "2661                11.8                 5               3.19   \n",
       "2662                 9.9                 6               2.67   \n",
       "2663                 9.6                 4               2.59   \n",
       "2664                14.1                 6               3.81   \n",
       "2665                13.7                 4               3.70   \n",
       "\n",
       "      Customer service calls  Churn  \n",
       "0                          1  False  \n",
       "1                          1  False  \n",
       "2                          0  False  \n",
       "3                          2  False  \n",
       "4                          3  False  \n",
       "...                      ...    ...  \n",
       "2661                       2  False  \n",
       "2662                       2  False  \n",
       "2663                       3  False  \n",
       "2664                       2  False  \n",
       "2665                       0  False  \n",
       "\n",
       "[2666 rows x 20 columns]"
      ]
     },
     "execution_count": 61,
     "metadata": {},
     "output_type": "execute_result"
    }
   ],
   "source": [
    "DATASET"
   ]
  },
  {
   "cell_type": "markdown",
   "metadata": {},
   "source": [
    "## PARTE 4.6: PAQUETE COLLECTIONS"
   ]
  },
  {
   "cell_type": "code",
   "execution_count": 63,
   "metadata": {},
   "outputs": [],
   "source": [
    "LISTA = [1,1,1,1,1,2,2,2,2,3,3,3,4,5]\n",
    "PALABRA = \"PYTHON2021\"\n",
    "TEXTO = \"PYTHON PYTHON PYTHON PYTHON PYTHON HOLA HOLA CHAU\""
   ]
  },
  {
   "cell_type": "code",
   "execution_count": 64,
   "metadata": {},
   "outputs": [],
   "source": [
    "from collections import Counter"
   ]
  },
  {
   "cell_type": "code",
   "execution_count": 73,
   "metadata": {},
   "outputs": [
    {
     "name": "stdout",
     "output_type": "stream",
     "text": [
      "Counter({1: 5, 2: 4, 3: 3, 4: 1, 5: 1})\n",
      "[(1, 5), (2, 4)]\n"
     ]
    }
   ],
   "source": [
    "#CONTEO EN UNA LISTA\n",
    "print(Counter(LISTA))\n",
    "print(Counter(LISTA).most_common(2))"
   ]
  },
  {
   "cell_type": "code",
   "execution_count": 74,
   "metadata": {},
   "outputs": [
    {
     "name": "stdout",
     "output_type": "stream",
     "text": [
      "Counter({'2': 2, 'P': 1, 'Y': 1, 'T': 1, 'H': 1, 'O': 1, 'N': 1, '0': 1, '1': 1})\n",
      "[('2', 2), ('P', 1)]\n"
     ]
    }
   ],
   "source": [
    "#CONTEO EN UNA CADENA\n",
    "print(Counter(PALABRA))\n",
    "print(Counter(PALABRA).most_common(2))"
   ]
  },
  {
   "cell_type": "code",
   "execution_count": 75,
   "metadata": {},
   "outputs": [
    {
     "name": "stdout",
     "output_type": "stream",
     "text": [
      "Counter({'H': 8, 'O': 7, ' ': 7, 'P': 5, 'Y': 5, 'T': 5, 'N': 5, 'A': 3, 'L': 2, 'C': 1, 'U': 1})\n",
      "[('H', 8), ('O', 7)]\n"
     ]
    }
   ],
   "source": [
    "#CONTEO EN UN TEXTO\n",
    "print(Counter(TEXTO))\n",
    "print(Counter(TEXTO).most_common(2))"
   ]
  },
  {
   "cell_type": "code",
   "execution_count": 76,
   "metadata": {},
   "outputs": [
    {
     "name": "stdout",
     "output_type": "stream",
     "text": [
      "Counter({'PYTHON': 5, 'HOLA': 2, 'CHAU': 1})\n",
      "[('PYTHON', 5), ('HOLA', 2)]\n"
     ]
    }
   ],
   "source": [
    "#CONTEO EN UN TEXTO\n",
    "print(Counter(TEXTO.split()))\n",
    "print(Counter(TEXTO.split()).most_common(2))"
   ]
  },
  {
   "cell_type": "code",
   "execution_count": null,
   "metadata": {},
   "outputs": [],
   "source": []
  },
  {
   "cell_type": "code",
   "execution_count": null,
   "metadata": {},
   "outputs": [],
   "source": []
  }
 ],
 "metadata": {
  "kernelspec": {
   "display_name": "Python 3",
   "language": "python",
   "name": "python3"
  },
  "language_info": {
   "codemirror_mode": {
    "name": "ipython",
    "version": 3
   },
   "file_extension": ".py",
   "mimetype": "text/x-python",
   "name": "python",
   "nbconvert_exporter": "python",
   "pygments_lexer": "ipython3",
   "version": "3.8.3"
  }
 },
 "nbformat": 4,
 "nbformat_minor": 4
}
