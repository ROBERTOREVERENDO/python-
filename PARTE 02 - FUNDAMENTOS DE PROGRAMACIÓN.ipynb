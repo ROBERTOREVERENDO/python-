{
 "cells": [
  {
   "cell_type": "markdown",
   "metadata": {},
   "source": [
    "# PARTE 2: FUNDAMENTOS DE PROGRAMACIÓN"
   ]
  },
  {
   "cell_type": "markdown",
   "metadata": {},
   "source": [
    "## PARTE 2.1: OPERACIONES ARITMÉTICAS BÁSICAS"
   ]
  },
  {
   "cell_type": "markdown",
   "metadata": {},
   "source": [
    "#### OPERACIONES"
   ]
  },
  {
   "cell_type": "code",
   "execution_count": 1,
   "metadata": {},
   "outputs": [
    {
     "name": "stdout",
     "output_type": "stream",
     "text": [
      "5\n",
      "10\n"
     ]
    }
   ],
   "source": [
    "#SUMA\n",
    "print(1+4)\n",
    "print(3+7)"
   ]
  },
  {
   "cell_type": "code",
   "execution_count": 2,
   "metadata": {},
   "outputs": [
    {
     "name": "stdout",
     "output_type": "stream",
     "text": [
      "-3\n",
      "-4\n"
     ]
    }
   ],
   "source": [
    "#RESTA\n",
    "print(1-4)\n",
    "print(3-7)"
   ]
  },
  {
   "cell_type": "code",
   "execution_count": 3,
   "metadata": {},
   "outputs": [
    {
     "name": "stdout",
     "output_type": "stream",
     "text": [
      "-4\n",
      "21\n"
     ]
    }
   ],
   "source": [
    "#MULTIPLICACIÓN\n",
    "print(1*-4)\n",
    "print(3*7)"
   ]
  },
  {
   "cell_type": "code",
   "execution_count": 4,
   "metadata": {},
   "outputs": [
    {
     "name": "stdout",
     "output_type": "stream",
     "text": [
      "0.25\n",
      "0.42857142857142855\n"
     ]
    }
   ],
   "source": [
    "#DIVISIÓN\n",
    "print(1/4)\n",
    "print(3/7)"
   ]
  },
  {
   "cell_type": "code",
   "execution_count": 5,
   "metadata": {},
   "outputs": [
    {
     "name": "stdout",
     "output_type": "stream",
     "text": [
      "1\n",
      "0\n"
     ]
    }
   ],
   "source": [
    "#MÓDULO - RESIDUO DE UNA DIVISIÓN\n",
    "print(7%2)\n",
    "print(8%2)"
   ]
  },
  {
   "cell_type": "code",
   "execution_count": 6,
   "metadata": {},
   "outputs": [
    {
     "name": "stdout",
     "output_type": "stream",
     "text": [
      "49\n",
      "49.0\n"
     ]
    }
   ],
   "source": [
    "#POTENCIA\n",
    "print(7**2)\n",
    "\n",
    "import math\n",
    "print(math.pow(7,2))"
   ]
  },
  {
   "cell_type": "code",
   "execution_count": 7,
   "metadata": {},
   "outputs": [
    {
     "name": "stdout",
     "output_type": "stream",
     "text": [
      "3.0\n",
      "3.0\n"
     ]
    }
   ],
   "source": [
    "#RAÍZ CUADRADA\n",
    "print(9**(1/2))\n",
    "\n",
    "print(math.sqrt(9))"
   ]
  },
  {
   "cell_type": "code",
   "execution_count": 8,
   "metadata": {},
   "outputs": [
    {
     "name": "stdout",
     "output_type": "stream",
     "text": [
      "200\n",
      "200\n"
     ]
    }
   ],
   "source": [
    "#VALOR ABSOLUTO\n",
    "print(abs(-200))\n",
    "print(abs(200))"
   ]
  },
  {
   "cell_type": "markdown",
   "metadata": {},
   "source": [
    "#### REDONDEO"
   ]
  },
  {
   "cell_type": "code",
   "execution_count": 9,
   "metadata": {},
   "outputs": [
    {
     "name": "stdout",
     "output_type": "stream",
     "text": [
      "11\n",
      "11\n"
     ]
    }
   ],
   "source": [
    "#REDONDEO CLÁSICO\n",
    "print(round(10.51))\n",
    "print(round(10.6))"
   ]
  },
  {
   "cell_type": "code",
   "execution_count": 10,
   "metadata": {},
   "outputs": [
    {
     "name": "stdout",
     "output_type": "stream",
     "text": [
      "11\n",
      "11\n"
     ]
    }
   ],
   "source": [
    "#REDONDEO HACIA ABAJO\n",
    "print(math.floor(11.999999))\n",
    "print(math.floor(11.1))"
   ]
  },
  {
   "cell_type": "code",
   "execution_count": 11,
   "metadata": {},
   "outputs": [
    {
     "name": "stdout",
     "output_type": "stream",
     "text": [
      "12\n",
      "12\n"
     ]
    }
   ],
   "source": [
    "#REDONDEO HACIA ARRIBA\n",
    "print(math.ceil(11.999999))\n",
    "print(math.ceil(11.1))"
   ]
  },
  {
   "cell_type": "code",
   "execution_count": 12,
   "metadata": {},
   "outputs": [
    {
     "name": "stdout",
     "output_type": "stream",
     "text": [
      "11\n",
      "11\n"
     ]
    }
   ],
   "source": [
    "#TRUNCAMIENTO\n",
    "print(math.trunc(11.99999))\n",
    "print(math.trunc(11.1))"
   ]
  },
  {
   "cell_type": "markdown",
   "metadata": {},
   "source": [
    "#### CONSTANTES MATEMÁTICAS"
   ]
  },
  {
   "cell_type": "code",
   "execution_count": 13,
   "metadata": {},
   "outputs": [
    {
     "data": {
      "text/plain": [
       "3.141592653589793"
      ]
     },
     "execution_count": 13,
     "metadata": {},
     "output_type": "execute_result"
    }
   ],
   "source": [
    "math.pi"
   ]
  },
  {
   "cell_type": "code",
   "execution_count": 14,
   "metadata": {},
   "outputs": [
    {
     "data": {
      "text/plain": [
       "2.718281828459045"
      ]
     },
     "execution_count": 14,
     "metadata": {},
     "output_type": "execute_result"
    }
   ],
   "source": [
    "math.e"
   ]
  },
  {
   "cell_type": "markdown",
   "metadata": {},
   "source": [
    "## PARTE 2.2: MANEJO DE CADENAS"
   ]
  },
  {
   "cell_type": "code",
   "execution_count": 15,
   "metadata": {},
   "outputs": [
    {
     "name": "stdout",
     "output_type": "stream",
     "text": [
      "HOLA MUNDO\n",
      "HOLA MUNDO\n",
      "HOLA BENJI\n",
      "HOLA NOMBRE\n"
     ]
    }
   ],
   "source": [
    "#IMPRIMIR UN MENSAJE EN CONSOLA\n",
    "print(\"HOLA MUNDO\")\n",
    "print('HOLA MUNDO')\n",
    "\n",
    "NOMBRE = \"BENJI\"\n",
    "\n",
    "print(\"HOLA\",NOMBRE) #VARIABLE \n",
    "print(\"HOLA\",\"NOMBRE\") #TEXTO \"NOMBRE\""
   ]
  },
  {
   "cell_type": "code",
   "execution_count": 16,
   "metadata": {},
   "outputs": [
    {
     "name": "stdout",
     "output_type": "stream",
     "text": [
      "HOLA ME DICEN 'BENJI' \n",
      "HOLA ME DICEN \"BENJI\" \n"
     ]
    }
   ],
   "source": [
    "#IMPRIMIR UN MENSAJE CON COMILLAS\n",
    "#HOLA ME DICEN \"BENJI\"\n",
    "print(\"HOLA ME DICEN 'BENJI' \")\n",
    "print('HOLA ME DICEN \"BENJI\" ')"
   ]
  },
  {
   "cell_type": "code",
   "execution_count": 17,
   "metadata": {},
   "outputs": [
    {
     "name": "stdout",
     "output_type": "stream",
     "text": [
      "HOLA ME DICEN \t'BENJI' \n"
     ]
    }
   ],
   "source": [
    "#TABULACIONES\n",
    "print(\"HOLA ME DICEN \\t'BENJI' \") "
   ]
  },
  {
   "cell_type": "code",
   "execution_count": 18,
   "metadata": {},
   "outputs": [
    {
     "name": "stdout",
     "output_type": "stream",
     "text": [
      "HOLA ME DICEN \n",
      "'BENJI' \n"
     ]
    }
   ],
   "source": [
    "#SALTO DE LÍNEA\n",
    "print(\"HOLA ME DICEN \\n'BENJI' \") "
   ]
  },
  {
   "cell_type": "code",
   "execution_count": 19,
   "metadata": {},
   "outputs": [
    {
     "name": "stdout",
     "output_type": "stream",
     "text": [
      "HOLA ME DICEN \\n\\t'BENJI' \n"
     ]
    }
   ],
   "source": [
    "#TEXTO SIN EJECUTAR COMANDOS\n",
    "print(r\"HOLA ME DICEN \\n\\t'BENJI' \") #raw"
   ]
  },
  {
   "cell_type": "code",
   "execution_count": 20,
   "metadata": {},
   "outputs": [
    {
     "name": "stdout",
     "output_type": "stream",
     "text": [
      "hola\n",
      "estoy \n",
      "estudiando\n",
      "python\n"
     ]
    }
   ],
   "source": [
    "#MOSTRAR VARIAS LÍNEAS\n",
    "print(\"\"\"hola\n",
    "estoy \n",
    "estudiando\n",
    "python\"\"\")"
   ]
  },
  {
   "cell_type": "code",
   "execution_count": 21,
   "metadata": {},
   "outputs": [
    {
     "name": "stdout",
     "output_type": "stream",
     "text": [
      "HOLA MUNDO\n",
      "HOLA  MUNDO\n"
     ]
    }
   ],
   "source": [
    "#SUMA DE CADENAS\n",
    "C1 = \"HOLA \"\n",
    "C2 = \"MUNDO\"\n",
    "print(C1+C2)\n",
    "print(C1,C2)"
   ]
  },
  {
   "cell_type": "code",
   "execution_count": 22,
   "metadata": {},
   "outputs": [
    {
     "name": "stdout",
     "output_type": "stream",
     "text": [
      "ABCABCABC\n",
      "ABCABCABC\n"
     ]
    }
   ],
   "source": [
    "#MULTIPLICACIÓN DE CADENAS\n",
    "C1 = \"ABC\"\n",
    "print(C1*3)\n",
    "print(C1+C1+C1)"
   ]
  },
  {
   "cell_type": "code",
   "execution_count": 23,
   "metadata": {},
   "outputs": [
    {
     "name": "stdout",
     "output_type": "stream",
     "text": [
      "L\n",
      "P\n",
      "Ú\n",
      "Ú\n"
     ]
    }
   ],
   "source": [
    "#ÍNDICES DE CADENAS\n",
    "#LIMA-PERÚ\n",
    "#(L)(I)(M)(A)(-)(P)(E)(R)(Ú)\n",
    "#(0)(1)(2)(3)(4)(5)(6)(7)(8)\n",
    "\n",
    "C1 = \"LIMA-PERÚ\"\n",
    "print(C1[0])\n",
    "print(C1[5])\n",
    "\n",
    "print(C1[8])\n",
    "print(C1[-1])"
   ]
  },
  {
   "cell_type": "code",
   "execution_count": 24,
   "metadata": {},
   "outputs": [
    {
     "name": "stdout",
     "output_type": "stream",
     "text": [
      "LIM\n",
      "-PE\n",
      "LIM\n",
      "-PERÚ\n",
      "LIMA-PERÚ\n"
     ]
    }
   ],
   "source": [
    "#SLICING DE CADENAS\n",
    "print(C1[0:3])\n",
    "print(C1[4:7])\n",
    "\n",
    "print(C1[:3])\n",
    "print(C1[4:])\n",
    "\n",
    "print(C1[:])"
   ]
  },
  {
   "cell_type": "code",
   "execution_count": 25,
   "metadata": {},
   "outputs": [],
   "source": [
    "#NO SE PUEDE MODIFICAR MEDIANTE SLICING O ÍNDICES\n",
    "C1 = \"LIMA-PERÚ\"\n",
    "C1[0] = \"X\""
   ]
  },
  {
   "cell_type": "code",
   "execution_count": 26,
   "metadata": {},
   "outputs": [
    {
     "name": "stdout",
     "output_type": "stream",
     "text": [
      "9\n"
     ]
    }
   ],
   "source": [
    "#LONGITUD DE UNA CADENA\n",
    "C1 = \"LIMA-PERÚ\"\n",
    "print(len(C1))"
   ]
  },
  {
   "cell_type": "code",
   "execution_count": 27,
   "metadata": {},
   "outputs": [
    {
     "name": "stdout",
     "output_type": "stream",
     "text": [
      "LA VACUNA DEL COVID-19\n"
     ]
    }
   ],
   "source": [
    "#FUNCIÓN UPPER --> VUELVE A MAYÚSCULAS LA CADENA\n",
    "texto = 'LA vacuna DEL COVID-19'\n",
    "print(texto.upper())"
   ]
  },
  {
   "cell_type": "code",
   "execution_count": 28,
   "metadata": {},
   "outputs": [
    {
     "name": "stdout",
     "output_type": "stream",
     "text": [
      "la vacuna del covid-19\n"
     ]
    }
   ],
   "source": [
    "#FUNCIÓN LOWER --> VUELVE A MINÚSCULAS LA CADENA\n",
    "texto = 'LA vacuna DEL COVID-19'\n",
    "print(texto.lower())"
   ]
  },
  {
   "cell_type": "code",
   "execution_count": 29,
   "metadata": {},
   "outputs": [
    {
     "name": "stdout",
     "output_type": "stream",
     "text": [
      "La vacuna del covid-19\n"
     ]
    }
   ],
   "source": [
    "#CAPITALIZE --> VUELVE MAYÚSCULA SOLO EL PRIMER CARACTER\n",
    "texto = 'LA vacuna DEL COVID-19'\n",
    "print(texto.capitalize())"
   ]
  },
  {
   "cell_type": "code",
   "execution_count": 30,
   "metadata": {},
   "outputs": [
    {
     "name": "stdout",
     "output_type": "stream",
     "text": [
      "La Vacuna Del Covid-19\n"
     ]
    }
   ],
   "source": [
    "#TITLE --> VUELVE MAYÚSCULA SOLO EL PRIMER CARACTER DE CADA PALABRA\n",
    "texto = 'LA vacuna DEL COVID-19'\n",
    "print(texto.title())"
   ]
  },
  {
   "cell_type": "code",
   "execution_count": 31,
   "metadata": {},
   "outputs": [
    {
     "name": "stdout",
     "output_type": "stream",
     "text": [
      "3\n",
      "0\n"
     ]
    }
   ],
   "source": [
    "#COUNT --> DEVUELVE LA CANTIDAD DE VECES QUE APARECE UNA CADENA EN OTRA\n",
    "texto = \"HOLA MUNDO MUNDO MUNDO\"\n",
    "print(texto.count(\"MUNDO\"))\n",
    "print(texto.count(\"mundo\"))"
   ]
  },
  {
   "cell_type": "code",
   "execution_count": 32,
   "metadata": {},
   "outputs": [
    {
     "name": "stdout",
     "output_type": "stream",
     "text": [
      "5\n",
      "-1\n"
     ]
    }
   ],
   "source": [
    "#FIND --> TE DICE LA PRIMERA POSICIÓN DESDE LA IZQUIERDA EN EL QUE SE ENCUENTRA UN TEXTO\n",
    "texto = \"HOLA MUNDO MUNDO MUNDO\"\n",
    "print(texto.find(\"MUNDO\"))\n",
    "print(texto.find(\"mundo\"))"
   ]
  },
  {
   "cell_type": "code",
   "execution_count": 33,
   "metadata": {},
   "outputs": [
    {
     "name": "stdout",
     "output_type": "stream",
     "text": [
      "17\n",
      "-1\n"
     ]
    }
   ],
   "source": [
    "#RFIND --> TE DICE LA PRIMERA POSICIÓN DESDE LA DERECHA EN EL QUE SE ENCUENTRA UN TEXTO\n",
    "texto = \"HOLA MUNDO MUNDO MUNDO\"\n",
    "print(texto.rfind(\"MUNDO\"))\n",
    "print(texto.rfind(\"mundo\"))"
   ]
  },
  {
   "cell_type": "code",
   "execution_count": 34,
   "metadata": {},
   "outputs": [
    {
     "name": "stdout",
     "output_type": "stream",
     "text": [
      "True\n",
      "False\n",
      "False\n",
      "False\n"
     ]
    }
   ],
   "source": [
    "#ISDIGIT --> True (CUANDO TODOS LOS CARACTERES SON CIFRAS)\n",
    "print(\"45245\".isdigit())\n",
    "print(\"45245.9\".isdigit())\n",
    "print(\"45245e\".isdigit())\n",
    "print(\"3.14159263\".isdigit())"
   ]
  },
  {
   "cell_type": "code",
   "execution_count": 35,
   "metadata": {},
   "outputs": [
    {
     "name": "stdout",
     "output_type": "stream",
     "text": [
      "True\n",
      "True\n",
      "True\n",
      "False\n"
     ]
    }
   ],
   "source": [
    "#ISALNUM --> True (CUANDO TODOS LOS CARACTERES SON ALFANUMÉRICOS)\n",
    "print(\"dfasdfQQQQQQQa3424\".isalnum())\n",
    "print(\"abcd5\".isalnum())\n",
    "print(\"12345\".isalnum())\n",
    "print(\"12345.6\".isalnum())"
   ]
  },
  {
   "cell_type": "code",
   "execution_count": 36,
   "metadata": {},
   "outputs": [
    {
     "name": "stdout",
     "output_type": "stream",
     "text": [
      "True\n",
      "True\n",
      "False\n",
      "False\n",
      "False\n",
      "True\n"
     ]
    }
   ],
   "source": [
    "#ISALPHA --> True (CUANDO TODOS LOS CARACTERES SON LETRAS)\n",
    "print(\"hola\".isalpha())\n",
    "print(\"Hola\".isalpha())\n",
    "print(\"Hola R2D2\".isalpha())\n",
    "print(\"Hola, soy Gokú\".isalpha())\n",
    "print(\"Hola soy Gokú\".isalpha())\n",
    "print(\"HolasoyGokú\".isalpha())"
   ]
  },
  {
   "cell_type": "code",
   "execution_count": 37,
   "metadata": {},
   "outputs": [
    {
     "name": "stdout",
     "output_type": "stream",
     "text": [
      "True\n",
      "True\n",
      "False\n",
      "False\n"
     ]
    }
   ],
   "source": [
    "#ISLOWER --> True (CUANDO TODOS LOS CARACTERES SON LETRAS MINÚSCULAS)\n",
    "print(\"hola\".islower())\n",
    "print(\"hola, soy gokú\".islower())\n",
    "print(\"Hola, soy gokú\".islower())\n",
    "print(\"1234\".islower())"
   ]
  },
  {
   "cell_type": "code",
   "execution_count": 38,
   "metadata": {},
   "outputs": [
    {
     "name": "stdout",
     "output_type": "stream",
     "text": [
      "True\n",
      "False\n",
      "False\n",
      "False\n"
     ]
    }
   ],
   "source": [
    "#ISUPPER --> True (CUANDO TODOS LOS CARACTERES SON LETRAS MAYÚSCULAS)\n",
    "print(\"HOLA\".isupper())\n",
    "print(\"hola, soy gokú\".isupper())\n",
    "print(\"Hola, soy gokú\".isupper())\n",
    "print(\"1234\".isupper())"
   ]
  },
  {
   "cell_type": "code",
   "execution_count": 39,
   "metadata": {},
   "outputs": [
    {
     "name": "stdout",
     "output_type": "stream",
     "text": [
      "True\n",
      "False\n"
     ]
    }
   ],
   "source": [
    "#ISTITLE --> True (CUANDO LA CADENA ES UN TÍTULO)\n",
    "print(\"Hola Soy Gokú\".istitle())\n",
    "print(\"HOLA SOY GOKÚ\".istitle())"
   ]
  },
  {
   "cell_type": "code",
   "execution_count": 40,
   "metadata": {},
   "outputs": [
    {
     "name": "stdout",
     "output_type": "stream",
     "text": [
      "True\n",
      "False\n"
     ]
    }
   ],
   "source": [
    "#ISSPACE --> True (CUANDO LA CADENA SOLO MUESTRA ESPACIOS)\n",
    "print(\"          \".isspace())\n",
    "print(\"           .     \".isspace())"
   ]
  },
  {
   "cell_type": "code",
   "execution_count": 41,
   "metadata": {},
   "outputs": [
    {
     "name": "stdout",
     "output_type": "stream",
     "text": [
      "True\n",
      "False\n"
     ]
    }
   ],
   "source": [
    "#STARSWITH --> True (SI LA CADENA EMPIEZA CON DETERMINADA CADENA)\n",
    "print(\"Hola Soy Gokú\".startswith(\"Hola\"))\n",
    "print(\"Hola Soy Gokú\".startswith(\"Gokú\"))"
   ]
  },
  {
   "cell_type": "code",
   "execution_count": 42,
   "metadata": {},
   "outputs": [
    {
     "name": "stdout",
     "output_type": "stream",
     "text": [
      "True\n",
      "False\n"
     ]
    }
   ],
   "source": [
    "#ENDSWITH --> True (SI LA CADENA CULMINA CON DETERMINADA CADENA)\n",
    "print(\"Hola Soy Gokú\".endswith(\"Gokú\"))\n",
    "print(\"Hola Soy Gokú\".endswith(\"Hola\"))"
   ]
  },
  {
   "cell_type": "code",
   "execution_count": 43,
   "metadata": {},
   "outputs": [
    {
     "name": "stdout",
     "output_type": "stream",
     "text": [
      "['HOLA', 'MUNDO', 'MUNDO', 'TIERRA', '2021']\n",
      "['HOLA ', 'NDO ', 'NDO TIERRA 2021']\n"
     ]
    }
   ],
   "source": [
    "#SPLIT --> TE PERMITE DIVIDIR UNA CADENA CON BASE EN ALGÚN CARACTER/CADENA\n",
    "print(\"HOLA MUNDO MUNDO TIERRA 2021\".split(\" \"))\n",
    "print(\"HOLA MUNDO MUNDO TIERRA 2021\".split(\"MU\"))"
   ]
  },
  {
   "cell_type": "code",
   "execution_count": 44,
   "metadata": {},
   "outputs": [
    {
     "name": "stdout",
     "output_type": "stream",
     "text": [
      "H.O.L.A. .M.U.N.D.O\n",
      "H.XYZ.O.XYZ.L.XYZ.A.XYZ. .XYZ.M.XYZ.U.XYZ.N.XYZ.D.XYZ.O\n"
     ]
    }
   ],
   "source": [
    "#JOIN --> TE PERMITE UNIR UNA CADENA CON BASE EN ALGÚN CARACTER/CADENA\n",
    "print(\".\".join(\"HOLA MUNDO\"))\n",
    "print(\".XYZ.\".join(\"HOLA MUNDO\"))"
   ]
  },
  {
   "cell_type": "code",
   "execution_count": 45,
   "metadata": {},
   "outputs": [
    {
     "name": "stdout",
     "output_type": "stream",
     "text": [
      "HOLA MUNDO\n",
      "HOLA MUNDO\n"
     ]
    }
   ],
   "source": [
    "#STRIP --> ELIMNA ALGÚN CARACTER O CADENA DEL INICIO Y FINAL\n",
    "print(\"          HOLA MUNDO                \".strip())\n",
    "print(\"_________________HOLA MUNDO______________\".strip(\"_\"))"
   ]
  },
  {
   "cell_type": "code",
   "execution_count": 46,
   "metadata": {},
   "outputs": [
    {
     "name": "stdout",
     "output_type": "stream",
     "text": [
      "H0L4 MUND0\n",
      "HOLA - - -\n",
      "HOLA - MUNDO MUNDO\n"
     ]
    }
   ],
   "source": [
    "#REPLACE --> REEMPLAZA UNA CADENA CON OTRA\n",
    "print(\"HOLA MUNDO\".replace(\"O\",\"0\").replace(\"A\",\"4\"))\n",
    "print(\"HOLA MUNDO MUNDO MUNDO\".replace(\"MUNDO\",\"-\"))\n",
    "print(\"HOLA MUNDO MUNDO MUNDO\".replace(\"MUNDO\",\"-\",1))"
   ]
  },
  {
   "cell_type": "code",
   "execution_count": 47,
   "metadata": {},
   "outputs": [
    {
     "name": "stdout",
     "output_type": "stream",
     "text": [
      "1202 LE NE SOMATSE ODNUM ALOH\n"
     ]
    }
   ],
   "source": [
    "#ALGORITMO PARA INVERTIR UNA CADENA\n",
    "cadena = 'HOLA MUNDO ESTAMOS EN EL 2021'\n",
    "print(cadena[::-1])"
   ]
  },
  {
   "cell_type": "markdown",
   "metadata": {},
   "source": [
    "## PARTE 2.3: TIPO DE DATO LÓGICO / BOOLEANO"
   ]
  },
  {
   "cell_type": "code",
   "execution_count": 48,
   "metadata": {},
   "outputs": [
    {
     "data": {
      "text/plain": [
       "False"
      ]
     },
     "execution_count": 48,
     "metadata": {},
     "output_type": "execute_result"
    }
   ],
   "source": [
    "2 == 5"
   ]
  },
  {
   "cell_type": "markdown",
   "metadata": {},
   "source": [
    "#### TRUE ---> 1"
   ]
  },
  {
   "cell_type": "code",
   "execution_count": 49,
   "metadata": {},
   "outputs": [
    {
     "data": {
      "text/plain": [
       "True"
      ]
     },
     "execution_count": 49,
     "metadata": {},
     "output_type": "execute_result"
    }
   ],
   "source": [
    "1==1"
   ]
  },
  {
   "cell_type": "code",
   "execution_count": 50,
   "metadata": {},
   "outputs": [
    {
     "data": {
      "text/plain": [
       "2"
      ]
     },
     "execution_count": 50,
     "metadata": {},
     "output_type": "execute_result"
    }
   ],
   "source": [
    "True + 1"
   ]
  },
  {
   "cell_type": "code",
   "execution_count": 51,
   "metadata": {},
   "outputs": [
    {
     "data": {
      "text/plain": [
       "3"
      ]
     },
     "execution_count": 51,
     "metadata": {},
     "output_type": "execute_result"
    }
   ],
   "source": [
    "(1==1)*3"
   ]
  },
  {
   "cell_type": "markdown",
   "metadata": {},
   "source": [
    "#### FALSE ---> 0"
   ]
  },
  {
   "cell_type": "code",
   "execution_count": 52,
   "metadata": {},
   "outputs": [
    {
     "data": {
      "text/plain": [
       "False"
      ]
     },
     "execution_count": 52,
     "metadata": {},
     "output_type": "execute_result"
    }
   ],
   "source": [
    "1==2"
   ]
  },
  {
   "cell_type": "code",
   "execution_count": 53,
   "metadata": {},
   "outputs": [
    {
     "data": {
      "text/plain": [
       "4"
      ]
     },
     "execution_count": 53,
     "metadata": {},
     "output_type": "execute_result"
    }
   ],
   "source": [
    "False + 4"
   ]
  },
  {
   "cell_type": "code",
   "execution_count": 54,
   "metadata": {},
   "outputs": [
    {
     "data": {
      "text/plain": [
       "0"
      ]
     },
     "execution_count": 54,
     "metadata": {},
     "output_type": "execute_result"
    }
   ],
   "source": [
    "(1==2)*3"
   ]
  },
  {
   "cell_type": "markdown",
   "metadata": {},
   "source": [
    "## PARTE 2.4: OPERADORES RELACIONALES"
   ]
  },
  {
   "cell_type": "code",
   "execution_count": 55,
   "metadata": {},
   "outputs": [
    {
     "name": "stdout",
     "output_type": "stream",
     "text": [
      "False\n",
      "True\n"
     ]
    }
   ],
   "source": [
    "#IGUAL QUE\n",
    "print(6==8)\n",
    "print(6==6)"
   ]
  },
  {
   "cell_type": "code",
   "execution_count": 56,
   "metadata": {},
   "outputs": [
    {
     "name": "stdout",
     "output_type": "stream",
     "text": [
      "True\n",
      "False\n"
     ]
    }
   ],
   "source": [
    "#DIFERENTE QUE\n",
    "print(6!=8)\n",
    "print(6!=6)"
   ]
  },
  {
   "cell_type": "code",
   "execution_count": 57,
   "metadata": {},
   "outputs": [
    {
     "name": "stdout",
     "output_type": "stream",
     "text": [
      "True\n",
      "False\n"
     ]
    }
   ],
   "source": [
    "#MAYOR QUE\n",
    "print(6>4)\n",
    "print(6>6)"
   ]
  },
  {
   "cell_type": "code",
   "execution_count": 58,
   "metadata": {},
   "outputs": [
    {
     "name": "stdout",
     "output_type": "stream",
     "text": [
      "False\n",
      "True\n"
     ]
    }
   ],
   "source": [
    "#MENOR QUE\n",
    "print(6<4)\n",
    "print(6<8)"
   ]
  },
  {
   "cell_type": "code",
   "execution_count": 59,
   "metadata": {},
   "outputs": [
    {
     "name": "stdout",
     "output_type": "stream",
     "text": [
      "True\n",
      "False\n"
     ]
    }
   ],
   "source": [
    "#MAYOR IGUAL QUE\n",
    "print(6>=4)\n",
    "print(6>=8)"
   ]
  },
  {
   "cell_type": "code",
   "execution_count": 60,
   "metadata": {},
   "outputs": [
    {
     "name": "stdout",
     "output_type": "stream",
     "text": [
      "False\n",
      "True\n"
     ]
    }
   ],
   "source": [
    "#MENOR IGUAL QUE\n",
    "print(6<=4)\n",
    "print(6<=8)"
   ]
  },
  {
   "cell_type": "code",
   "execution_count": 61,
   "metadata": {},
   "outputs": [
    {
     "data": {
      "text/plain": [
       "False"
      ]
     },
     "execution_count": 61,
     "metadata": {},
     "output_type": "execute_result"
    }
   ],
   "source": [
    "#COMPARACIÓN CON VARIABLES\n",
    "VAR = 10\n",
    "VAR + 1 == 10"
   ]
  },
  {
   "cell_type": "code",
   "execution_count": 62,
   "metadata": {},
   "outputs": [
    {
     "name": "stdout",
     "output_type": "stream",
     "text": [
      "False\n",
      "False\n"
     ]
    }
   ],
   "source": [
    "#COMPARACIÓN CON CADENAS\n",
    "C1 = \"HOLA\"\n",
    "C2 = \"Hola\"\n",
    "C3 = \"hola\"\n",
    "\n",
    "print(C1 == C2)\n",
    "print(C1 == C3)"
   ]
  },
  {
   "cell_type": "code",
   "execution_count": 63,
   "metadata": {},
   "outputs": [
    {
     "name": "stdout",
     "output_type": "stream",
     "text": [
      "True\n",
      "True\n"
     ]
    }
   ],
   "source": [
    "#OPERADORES RESUMIDOS\n",
    "print((1<5) and (5<8))\n",
    "print(1<5<8)"
   ]
  },
  {
   "cell_type": "code",
   "execution_count": 64,
   "metadata": {},
   "outputs": [
    {
     "name": "stdout",
     "output_type": "stream",
     "text": [
      "True\n",
      "True\n"
     ]
    }
   ],
   "source": [
    "print((10>5) and (5>3))\n",
    "print(10>5>3)"
   ]
  },
  {
   "cell_type": "markdown",
   "metadata": {},
   "source": [
    "## PARTE 2.5: OPERADORES LÓGICOS"
   ]
  },
  {
   "cell_type": "code",
   "execution_count": 65,
   "metadata": {},
   "outputs": [
    {
     "data": {
      "image/png": "[encoded data removed]",
      "text/plain": [
       "<IPython.core.display.Image object>"
      ]
     },
     "execution_count": 65,
     "metadata": {},
     "output_type": "execute_result"
    }
   ],
   "source": [
    "#PARA IMPORTAR IMÁGENES\n",
    "from IPython.display import Image\n",
    "Image(filename = \"RECURSOS - CERTIFICACIÓN/TABLAS DE VERDAD.png\")\n",
    "\n",
    "#TRUE -> UNIVERSO\n",
    "#FALSE -> VACÍO\n",
    "\n",
    "#AND -> INTERSECCIÓN\n",
    "#OR -> UNIÓN"
   ]
  },
  {
   "cell_type": "code",
   "execution_count": 66,
   "metadata": {},
   "outputs": [
    {
     "name": "stdout",
     "output_type": "stream",
     "text": [
      "False\n",
      "True\n",
      "False\n",
      "True\n"
     ]
    }
   ],
   "source": [
    "#NEGACIÓN\n",
    "print(not True)\n",
    "print(not False)\n",
    "\n",
    "print(not (1==1))\n",
    "print(not (2==1))"
   ]
  },
  {
   "cell_type": "code",
   "execution_count": 67,
   "metadata": {},
   "outputs": [
    {
     "name": "stdout",
     "output_type": "stream",
     "text": [
      "True\n",
      "False\n",
      "True\n",
      "False\n"
     ]
    }
   ],
   "source": [
    "#CONJUNCIÓN - AND\n",
    "print( (True) and (True) )\n",
    "print( (False) and (True) )\n",
    "\n",
    "print( (1==1) and (5>=2) )\n",
    "print( (1<5) and (4>7) )"
   ]
  },
  {
   "cell_type": "code",
   "execution_count": 68,
   "metadata": {},
   "outputs": [
    {
     "name": "stdout",
     "output_type": "stream",
     "text": [
      "True\n",
      "False\n",
      "True\n",
      "False\n"
     ]
    }
   ],
   "source": [
    "#DISYUNCIÓN - OR\n",
    "print( (True) or (True) )\n",
    "print( (False) or (False) )\n",
    "\n",
    "print( (1==1) or (5>=2) )\n",
    "print( (1<0) or (4>7) )"
   ]
  },
  {
   "cell_type": "markdown",
   "metadata": {},
   "source": [
    "## PARTE 2.6: OPERACIONES ANIDADAS\n",
    "\n",
    "Se deben solucionar teniendo en cuenta las siguientes reglas:\n",
    "* Los paréntesis\n",
    "* Las operaciones matemáticas (exp >> mult >> div >> sum >> res)\n",
    "* Las expresiones relacionales\n",
    "* Las expresiones lógicas"
   ]
  },
  {
   "cell_type": "code",
   "execution_count": 69,
   "metadata": {},
   "outputs": [
    {
     "data": {
      "text/plain": [
       "False"
      ]
     },
     "execution_count": 69,
     "metadata": {},
     "output_type": "execute_result"
    }
   ],
   "source": [
    "(((1==1) and (1>=3)) * 3 + 1) > 8 / 2\n",
    "#(((True) and (False)) * 3 + 1) > 8 / 2\n",
    "#((False) * 3 + 1) > 8 / 2\n",
    "#(0 + 1) > 8 / 2\n",
    "#(1) > 8 / 2\n",
    "#(1) > 4\n",
    "#False"
   ]
  },
  {
   "cell_type": "markdown",
   "metadata": {},
   "source": [
    "## PARTE 2.7: OPERACIONES DE ASIGNACIÓN"
   ]
  },
  {
   "cell_type": "code",
   "execution_count": 70,
   "metadata": {},
   "outputs": [
    {
     "name": "stdout",
     "output_type": "stream",
     "text": [
      "15\n"
     ]
    }
   ],
   "source": [
    "#ASIGNACIÓN SIMPLE\n",
    "VARIABLE = 10\n",
    "VARIABLE = VARIABLE + 5\n",
    "\n",
    "print(VARIABLE)"
   ]
  },
  {
   "cell_type": "code",
   "execution_count": 71,
   "metadata": {},
   "outputs": [
    {
     "name": "stdout",
     "output_type": "stream",
     "text": [
      "15\n"
     ]
    }
   ],
   "source": [
    "#SUMA EN ASIGNACIÓN\n",
    "VARIABLE = 10\n",
    "VARIABLE += 5\n",
    "\n",
    "print(VARIABLE)"
   ]
  },
  {
   "cell_type": "code",
   "execution_count": 72,
   "metadata": {},
   "outputs": [
    {
     "name": "stdout",
     "output_type": "stream",
     "text": [
      "5\n"
     ]
    }
   ],
   "source": [
    "#RESTA EN ASIGNACIÓN\n",
    "VARIABLE = 10\n",
    "VARIABLE -= 5\n",
    "\n",
    "print(VARIABLE)"
   ]
  },
  {
   "cell_type": "code",
   "execution_count": 73,
   "metadata": {},
   "outputs": [
    {
     "name": "stdout",
     "output_type": "stream",
     "text": [
      "50\n"
     ]
    }
   ],
   "source": [
    "#MULTIPLICACIÓN EN ASIGNACIÓN\n",
    "VARIABLE = 10\n",
    "VARIABLE *= 5\n",
    "\n",
    "print(VARIABLE)"
   ]
  },
  {
   "cell_type": "code",
   "execution_count": 74,
   "metadata": {},
   "outputs": [
    {
     "name": "stdout",
     "output_type": "stream",
     "text": [
      "2.0\n"
     ]
    }
   ],
   "source": [
    "#DIVISIÓN EN ASIGNACIÓN\n",
    "VARIABLE = 10\n",
    "VARIABLE /= 5\n",
    "\n",
    "print(VARIABLE)"
   ]
  },
  {
   "cell_type": "code",
   "execution_count": 75,
   "metadata": {},
   "outputs": [
    {
     "name": "stdout",
     "output_type": "stream",
     "text": [
      "0\n"
     ]
    }
   ],
   "source": [
    "#MÓDULO EN ASIGNACIÓN \n",
    "VARIABLE = 10\n",
    "VARIABLE %= 5\n",
    "\n",
    "print(VARIABLE)"
   ]
  },
  {
   "cell_type": "code",
   "execution_count": 76,
   "metadata": {},
   "outputs": [
    {
     "name": "stdout",
     "output_type": "stream",
     "text": [
      "100000\n"
     ]
    }
   ],
   "source": [
    "#POTENCIA EN ASIGNACIÓN\n",
    "VARIABLE = 10\n",
    "VARIABLE **= 5\n",
    "\n",
    "print(VARIABLE)"
   ]
  },
  {
   "cell_type": "markdown",
   "metadata": {},
   "source": [
    "## PARTE 2.8: ALEATORIOS CON RANDOM"
   ]
  },
  {
   "cell_type": "code",
   "execution_count": 83,
   "metadata": {},
   "outputs": [],
   "source": [
    "import random"
   ]
  },
  {
   "cell_type": "code",
   "execution_count": 87,
   "metadata": {},
   "outputs": [
    {
     "data": {
      "text/plain": [
       "0.024864130442670107"
      ]
     },
     "execution_count": 87,
     "metadata": {},
     "output_type": "execute_result"
    }
   ],
   "source": [
    "#GENERAR UN ALEATORIO DECIMAL ENTRE 0-1\n",
    "random.random()"
   ]
  },
  {
   "cell_type": "code",
   "execution_count": 92,
   "metadata": {},
   "outputs": [
    {
     "data": {
      "text/plain": [
       "22.214620815565652"
      ]
     },
     "execution_count": 92,
     "metadata": {},
     "output_type": "execute_result"
    }
   ],
   "source": [
    "#GENERAR UN ALEATORIO DECIMAL UNIFORME ENTRE 2 NÚMEROS\n",
    "random.uniform(20,30)"
   ]
  },
  {
   "cell_type": "code",
   "execution_count": 101,
   "metadata": {},
   "outputs": [
    {
     "data": {
      "text/plain": [
       "22"
      ]
     },
     "execution_count": 101,
     "metadata": {},
     "output_type": "execute_result"
    }
   ],
   "source": [
    "#GENERAR UN ALEATORIO ENTERO ENTRE 2 NÚMEROS\n",
    "random.randrange(20,30)\n",
    "random.randrange(30)"
   ]
  },
  {
   "cell_type": "code",
   "execution_count": 120,
   "metadata": {},
   "outputs": [
    {
     "data": {
      "text/plain": [
       "40"
      ]
     },
     "execution_count": 120,
     "metadata": {},
     "output_type": "execute_result"
    }
   ],
   "source": [
    "#GENERAR UN ALEATORIO ENTRE 2 NÚMEROS QUE SEAN MÚLTIPLOS DE \"N\"\n",
    "random.randrange(20,90,4)\n",
    "\n",
    "#límite inferior + múltiplo (N)"
   ]
  },
  {
   "cell_type": "code",
   "execution_count": 127,
   "metadata": {},
   "outputs": [
    {
     "data": {
      "text/plain": [
       "'H'"
      ]
     },
     "execution_count": 127,
     "metadata": {},
     "output_type": "execute_result"
    }
   ],
   "source": [
    "#ELECCIÓN DE CARACTER ALEATORIO\n",
    "CADENA = \"PYTHON-2021\"\n",
    "random.choice(CADENA)"
   ]
  },
  {
   "cell_type": "markdown",
   "metadata": {},
   "source": [
    "## PARTE 2.9: ALEATORIOS CON NUMPY"
   ]
  },
  {
   "cell_type": "code",
   "execution_count": 135,
   "metadata": {},
   "outputs": [],
   "source": [
    "import numpy"
   ]
  },
  {
   "cell_type": "code",
   "execution_count": 156,
   "metadata": {},
   "outputs": [
    {
     "data": {
      "text/plain": [
       "0.7647637195731221"
      ]
     },
     "execution_count": 156,
     "metadata": {},
     "output_type": "execute_result"
    }
   ],
   "source": [
    "#GENERAR UN ALEATORIO DECIMAL ENTRE 0-1\n",
    "numpy.random.random()"
   ]
  },
  {
   "cell_type": "code",
   "execution_count": 150,
   "metadata": {},
   "outputs": [
    {
     "data": {
      "text/plain": [
       "array([23, 27, 28, 22, 26])"
      ]
     },
     "execution_count": 150,
     "metadata": {},
     "output_type": "execute_result"
    }
   ],
   "source": [
    "#GENERAR UN ALEATORIO ENTERO ENTRE 2 NÚMEROS\n",
    "numpy.random.randint(20,30)\n",
    "numpy.random.randint(20)\n",
    "numpy.random.randint(20,30,5)"
   ]
  },
  {
   "cell_type": "code",
   "execution_count": 163,
   "metadata": {},
   "outputs": [
    {
     "data": {
      "text/plain": [
       "0.1915194503788923"
      ]
     },
     "execution_count": 163,
     "metadata": {},
     "output_type": "execute_result"
    }
   ],
   "source": [
    "#DEFINICIÓN DE LA SEMILLA EN LA GENERACIÓN DE NÚMEROS ALEATORIOS\n",
    "numpy.random.seed(1234)\n",
    "numpy.random.random()"
   ]
  },
  {
   "cell_type": "code",
   "execution_count": null,
   "metadata": {},
   "outputs": [],
   "source": []
  }
 ],
 "metadata": {
  "kernelspec": {
   "display_name": "Python 3",
   "language": "python",
   "name": "python3"
  },
  "language_info": {
   "codemirror_mode": {
    "name": "ipython",
    "version": 3
   },
   "file_extension": ".py",
   "mimetype": "text/x-python",
   "name": "python",
   "nbconvert_exporter": "python",
   "pygments_lexer": "ipython3",
   "version": "3.8.3"
  }
 },
 "nbformat": 4,
 "nbformat_minor": 4
}
