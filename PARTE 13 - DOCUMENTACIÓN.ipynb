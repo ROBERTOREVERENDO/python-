{
 "cells": [
  {
   "cell_type": "markdown",
   "metadata": {},
   "source": [
    "# PARTE 13: DOCUMENTACIÓN"
   ]
  },
  {
   "cell_type": "markdown",
   "metadata": {},
   "source": [
    "## PARTE 13.1: DOCUMENTACIÓN DE FUNCIONES"
   ]
  },
  {
   "cell_type": "code",
   "execution_count": 5,
   "metadata": {},
   "outputs": [],
   "source": [
    "def SUMA(A,B):\n",
    "    \"\"\"\n",
    "    DOCUMENTACIÓN DE LA FUNCIÓN SUMA:\n",
    "        AUTOR: BJNM\n",
    "        FECHA DE MODIFICACIÓN/CREACIÓN:\n",
    "            * V1.0 --> 25/12/2021 (BJNM)\n",
    "            * V1.1 --> 25/12/2021 (ABCD) \n",
    "        PARÁMETROS: A,B (ENTEROS O CADENAS)\n",
    "        RETORNO: SUMA O CONCATENACIÓN DE CADENAS\n",
    "        EXPLICACIÓN: ESTA ES UNA FUNCIÓN SENCILLA EXPLICATIVA\n",
    "    \"\"\"\n",
    "    return A+B"
   ]
  },
  {
   "cell_type": "code",
   "execution_count": 3,
   "metadata": {},
   "outputs": [
    {
     "data": {
      "text/plain": [
       "8"
      ]
     },
     "execution_count": 3,
     "metadata": {},
     "output_type": "execute_result"
    }
   ],
   "source": [
    "SUMA(3,5)"
   ]
  },
  {
   "cell_type": "code",
   "execution_count": 4,
   "metadata": {},
   "outputs": [
    {
     "data": {
      "text/plain": [
       "'AB'"
      ]
     },
     "execution_count": 4,
     "metadata": {},
     "output_type": "execute_result"
    }
   ],
   "source": [
    "SUMA(\"A\",\"B\")"
   ]
  },
  {
   "cell_type": "code",
   "execution_count": 6,
   "metadata": {},
   "outputs": [
    {
     "name": "stdout",
     "output_type": "stream",
     "text": [
      "Help on function SUMA in module __main__:\n",
      "\n",
      "SUMA(A, B)\n",
      "    DOCUMENTACIÓN DE LA FUNCIÓN SUMA:\n",
      "        AUTOR: BJNM\n",
      "        FECHA DE MODIFICACIÓN/CREACIÓN:\n",
      "            * V1.0 --> 25/12/2021 (BJNM)\n",
      "            * V1.1 --> 25/12/2021 (ABCD) \n",
      "        PARÁMETROS: A,B (ENTEROS O CADENAS)\n",
      "        RETORNO: SUMA O CONCATENACIÓN DE CADENAS\n",
      "        EXPLICACIÓN: ESTA ES UNA FUNCIÓN SENCILLA EXPLICATIVA\n",
      "\n"
     ]
    }
   ],
   "source": [
    "help(SUMA)"
   ]
  },
  {
   "cell_type": "markdown",
   "metadata": {},
   "source": [
    "## PARTE 13.2: DOCUMENTACIÓN DE CLASES"
   ]
  },
  {
   "cell_type": "code",
   "execution_count": 17,
   "metadata": {},
   "outputs": [],
   "source": [
    "class PERSONA:\n",
    "    \"\"\"\n",
    "    DOCUMENTACIÓN DE LA CLASE PERSONA:\n",
    "        AUTOR: BJNM\n",
    "        FECHA DE MODIFICACIÓN/CREACIÓN:\n",
    "            * V1.0 --> 25/12/2021 (BJNM)\n",
    "            * V1.1 --> 25/12/2021 (ABCD) \n",
    "        ATRIBUTOS: NOMBRE (CADENA)\n",
    "        MÉTODOS: CONSTRUCTOR, DENOTADOR, SALUDAR\n",
    "        EXPLICACIÓN: ESTA ES UNA CLASE SENCILLA EXPLICATIVA\n",
    "    \"\"\"\n",
    "    def __init__ (self, NOMBRE):\n",
    "        self.NOMBRE = NOMBRE\n",
    "        \n",
    "    def __str__(self):\n",
    "        return self.NOMBRE\n",
    "    \n",
    "    def SALUDAR(self):\n",
    "        \"\"\"\n",
    "        DOCUMENTACIÓN DEL MÉTODO SALUDAR:\n",
    "            AUTOR: BJNM\n",
    "            FECHA DE MODIFICACIÓN/CREACIÓN:\n",
    "                * V1.0 --> 25/12/2021 (BJNM)\n",
    "                * V1.1 --> 25/12/2021 (ABCD) \n",
    "            PARÁMETROS: \n",
    "            RETORNO: HOLA & NOMBRE\n",
    "            EXPLICACIÓN: ESTA ES UN MÉTODO SENCILLO EXPLICATIVO\n",
    "        \"\"\"\n",
    "        print(\"HOLA \",self.NOMBRE)"
   ]
  },
  {
   "cell_type": "code",
   "execution_count": 18,
   "metadata": {},
   "outputs": [],
   "source": [
    "P1 = PERSONA(\"JOAQUIN\")"
   ]
  },
  {
   "cell_type": "code",
   "execution_count": 19,
   "metadata": {},
   "outputs": [
    {
     "name": "stdout",
     "output_type": "stream",
     "text": [
      "JOAQUIN\n"
     ]
    }
   ],
   "source": [
    "print(P1)"
   ]
  },
  {
   "cell_type": "code",
   "execution_count": 20,
   "metadata": {},
   "outputs": [
    {
     "name": "stdout",
     "output_type": "stream",
     "text": [
      "HOLA  JOAQUIN\n"
     ]
    }
   ],
   "source": [
    "P1.SALUDAR()"
   ]
  },
  {
   "cell_type": "markdown",
   "metadata": {},
   "source": [
    "#### DOCUMENTACIÓN DE CLASE"
   ]
  },
  {
   "cell_type": "code",
   "execution_count": 21,
   "metadata": {},
   "outputs": [
    {
     "name": "stdout",
     "output_type": "stream",
     "text": [
      "Help on class PERSONA in module __main__:\n",
      "\n",
      "class PERSONA(builtins.object)\n",
      " |  PERSONA(NOMBRE)\n",
      " |  \n",
      " |  DOCUMENTACIÓN DE LA CLASE PERSONA:\n",
      " |      AUTOR: BJNM\n",
      " |      FECHA DE MODIFICACIÓN/CREACIÓN:\n",
      " |          * V1.0 --> 25/12/2021 (BJNM)\n",
      " |          * V1.1 --> 25/12/2021 (ABCD) \n",
      " |      ATRIBUTOS: NOMBRE (CADENA)\n",
      " |      MÉTODOS: CONSTRUCTOR, DENOTADOR, SALUDAR\n",
      " |      EXPLICACIÓN: ESTA ES UNA CLASE SENCILLA EXPLICATIVA\n",
      " |  \n",
      " |  Methods defined here:\n",
      " |  \n",
      " |  SALUDAR(self)\n",
      " |      DOCUMENTACIÓN DEL MÉTODO SALUDAR:\n",
      " |          AUTOR: BJNM\n",
      " |          FECHA DE MODIFICACIÓN/CREACIÓN:\n",
      " |              * V1.0 --> 25/12/2021 (BJNM)\n",
      " |              * V1.1 --> 25/12/2021 (ABCD) \n",
      " |          PARÁMETROS: \n",
      " |          RETORNO: HOLA & NOMBRE\n",
      " |          EXPLICACIÓN: ESTA ES UN MÉTODO SENCILLO EXPLICATIVO\n",
      " |  \n",
      " |  __init__(self, NOMBRE)\n",
      " |      Initialize self.  See help(type(self)) for accurate signature.\n",
      " |  \n",
      " |  __str__(self)\n",
      " |      Return str(self).\n",
      " |  \n",
      " |  ----------------------------------------------------------------------\n",
      " |  Data descriptors defined here:\n",
      " |  \n",
      " |  __dict__\n",
      " |      dictionary for instance variables (if defined)\n",
      " |  \n",
      " |  __weakref__\n",
      " |      list of weak references to the object (if defined)\n",
      "\n"
     ]
    }
   ],
   "source": [
    "help(PERSONA)"
   ]
  },
  {
   "cell_type": "code",
   "execution_count": 22,
   "metadata": {},
   "outputs": [
    {
     "name": "stdout",
     "output_type": "stream",
     "text": [
      "Help on PERSONA in module __main__ object:\n",
      "\n",
      "class PERSONA(builtins.object)\n",
      " |  PERSONA(NOMBRE)\n",
      " |  \n",
      " |  DOCUMENTACIÓN DE LA CLASE PERSONA:\n",
      " |      AUTOR: BJNM\n",
      " |      FECHA DE MODIFICACIÓN/CREACIÓN:\n",
      " |          * V1.0 --> 25/12/2021 (BJNM)\n",
      " |          * V1.1 --> 25/12/2021 (ABCD) \n",
      " |      ATRIBUTOS: NOMBRE (CADENA)\n",
      " |      MÉTODOS: CONSTRUCTOR, DENOTADOR, SALUDAR\n",
      " |      EXPLICACIÓN: ESTA ES UNA CLASE SENCILLA EXPLICATIVA\n",
      " |  \n",
      " |  Methods defined here:\n",
      " |  \n",
      " |  SALUDAR(self)\n",
      " |      DOCUMENTACIÓN DEL MÉTODO SALUDAR:\n",
      " |          AUTOR: BJNM\n",
      " |          FECHA DE MODIFICACIÓN/CREACIÓN:\n",
      " |              * V1.0 --> 25/12/2021 (BJNM)\n",
      " |              * V1.1 --> 25/12/2021 (ABCD) \n",
      " |          PARÁMETROS: \n",
      " |          RETORNO: HOLA & NOMBRE\n",
      " |          EXPLICACIÓN: ESTA ES UN MÉTODO SENCILLO EXPLICATIVO\n",
      " |  \n",
      " |  __init__(self, NOMBRE)\n",
      " |      Initialize self.  See help(type(self)) for accurate signature.\n",
      " |  \n",
      " |  __str__(self)\n",
      " |      Return str(self).\n",
      " |  \n",
      " |  ----------------------------------------------------------------------\n",
      " |  Data descriptors defined here:\n",
      " |  \n",
      " |  __dict__\n",
      " |      dictionary for instance variables (if defined)\n",
      " |  \n",
      " |  __weakref__\n",
      " |      list of weak references to the object (if defined)\n",
      "\n"
     ]
    }
   ],
   "source": [
    "help(P1)"
   ]
  },
  {
   "cell_type": "markdown",
   "metadata": {},
   "source": [
    "#### DOCUMENTACIÓN DE MÉTODO"
   ]
  },
  {
   "cell_type": "code",
   "execution_count": 23,
   "metadata": {},
   "outputs": [
    {
     "name": "stdout",
     "output_type": "stream",
     "text": [
      "Help on function SALUDAR in module __main__:\n",
      "\n",
      "SALUDAR(self)\n",
      "    DOCUMENTACIÓN DEL MÉTODO SALUDAR:\n",
      "        AUTOR: BJNM\n",
      "        FECHA DE MODIFICACIÓN/CREACIÓN:\n",
      "            * V1.0 --> 25/12/2021 (BJNM)\n",
      "            * V1.1 --> 25/12/2021 (ABCD) \n",
      "        PARÁMETROS: \n",
      "        RETORNO: HOLA & NOMBRE\n",
      "        EXPLICACIÓN: ESTA ES UN MÉTODO SENCILLO EXPLICATIVO\n",
      "\n"
     ]
    }
   ],
   "source": [
    "help(PERSONA.SALUDAR)"
   ]
  },
  {
   "cell_type": "code",
   "execution_count": 24,
   "metadata": {},
   "outputs": [
    {
     "name": "stdout",
     "output_type": "stream",
     "text": [
      "Help on method SALUDAR in module __main__:\n",
      "\n",
      "SALUDAR() method of __main__.PERSONA instance\n",
      "    DOCUMENTACIÓN DEL MÉTODO SALUDAR:\n",
      "        AUTOR: BJNM\n",
      "        FECHA DE MODIFICACIÓN/CREACIÓN:\n",
      "            * V1.0 --> 25/12/2021 (BJNM)\n",
      "            * V1.1 --> 25/12/2021 (ABCD) \n",
      "        PARÁMETROS: \n",
      "        RETORNO: HOLA & NOMBRE\n",
      "        EXPLICACIÓN: ESTA ES UN MÉTODO SENCILLO EXPLICATIVO\n",
      "\n"
     ]
    }
   ],
   "source": [
    "help(P1.SALUDAR)"
   ]
  },
  {
   "cell_type": "markdown",
   "metadata": {},
   "source": [
    "## PARTE 13.3: DOCUMENTACIÓN DE SCRIPTS"
   ]
  },
  {
   "cell_type": "code",
   "execution_count": 25,
   "metadata": {},
   "outputs": [],
   "source": [
    "import SCRIPT_DOC"
   ]
  },
  {
   "cell_type": "code",
   "execution_count": 26,
   "metadata": {},
   "outputs": [
    {
     "data": {
      "text/plain": [
       "8"
      ]
     },
     "execution_count": 26,
     "metadata": {},
     "output_type": "execute_result"
    }
   ],
   "source": [
    "SCRIPT_DOC.SUMA(3,5)"
   ]
  },
  {
   "cell_type": "code",
   "execution_count": 27,
   "metadata": {},
   "outputs": [
    {
     "name": "stdout",
     "output_type": "stream",
     "text": [
      "Help on module SCRIPT_DOC:\n",
      "\n",
      "NAME\n",
      "    SCRIPT_DOC\n",
      "\n",
      "DESCRIPTION\n",
      "    DOCUMENTACIÓN DEL SCRIPT_DOC:\n",
      "        AUTOR: BJNM\n",
      "        FECHA DE MODIFICACIÓN/CREACIÓN:\n",
      "            * V1.0 --> 25/12/2021 (BJNM)\n",
      "            * V1.1 --> 25/12/2021 (ABCD) \n",
      "        FUNCIONES INTERNAS: SUMA\n",
      "        EXPLICACIÓN: ESTA ES UIN SCRIPT SENCILLO EXPLICATIVO\n",
      "\n",
      "FUNCTIONS\n",
      "    SUMA(A, B)\n",
      "        DOCUMENTACIÓN DE LA FUNCIÓN SUMA:\n",
      "            AUTOR: BJNM\n",
      "            FECHA DE MODIFICACIÓN/CREACIÓN:\n",
      "                * V1.0 --> 25/12/2021 (BJNM)\n",
      "                * V1.1 --> 25/12/2021 (ABCD) \n",
      "            PARÁMETROS: A,B (ENTEROS O CADENAS)\n",
      "            RETORNO: SUMA O CONCATENACIÓN DE CADENAS\n",
      "            EXPLICACIÓN: ESTA ES UNA FUNCIÓN SENCILLA EXPLICATIVA\n",
      "\n",
      "FILE\n",
      "    c:\\users\\benjamin\\certificacion python\\script_doc.py\n",
      "\n",
      "\n"
     ]
    }
   ],
   "source": [
    "help(SCRIPT_DOC)"
   ]
  },
  {
   "cell_type": "code",
   "execution_count": 28,
   "metadata": {},
   "outputs": [
    {
     "name": "stdout",
     "output_type": "stream",
     "text": [
      "Help on function SUMA in module SCRIPT_DOC:\n",
      "\n",
      "SUMA(A, B)\n",
      "    DOCUMENTACIÓN DE LA FUNCIÓN SUMA:\n",
      "        AUTOR: BJNM\n",
      "        FECHA DE MODIFICACIÓN/CREACIÓN:\n",
      "            * V1.0 --> 25/12/2021 (BJNM)\n",
      "            * V1.1 --> 25/12/2021 (ABCD) \n",
      "        PARÁMETROS: A,B (ENTEROS O CADENAS)\n",
      "        RETORNO: SUMA O CONCATENACIÓN DE CADENAS\n",
      "        EXPLICACIÓN: ESTA ES UNA FUNCIÓN SENCILLA EXPLICATIVA\n",
      "\n"
     ]
    }
   ],
   "source": [
    "help(SCRIPT_DOC.SUMA)"
   ]
  },
  {
   "cell_type": "markdown",
   "metadata": {},
   "source": [
    "## PARTE 13.4: DOCUMENTACIÓN DE PAQUETE"
   ]
  },
  {
   "cell_type": "code",
   "execution_count": 34,
   "metadata": {},
   "outputs": [],
   "source": [
    "import PYTHON_TOTAL_DOC.FUNCION_PAQUETE as PYTH"
   ]
  },
  {
   "cell_type": "code",
   "execution_count": 35,
   "metadata": {},
   "outputs": [
    {
     "name": "stdout",
     "output_type": "stream",
     "text": [
      "ESTO ES UNA FUNCIÓN DENTRO DEL PAQUETE PYTHON TOTAL\n"
     ]
    }
   ],
   "source": [
    "PYTH.FUNCT_PYTHON_TOTAL()"
   ]
  },
  {
   "cell_type": "code",
   "execution_count": 36,
   "metadata": {},
   "outputs": [
    {
     "name": "stdout",
     "output_type": "stream",
     "text": [
      "Help on package PYTHON_TOTAL_DOC:\n",
      "\n",
      "NAME\n",
      "    PYTHON_TOTAL_DOC\n",
      "\n",
      "DESCRIPTION\n",
      "    DOCUMENTACIÓN DE PAQUETE PYTHON_TOTAL_DOC:\n",
      "        AUTOR: BJNM\n",
      "        FECHA DE MODIFICACIÓN/CREACIÓN:\n",
      "            * V1.0 --> 25/12/2021 (BJNM)\n",
      "            * V1.1 --> 25/12/2021 (ABCD) \n",
      "        FUNCIONES INTERNAS: XYZ\n",
      "        EXPLICACIÓN: ESTE ES UN PAQUETE SENCILLO EXPLICATIVO\n",
      "\n",
      "PACKAGE CONTENTS\n",
      "    FUNCION_PAQUETE\n",
      "    SUB_PYTHON_TOTAL (package)\n",
      "\n",
      "FILE\n",
      "    c:\\users\\benjamin\\anaconda3\\lib\\site-packages\\python_total_doc\\__init__.py\n",
      "\n",
      "\n"
     ]
    }
   ],
   "source": [
    "help(PYTHON_TOTAL_DOC)"
   ]
  },
  {
   "cell_type": "markdown",
   "metadata": {},
   "source": [
    "## PARTE 13.5: DOCUMENTACIÓN DESDE CONSOLA"
   ]
  },
  {
   "cell_type": "markdown",
   "metadata": {},
   "source": [
    "#### ACCESO AL PYDOC"
   ]
  },
  {
   "cell_type": "code",
   "execution_count": null,
   "metadata": {},
   "outputs": [],
   "source": [
    "pydoc -g"
   ]
  },
  {
   "cell_type": "markdown",
   "metadata": {},
   "source": [
    "#### ACCESO A DOCUMENTACIÓN DE PYTHON"
   ]
  },
  {
   "cell_type": "code",
   "execution_count": null,
   "metadata": {},
   "outputs": [],
   "source": [
    "pydoc -b"
   ]
  },
  {
   "cell_type": "markdown",
   "metadata": {},
   "source": [
    "#### ACCESO A DOCUMENTACIÓN EXISTENTE"
   ]
  },
  {
   "cell_type": "code",
   "execution_count": null,
   "metadata": {},
   "outputs": [],
   "source": [
    "pydoc NOMBRE_SCRIPT (desde la carpeta del script)\n",
    "pydoc NOMBRE_PAQUETE (desde cualquier lado si está distribuído)"
   ]
  },
  {
   "cell_type": "markdown",
   "metadata": {},
   "source": [
    "#### GENERACIÓN DE DOCUMENTACIÓN"
   ]
  },
  {
   "cell_type": "code",
   "execution_count": null,
   "metadata": {},
   "outputs": [],
   "source": [
    "pydoc -w NOMBRE_SCRIPT (desde la carpeta del script)\n",
    "pydoc -w NOMBRE_PAQUETE (desde cualquier lado si está distribuído)"
   ]
  }
 ],
 "metadata": {
  "kernelspec": {
   "display_name": "Python 3",
   "language": "python",
   "name": "python3"
  },
  "language_info": {
   "codemirror_mode": {
    "name": "ipython",
    "version": 3
   },
   "file_extension": ".py",
   "mimetype": "text/x-python",
   "name": "python",
   "nbconvert_exporter": "python",
   "pygments_lexer": "ipython3",
   "version": "3.8.3"
  }
 },
 "nbformat": 4,
 "nbformat_minor": 4
}
