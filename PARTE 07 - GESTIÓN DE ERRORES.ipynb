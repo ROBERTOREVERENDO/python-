{
 "cells": [
  {
   "cell_type": "markdown",
   "metadata": {},
   "source": [
    "# PARTE 7: GESTIÓN DE ERRORES"
   ]
  },
  {
   "cell_type": "markdown",
   "metadata": {},
   "source": [
    "## PARTE 7.1: BLOQUE TRY - EXCEPT - ELSE - FINALLY\n",
    "\n",
    "* TRY --> El bloque que se ejecuta con cuidado\n",
    "* EXCEPT --> El bloque que se va a ejecutar cuando falle el bloque try\n",
    "* ELSE --> El bloque que se va a ejcutar cuando no falle el bloque try\n",
    "* FINALLY --> El bloque que siempre se va a ejecutar"
   ]
  },
  {
   "cell_type": "markdown",
   "metadata": {},
   "source": [
    "#### ESCENARIO INICIAL"
   ]
  },
  {
   "cell_type": "code",
   "execution_count": 1,
   "metadata": {},
   "outputs": [
    {
     "name": "stdout",
     "output_type": "stream",
     "text": [
      "0.5\n"
     ]
    }
   ],
   "source": [
    "try:\n",
    "    VARIABLE = 1/2\n",
    "    print(VARIABLE)\n",
    "except:\n",
    "    print(\"El bloque try ha fallado\")"
   ]
  },
  {
   "cell_type": "code",
   "execution_count": 3,
   "metadata": {},
   "outputs": [
    {
     "ename": "ZeroDivisionError",
     "evalue": "division by zero",
     "output_type": "error",
     "traceback": [
      "\u001b[1;31m---------------------------------------------------------------------------\u001b[0m",
      "\u001b[1;31mZeroDivisionError\u001b[0m                         Traceback (most recent call last)",
      "\u001b[1;32m<ipython-input-3-4f9986cba6cd>\u001b[0m in \u001b[0;36m<module>\u001b[1;34m\u001b[0m\n\u001b[1;32m----> 1\u001b[1;33m \u001b[0mVARIABLE\u001b[0m \u001b[1;33m=\u001b[0m \u001b[1;36m1\u001b[0m\u001b[1;33m/\u001b[0m\u001b[1;36m0\u001b[0m\u001b[1;33m\u001b[0m\u001b[1;33m\u001b[0m\u001b[0m\n\u001b[0m\u001b[0;32m      2\u001b[0m \u001b[0mprint\u001b[0m\u001b[1;33m(\u001b[0m\u001b[0mVARIABLE\u001b[0m\u001b[1;33m)\u001b[0m\u001b[1;33m\u001b[0m\u001b[1;33m\u001b[0m\u001b[0m\n",
      "\u001b[1;31mZeroDivisionError\u001b[0m: division by zero"
     ]
    }
   ],
   "source": [
    "VARIABLE = 1/0\n",
    "print(VARIABLE)"
   ]
  },
  {
   "cell_type": "markdown",
   "metadata": {},
   "source": [
    "#### BLOQUE EXCEPT"
   ]
  },
  {
   "cell_type": "code",
   "execution_count": 2,
   "metadata": {},
   "outputs": [
    {
     "name": "stdout",
     "output_type": "stream",
     "text": [
      "El bloque try ha fallado\n"
     ]
    }
   ],
   "source": [
    "try:\n",
    "    VARIABLE = 1/0\n",
    "    print(VARIABLE)\n",
    "except:\n",
    "    print(\"El bloque try ha fallado\")"
   ]
  },
  {
   "cell_type": "code",
   "execution_count": 5,
   "metadata": {
    "scrolled": true
   },
   "outputs": [
    {
     "name": "stdout",
     "output_type": "stream",
     "text": [
      "Ingrese un valor:0\n",
      "El bloque try ha fallado\n"
     ]
    }
   ],
   "source": [
    "try:\n",
    "    VARIABLE = int(input(\"Ingrese un valor:\"))\n",
    "    print(1/VARIABLE)\n",
    "except:\n",
    "    print(\"El bloque try ha fallado\")"
   ]
  },
  {
   "cell_type": "code",
   "execution_count": 6,
   "metadata": {},
   "outputs": [
    {
     "name": "stdout",
     "output_type": "stream",
     "text": [
      "Ingrese un valor:0\n",
      "El bloque try ha fallado\n",
      "Ingrese un valor:0\n",
      "El bloque try ha fallado\n",
      "Ingrese un valor:0\n",
      "El bloque try ha fallado\n",
      "Ingrese un valor:0\n",
      "El bloque try ha fallado\n",
      "Ingrese un valor:0\n",
      "El bloque try ha fallado\n",
      "Ingrese un valor:0\n",
      "El bloque try ha fallado\n",
      "Ingrese un valor:4\n",
      "0.25\n"
     ]
    }
   ],
   "source": [
    "while(True):\n",
    "    try:\n",
    "        VARIABLE = int(input(\"Ingrese un valor:\"))\n",
    "        print(1/VARIABLE)\n",
    "        break #OBLIGA A PYTHON A QUE TODO EL BLOQUE TRY SE EJECUTE CORRECTAMENTE\n",
    "    except:\n",
    "        print(\"El bloque try ha fallado\")"
   ]
  },
  {
   "cell_type": "markdown",
   "metadata": {},
   "source": [
    "#### BLOQUE ELSE"
   ]
  },
  {
   "cell_type": "code",
   "execution_count": 8,
   "metadata": {},
   "outputs": [
    {
     "name": "stdout",
     "output_type": "stream",
     "text": [
      "Ingrese un valor:0\n",
      "El bloque try ha fallado\n",
      "Ingrese un valor:0\n",
      "El bloque try ha fallado\n",
      "Ingrese un valor:0\n",
      "El bloque try ha fallado\n",
      "Ingrese un valor:0\n",
      "El bloque try ha fallado\n",
      "Ingrese un valor:0\n",
      "El bloque try ha fallado\n",
      "Ingrese un valor:4\n",
      "0.25\n",
      "El bloque try no ha fallado\n"
     ]
    }
   ],
   "source": [
    "while(True):\n",
    "    try:\n",
    "        VARIABLE = int(input(\"Ingrese un valor:\"))\n",
    "        print(1/VARIABLE)\n",
    "    except:\n",
    "        print(\"El bloque try ha fallado\")\n",
    "    else:\n",
    "        print(\"El bloque try no ha fallado\")\n",
    "        break #OBLIGA A PYTHON A QUE TODO EL BLOQUE TRY SE EJECUTE CORRECTAMENTE"
   ]
  },
  {
   "cell_type": "markdown",
   "metadata": {},
   "source": [
    "#### BLOQUE FINALLY"
   ]
  },
  {
   "cell_type": "code",
   "execution_count": 10,
   "metadata": {},
   "outputs": [
    {
     "name": "stdout",
     "output_type": "stream",
     "text": [
      "Ingrese un valor:0\n",
      "El bloque try ha fallado\n",
      "Finalizó una ejecución\n",
      "Ingrese un valor:0\n",
      "El bloque try ha fallado\n",
      "Finalizó una ejecución\n",
      "Ingrese un valor:0\n",
      "El bloque try ha fallado\n",
      "Finalizó una ejecución\n",
      "Ingrese un valor:0\n",
      "El bloque try ha fallado\n",
      "Finalizó una ejecución\n",
      "Ingrese un valor:5\n",
      "0.2\n",
      "El bloque try no ha fallado\n",
      "Finalizó una ejecución\n"
     ]
    }
   ],
   "source": [
    "while(True):\n",
    "    try:\n",
    "        VARIABLE = int(input(\"Ingrese un valor:\"))\n",
    "        print(1/VARIABLE)\n",
    "    except:\n",
    "        print(\"El bloque try ha fallado\")\n",
    "    else:\n",
    "        print(\"El bloque try no ha fallado\")\n",
    "        break #OBLIGA A PYTHON A QUE TODO EL BLOQUE TRY SE EJECUTE CORRECTAMENTE\n",
    "    finally:\n",
    "        print(\"Finalizó una ejecución\")"
   ]
  },
  {
   "cell_type": "markdown",
   "metadata": {},
   "source": [
    "## PARTE 7.2: EXCEPCIONES MÚLTIPLES"
   ]
  },
  {
   "cell_type": "code",
   "execution_count": 12,
   "metadata": {},
   "outputs": [
    {
     "name": "stdout",
     "output_type": "stream",
     "text": [
      "Ingrese un valor:0\n",
      "ZeroDivisionError\n",
      "Ingrese un valor:hola\n",
      "ValueError\n",
      "Ingrese un valor:4\n",
      "0.25\n"
     ]
    }
   ],
   "source": [
    "while(True):\n",
    "    try:\n",
    "        VARIABLE = int(input(\"Ingrese un valor:\"))\n",
    "        print(1/VARIABLE)\n",
    "        break\n",
    "    except Exception as Error:\n",
    "        print(type(Error).__name__)"
   ]
  },
  {
   "cell_type": "code",
   "execution_count": 14,
   "metadata": {},
   "outputs": [
    {
     "name": "stdout",
     "output_type": "stream",
     "text": [
      "Ingrese un valor:0\n",
      "Ha ocurrido un error de tipo 'ZeroDivisionError'\n",
      "Finalizó una ejecución\n",
      "Ingrese un valor:hola\n",
      "Ha ocurrido un error de tipo 'ValueError'\n",
      "Finalizó una ejecución\n",
      "Ingrese un valor:4\n",
      "0.25\n",
      "El bloque try no ha fallado\n",
      "Finalizó una ejecución\n"
     ]
    }
   ],
   "source": [
    "while(True):\n",
    "    try:\n",
    "        VARIABLE = int(input(\"Ingrese un valor:\"))\n",
    "        print(1/VARIABLE)\n",
    "    except ZeroDivisionError:\n",
    "        print(\"Ha ocurrido un error de tipo 'ZeroDivisionError'\")\n",
    "    except ValueError:\n",
    "        print(\"Ha ocurrido un error de tipo 'ValueError'\")\n",
    "    except Exception as Error:\n",
    "        print(type(Error).__name__)\n",
    "    else:\n",
    "        print(\"El bloque try no ha fallado\")\n",
    "        break \n",
    "    finally:\n",
    "        print(\"Finalizó una ejecución\")"
   ]
  },
  {
   "cell_type": "markdown",
   "metadata": {},
   "source": [
    "## PARTE 7.3: FUNCIÓN RAISE"
   ]
  },
  {
   "cell_type": "code",
   "execution_count": 19,
   "metadata": {},
   "outputs": [
    {
     "name": "stdout",
     "output_type": "stream",
     "text": [
      "Ingrese un valor:50\n",
      "0.02\n",
      "El bloque try no ha fallado\n",
      "Finalizó una ejecución\n"
     ]
    }
   ],
   "source": [
    "while(True):\n",
    "    try:\n",
    "        VARIABLE = int(input(\"Ingrese un valor:\"))\n",
    "        \n",
    "        if VARIABLE == 10:\n",
    "            raise ZeroDivisionError\n",
    "            \n",
    "        if VARIABLE == 20:\n",
    "            raise ValueError\n",
    "           \n",
    "        print(1/VARIABLE)\n",
    "    except ZeroDivisionError:\n",
    "        print(\"Ha ocurrido un error de tipo 'ZeroDivisionError'\")\n",
    "    except ValueError:\n",
    "        print(\"Ha ocurrido un error de tipo 'ValueError'\")        \n",
    "    except Exception as Error:\n",
    "        print(type(Error).__name__)\n",
    "    else:\n",
    "        print(\"El bloque try no ha fallado\")\n",
    "        break \n",
    "    finally:\n",
    "        print(\"Finalizó una ejecución\")"
   ]
  },
  {
   "cell_type": "code",
   "execution_count": null,
   "metadata": {},
   "outputs": [],
   "source": []
  },
  {
   "cell_type": "code",
   "execution_count": null,
   "metadata": {},
   "outputs": [],
   "source": []
  }
 ],
 "metadata": {
  "kernelspec": {
   "display_name": "Python 3",
   "language": "python",
   "name": "python3"
  },
  "language_info": {
   "codemirror_mode": {
    "name": "ipython",
    "version": 3
   },
   "file_extension": ".py",
   "mimetype": "text/x-python",
   "name": "python",
   "nbconvert_exporter": "python",
   "pygments_lexer": "ipython3",
   "version": "3.8.3"
  }
 },
 "nbformat": 4,
 "nbformat_minor": 4
}
